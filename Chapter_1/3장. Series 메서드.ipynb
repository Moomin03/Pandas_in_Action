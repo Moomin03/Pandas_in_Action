{
 "cells": [
  {
   "cell_type": "code",
   "execution_count": 85,
   "id": "53ef96f5-1d84-4fe5-a29e-33de5c0e51e8",
   "metadata": {},
   "outputs": [],
   "source": [
    "# 먼저 판다스 라이브러리 불러옵시다.\n",
    "import pandas as pd"
   ]
  },
  {
   "cell_type": "code",
   "execution_count": 87,
   "id": "51497160-2820-4d80-8cfb-658d0c06ad01",
   "metadata": {},
   "outputs": [
    {
     "data": {
      "text/html": [
       "<div>\n",
       "<style scoped>\n",
       "    .dataframe tbody tr th:only-of-type {\n",
       "        vertical-align: middle;\n",
       "    }\n",
       "\n",
       "    .dataframe tbody tr th {\n",
       "        vertical-align: top;\n",
       "    }\n",
       "\n",
       "    .dataframe thead th {\n",
       "        text-align: right;\n",
       "    }\n",
       "</style>\n",
       "<table border=\"1\" class=\"dataframe\">\n",
       "  <thead>\n",
       "    <tr style=\"text-align: right;\">\n",
       "      <th></th>\n",
       "      <th>Pokemon</th>\n",
       "      <th>Type</th>\n",
       "    </tr>\n",
       "  </thead>\n",
       "  <tbody>\n",
       "    <tr>\n",
       "      <th>0</th>\n",
       "      <td>Bulbasaur</td>\n",
       "      <td>Grass / Poison</td>\n",
       "    </tr>\n",
       "    <tr>\n",
       "      <th>1</th>\n",
       "      <td>Ivysaur</td>\n",
       "      <td>Grass / Poison</td>\n",
       "    </tr>\n",
       "    <tr>\n",
       "      <th>2</th>\n",
       "      <td>Venusaur</td>\n",
       "      <td>Grass / Poison</td>\n",
       "    </tr>\n",
       "    <tr>\n",
       "      <th>3</th>\n",
       "      <td>Charmander</td>\n",
       "      <td>Fire</td>\n",
       "    </tr>\n",
       "    <tr>\n",
       "      <th>4</th>\n",
       "      <td>Charmeleon</td>\n",
       "      <td>Fire</td>\n",
       "    </tr>\n",
       "  </tbody>\n",
       "</table>\n",
       "</div>"
      ],
      "text/plain": [
       "      Pokemon            Type\n",
       "0   Bulbasaur  Grass / Poison\n",
       "1     Ivysaur  Grass / Poison\n",
       "2    Venusaur  Grass / Poison\n",
       "3  Charmander            Fire\n",
       "4  Charmeleon            Fire"
      ]
     },
     "execution_count": 87,
     "metadata": {},
     "output_type": "execute_result"
    }
   ],
   "source": [
    "# read_csv는 파일 경로를 지정하고, 해당 파일을 불러오는 역할을 합니다.\n",
    "pd.read_csv(filepath_or_buffer='pokemon.csv').head()"
   ]
  },
  {
   "cell_type": "code",
   "execution_count": 89,
   "id": "fa313ba2-f721-4a82-9dfe-c1660f04e7e4",
   "metadata": {},
   "outputs": [
    {
     "data": {
      "text/html": [
       "<div>\n",
       "<style scoped>\n",
       "    .dataframe tbody tr th:only-of-type {\n",
       "        vertical-align: middle;\n",
       "    }\n",
       "\n",
       "    .dataframe tbody tr th {\n",
       "        vertical-align: top;\n",
       "    }\n",
       "\n",
       "    .dataframe thead th {\n",
       "        text-align: right;\n",
       "    }\n",
       "</style>\n",
       "<table border=\"1\" class=\"dataframe\">\n",
       "  <thead>\n",
       "    <tr style=\"text-align: right;\">\n",
       "      <th></th>\n",
       "      <th>Type</th>\n",
       "    </tr>\n",
       "    <tr>\n",
       "      <th>Pokemon</th>\n",
       "      <th></th>\n",
       "    </tr>\n",
       "  </thead>\n",
       "  <tbody>\n",
       "    <tr>\n",
       "      <th>Bulbasaur</th>\n",
       "      <td>Grass / Poison</td>\n",
       "    </tr>\n",
       "    <tr>\n",
       "      <th>Ivysaur</th>\n",
       "      <td>Grass / Poison</td>\n",
       "    </tr>\n",
       "    <tr>\n",
       "      <th>Venusaur</th>\n",
       "      <td>Grass / Poison</td>\n",
       "    </tr>\n",
       "    <tr>\n",
       "      <th>Charmander</th>\n",
       "      <td>Fire</td>\n",
       "    </tr>\n",
       "    <tr>\n",
       "      <th>Charmeleon</th>\n",
       "      <td>Fire</td>\n",
       "    </tr>\n",
       "  </tbody>\n",
       "</table>\n",
       "</div>"
      ],
      "text/plain": [
       "                      Type\n",
       "Pokemon                   \n",
       "Bulbasaur   Grass / Poison\n",
       "Ivysaur     Grass / Poison\n",
       "Venusaur    Grass / Poison\n",
       "Charmander            Fire\n",
       "Charmeleon            Fire"
      ]
     },
     "execution_count": 89,
     "metadata": {},
     "output_type": "execute_result"
    }
   ],
   "source": [
    "# 인덱스를 직접 지정할 수 있다고 전 챕터에서 말했죠?\n",
    "pd.read_csv(filepath_or_buffer='pokemon.csv',\n",
    "            index_col='Pokemon').head()"
   ]
  },
  {
   "cell_type": "code",
   "execution_count": 90,
   "id": "c83cc5a8-cbcd-49e0-a1cd-89be7b06f37f",
   "metadata": {},
   "outputs": [],
   "source": [
    "# 변수를 할당하지 않으면 저장되지 않습니다.\n",
    "pokemon = pd.read_csv(filepath_or_buffer='pokemon.csv',\n",
    "                      index_col='Pokemon')"
   ]
  },
  {
   "cell_type": "code",
   "execution_count": 91,
   "id": "17348a7b-ad07-4ca3-85d1-68a7d5988d88",
   "metadata": {},
   "outputs": [
    {
     "data": {
      "text/html": [
       "<div>\n",
       "<style scoped>\n",
       "    .dataframe tbody tr th:only-of-type {\n",
       "        vertical-align: middle;\n",
       "    }\n",
       "\n",
       "    .dataframe tbody tr th {\n",
       "        vertical-align: top;\n",
       "    }\n",
       "\n",
       "    .dataframe thead th {\n",
       "        text-align: right;\n",
       "    }\n",
       "</style>\n",
       "<table border=\"1\" class=\"dataframe\">\n",
       "  <thead>\n",
       "    <tr style=\"text-align: right;\">\n",
       "      <th></th>\n",
       "      <th>Date</th>\n",
       "      <th>Close</th>\n",
       "    </tr>\n",
       "  </thead>\n",
       "  <tbody>\n",
       "    <tr>\n",
       "      <th>0</th>\n",
       "      <td>2004-08-19</td>\n",
       "      <td>49.98</td>\n",
       "    </tr>\n",
       "    <tr>\n",
       "      <th>1</th>\n",
       "      <td>2004-08-20</td>\n",
       "      <td>53.95</td>\n",
       "    </tr>\n",
       "    <tr>\n",
       "      <th>2</th>\n",
       "      <td>2004-08-23</td>\n",
       "      <td>54.50</td>\n",
       "    </tr>\n",
       "    <tr>\n",
       "      <th>3</th>\n",
       "      <td>2004-08-24</td>\n",
       "      <td>52.24</td>\n",
       "    </tr>\n",
       "    <tr>\n",
       "      <th>4</th>\n",
       "      <td>2004-08-25</td>\n",
       "      <td>52.80</td>\n",
       "    </tr>\n",
       "  </tbody>\n",
       "</table>\n",
       "</div>"
      ],
      "text/plain": [
       "         Date  Close\n",
       "0  2004-08-19  49.98\n",
       "1  2004-08-20  53.95\n",
       "2  2004-08-23  54.50\n",
       "3  2004-08-24  52.24\n",
       "4  2004-08-25  52.80"
      ]
     },
     "execution_count": 91,
     "metadata": {},
     "output_type": "execute_result"
    }
   ],
   "source": [
    "# 주식 데이터도 불러와보죠\n",
    "pd.read_csv('google_stocks.csv').head()"
   ]
  },
  {
   "cell_type": "code",
   "execution_count": 93,
   "id": "e7cbf968-bdc3-466e-86fc-81fe36c8a4f6",
   "metadata": {},
   "outputs": [
    {
     "data": {
      "text/html": [
       "<div>\n",
       "<style scoped>\n",
       "    .dataframe tbody tr th:only-of-type {\n",
       "        vertical-align: middle;\n",
       "    }\n",
       "\n",
       "    .dataframe tbody tr th {\n",
       "        vertical-align: top;\n",
       "    }\n",
       "\n",
       "    .dataframe thead th {\n",
       "        text-align: right;\n",
       "    }\n",
       "</style>\n",
       "<table border=\"1\" class=\"dataframe\">\n",
       "  <thead>\n",
       "    <tr style=\"text-align: right;\">\n",
       "      <th></th>\n",
       "      <th>Date</th>\n",
       "      <th>Close</th>\n",
       "    </tr>\n",
       "  </thead>\n",
       "  <tbody>\n",
       "    <tr>\n",
       "      <th>0</th>\n",
       "      <td>2004-08-19</td>\n",
       "      <td>49.98</td>\n",
       "    </tr>\n",
       "    <tr>\n",
       "      <th>1</th>\n",
       "      <td>2004-08-20</td>\n",
       "      <td>53.95</td>\n",
       "    </tr>\n",
       "    <tr>\n",
       "      <th>2</th>\n",
       "      <td>2004-08-23</td>\n",
       "      <td>54.50</td>\n",
       "    </tr>\n",
       "    <tr>\n",
       "      <th>3</th>\n",
       "      <td>2004-08-24</td>\n",
       "      <td>52.24</td>\n",
       "    </tr>\n",
       "    <tr>\n",
       "      <th>4</th>\n",
       "      <td>2004-08-25</td>\n",
       "      <td>52.80</td>\n",
       "    </tr>\n",
       "  </tbody>\n",
       "</table>\n",
       "</div>"
      ],
      "text/plain": [
       "        Date  Close\n",
       "0 2004-08-19  49.98\n",
       "1 2004-08-20  53.95\n",
       "2 2004-08-23  54.50\n",
       "3 2004-08-24  52.24\n",
       "4 2004-08-25  52.80"
      ]
     },
     "execution_count": 93,
     "metadata": {},
     "output_type": "execute_result"
    }
   ],
   "source": [
    "# parse_dates는 해당 열을 데이터형으로 지정하는거죠.\n",
    "pd.read_csv(filepath_or_buffer='google_stocks.csv',\n",
    "            parse_dates=['Date']).head()"
   ]
  },
  {
   "cell_type": "code",
   "execution_count": 7,
   "id": "f91b9b3c-cd8f-4c10-b1fe-390e6fa1285b",
   "metadata": {},
   "outputs": [
    {
     "data": {
      "text/html": [
       "<div>\n",
       "<style scoped>\n",
       "    .dataframe tbody tr th:only-of-type {\n",
       "        vertical-align: middle;\n",
       "    }\n",
       "\n",
       "    .dataframe tbody tr th {\n",
       "        vertical-align: top;\n",
       "    }\n",
       "\n",
       "    .dataframe thead th {\n",
       "        text-align: right;\n",
       "    }\n",
       "</style>\n",
       "<table border=\"1\" class=\"dataframe\">\n",
       "  <thead>\n",
       "    <tr style=\"text-align: right;\">\n",
       "      <th></th>\n",
       "      <th>Close</th>\n",
       "    </tr>\n",
       "    <tr>\n",
       "      <th>Date</th>\n",
       "      <th></th>\n",
       "    </tr>\n",
       "  </thead>\n",
       "  <tbody>\n",
       "    <tr>\n",
       "      <th>2004-08-19</th>\n",
       "      <td>49.98</td>\n",
       "    </tr>\n",
       "    <tr>\n",
       "      <th>2004-08-20</th>\n",
       "      <td>53.95</td>\n",
       "    </tr>\n",
       "    <tr>\n",
       "      <th>2004-08-23</th>\n",
       "      <td>54.50</td>\n",
       "    </tr>\n",
       "    <tr>\n",
       "      <th>2004-08-24</th>\n",
       "      <td>52.24</td>\n",
       "    </tr>\n",
       "    <tr>\n",
       "      <th>2004-08-25</th>\n",
       "      <td>52.80</td>\n",
       "    </tr>\n",
       "  </tbody>\n",
       "</table>\n",
       "</div>"
      ],
      "text/plain": [
       "            Close\n",
       "Date             \n",
       "2004-08-19  49.98\n",
       "2004-08-20  53.95\n",
       "2004-08-23  54.50\n",
       "2004-08-24  52.24\n",
       "2004-08-25  52.80"
      ]
     },
     "execution_count": 7,
     "metadata": {},
     "output_type": "execute_result"
    }
   ],
   "source": [
    "google = pd.read_csv(filepath_or_buffer='google_stocks.csv',\n",
    "                     index_col='Date',\n",
    "                     parse_dates=['Date'])\n",
    "google.head()"
   ]
  },
  {
   "cell_type": "code",
   "execution_count": 95,
   "id": "4ebd45a4-aaf7-4b75-b13a-e92d0828c6af",
   "metadata": {},
   "outputs": [
    {
     "data": {
      "text/html": [
       "<div>\n",
       "<style scoped>\n",
       "    .dataframe tbody tr th:only-of-type {\n",
       "        vertical-align: middle;\n",
       "    }\n",
       "\n",
       "    .dataframe tbody tr th {\n",
       "        vertical-align: top;\n",
       "    }\n",
       "\n",
       "    .dataframe thead th {\n",
       "        text-align: right;\n",
       "    }\n",
       "</style>\n",
       "<table border=\"1\" class=\"dataframe\">\n",
       "  <thead>\n",
       "    <tr style=\"text-align: right;\">\n",
       "      <th></th>\n",
       "      <th>Battle</th>\n",
       "      <th>Start Date</th>\n",
       "      <th>State</th>\n",
       "    </tr>\n",
       "  </thead>\n",
       "  <tbody>\n",
       "    <tr>\n",
       "      <th>0</th>\n",
       "      <td>Powder Alarm</td>\n",
       "      <td>9/1/1774</td>\n",
       "      <td>Massachusetts</td>\n",
       "    </tr>\n",
       "    <tr>\n",
       "      <th>1</th>\n",
       "      <td>Storming of Fort William and Mary</td>\n",
       "      <td>12/14/1774</td>\n",
       "      <td>New Hampshire</td>\n",
       "    </tr>\n",
       "    <tr>\n",
       "      <th>2</th>\n",
       "      <td>Battles of Lexington and Concord</td>\n",
       "      <td>4/19/1775</td>\n",
       "      <td>Massachusetts</td>\n",
       "    </tr>\n",
       "    <tr>\n",
       "      <th>3</th>\n",
       "      <td>Siege of Boston</td>\n",
       "      <td>4/19/1775</td>\n",
       "      <td>Massachusetts</td>\n",
       "    </tr>\n",
       "    <tr>\n",
       "      <th>4</th>\n",
       "      <td>Gunpowder Incident</td>\n",
       "      <td>4/20/1775</td>\n",
       "      <td>Virginia</td>\n",
       "    </tr>\n",
       "  </tbody>\n",
       "</table>\n",
       "</div>"
      ],
      "text/plain": [
       "                              Battle  Start Date          State\n",
       "0                       Powder Alarm    9/1/1774  Massachusetts\n",
       "1  Storming of Fort William and Mary  12/14/1774  New Hampshire\n",
       "2   Battles of Lexington and Concord   4/19/1775  Massachusetts\n",
       "3                    Siege of Boston   4/19/1775  Massachusetts\n",
       "4                 Gunpowder Incident   4/20/1775       Virginia"
      ]
     },
     "execution_count": 95,
     "metadata": {},
     "output_type": "execute_result"
    }
   ],
   "source": [
    "# 독립 전쟁 데이터도 불러와볼까요?\n",
    "pd.read_csv('revolutionary_war.csv').head()"
   ]
  },
  {
   "cell_type": "code",
   "execution_count": 96,
   "id": "8c822de1-375c-4ecc-91dc-57599444e991",
   "metadata": {},
   "outputs": [
    {
     "data": {
      "text/html": [
       "<div>\n",
       "<style scoped>\n",
       "    .dataframe tbody tr th:only-of-type {\n",
       "        vertical-align: middle;\n",
       "    }\n",
       "\n",
       "    .dataframe tbody tr th {\n",
       "        vertical-align: top;\n",
       "    }\n",
       "\n",
       "    .dataframe thead th {\n",
       "        text-align: right;\n",
       "    }\n",
       "</style>\n",
       "<table border=\"1\" class=\"dataframe\">\n",
       "  <thead>\n",
       "    <tr style=\"text-align: right;\">\n",
       "      <th></th>\n",
       "      <th>Battle</th>\n",
       "      <th>State</th>\n",
       "    </tr>\n",
       "    <tr>\n",
       "      <th>Start Date</th>\n",
       "      <th></th>\n",
       "      <th></th>\n",
       "    </tr>\n",
       "  </thead>\n",
       "  <tbody>\n",
       "    <tr>\n",
       "      <th>1774-09-01</th>\n",
       "      <td>Powder Alarm</td>\n",
       "      <td>Massachusetts</td>\n",
       "    </tr>\n",
       "    <tr>\n",
       "      <th>1774-12-14</th>\n",
       "      <td>Storming of Fort William and Mary</td>\n",
       "      <td>New Hampshire</td>\n",
       "    </tr>\n",
       "    <tr>\n",
       "      <th>1775-04-19</th>\n",
       "      <td>Battles of Lexington and Concord</td>\n",
       "      <td>Massachusetts</td>\n",
       "    </tr>\n",
       "    <tr>\n",
       "      <th>1775-04-19</th>\n",
       "      <td>Siege of Boston</td>\n",
       "      <td>Massachusetts</td>\n",
       "    </tr>\n",
       "    <tr>\n",
       "      <th>1775-04-20</th>\n",
       "      <td>Gunpowder Incident</td>\n",
       "      <td>Virginia</td>\n",
       "    </tr>\n",
       "  </tbody>\n",
       "</table>\n",
       "</div>"
      ],
      "text/plain": [
       "                                       Battle          State\n",
       "Start Date                                                  \n",
       "1774-09-01                       Powder Alarm  Massachusetts\n",
       "1774-12-14  Storming of Fort William and Mary  New Hampshire\n",
       "1775-04-19   Battles of Lexington and Concord  Massachusetts\n",
       "1775-04-19                    Siege of Boston  Massachusetts\n",
       "1775-04-20                 Gunpowder Incident       Virginia"
      ]
     },
     "execution_count": 96,
     "metadata": {},
     "output_type": "execute_result"
    }
   ],
   "source": [
    "pd.read_csv(filepath_or_buffer='revolutionary_war.csv',\n",
    "            index_col='Start Date',\n",
    "            parse_dates=['Start Date']).head()"
   ]
  },
  {
   "cell_type": "code",
   "execution_count": 10,
   "id": "6e763099-429e-44ad-9755-d062d7904eb0",
   "metadata": {},
   "outputs": [
    {
     "data": {
      "text/html": [
       "<div>\n",
       "<style scoped>\n",
       "    .dataframe tbody tr th:only-of-type {\n",
       "        vertical-align: middle;\n",
       "    }\n",
       "\n",
       "    .dataframe tbody tr th {\n",
       "        vertical-align: top;\n",
       "    }\n",
       "\n",
       "    .dataframe thead th {\n",
       "        text-align: right;\n",
       "    }\n",
       "</style>\n",
       "<table border=\"1\" class=\"dataframe\">\n",
       "  <thead>\n",
       "    <tr style=\"text-align: right;\">\n",
       "      <th></th>\n",
       "      <th>State</th>\n",
       "    </tr>\n",
       "    <tr>\n",
       "      <th>Start Date</th>\n",
       "      <th></th>\n",
       "    </tr>\n",
       "  </thead>\n",
       "  <tbody>\n",
       "    <tr>\n",
       "      <th>1774-09-01</th>\n",
       "      <td>Massachusetts</td>\n",
       "    </tr>\n",
       "    <tr>\n",
       "      <th>1774-12-14</th>\n",
       "      <td>New Hampshire</td>\n",
       "    </tr>\n",
       "    <tr>\n",
       "      <th>1775-04-19</th>\n",
       "      <td>Massachusetts</td>\n",
       "    </tr>\n",
       "    <tr>\n",
       "      <th>1775-04-19</th>\n",
       "      <td>Massachusetts</td>\n",
       "    </tr>\n",
       "    <tr>\n",
       "      <th>1775-04-20</th>\n",
       "      <td>Virginia</td>\n",
       "    </tr>\n",
       "  </tbody>\n",
       "</table>\n",
       "</div>"
      ],
      "text/plain": [
       "                    State\n",
       "Start Date               \n",
       "1774-09-01  Massachusetts\n",
       "1774-12-14  New Hampshire\n",
       "1775-04-19  Massachusetts\n",
       "1775-04-19  Massachusetts\n",
       "1775-04-20       Virginia"
      ]
     },
     "execution_count": 10,
     "metadata": {},
     "output_type": "execute_result"
    }
   ],
   "source": [
    "battles = pd.read_csv(filepath_or_buffer='revolutionary_war.csv',\n",
    "                      index_col='Start Date',\n",
    "                      parse_dates=['Start Date'],\n",
    "                      usecols=['State', 'Start Date'])\n",
    "battles.head()"
   ]
  },
  {
   "cell_type": "code",
   "execution_count": 98,
   "id": "1b7d593f-9e45-4854-b1b5-ecdf6c77faa0",
   "metadata": {},
   "outputs": [
    {
     "data": {
      "text/html": [
       "<div>\n",
       "<style scoped>\n",
       "    .dataframe tbody tr th:only-of-type {\n",
       "        vertical-align: middle;\n",
       "    }\n",
       "\n",
       "    .dataframe tbody tr th {\n",
       "        vertical-align: top;\n",
       "    }\n",
       "\n",
       "    .dataframe thead th {\n",
       "        text-align: right;\n",
       "    }\n",
       "</style>\n",
       "<table border=\"1\" class=\"dataframe\">\n",
       "  <thead>\n",
       "    <tr style=\"text-align: right;\">\n",
       "      <th></th>\n",
       "      <th>Close</th>\n",
       "    </tr>\n",
       "    <tr>\n",
       "      <th>Date</th>\n",
       "      <th></th>\n",
       "    </tr>\n",
       "  </thead>\n",
       "  <tbody>\n",
       "    <tr>\n",
       "      <th>2004-09-03</th>\n",
       "      <td>49.82</td>\n",
       "    </tr>\n",
       "    <tr>\n",
       "      <th>2004-09-01</th>\n",
       "      <td>49.94</td>\n",
       "    </tr>\n",
       "    <tr>\n",
       "      <th>2004-08-19</th>\n",
       "      <td>49.98</td>\n",
       "    </tr>\n",
       "    <tr>\n",
       "      <th>2004-09-02</th>\n",
       "      <td>50.57</td>\n",
       "    </tr>\n",
       "    <tr>\n",
       "      <th>2004-09-07</th>\n",
       "      <td>50.60</td>\n",
       "    </tr>\n",
       "  </tbody>\n",
       "</table>\n",
       "</div>"
      ],
      "text/plain": [
       "            Close\n",
       "Date             \n",
       "2004-09-03  49.82\n",
       "2004-09-01  49.94\n",
       "2004-08-19  49.98\n",
       "2004-09-02  50.57\n",
       "2004-09-07  50.60"
      ]
     },
     "execution_count": 98,
     "metadata": {},
     "output_type": "execute_result"
    }
   ],
   "source": [
    "# sort_values는 by에 입력한 열을 기준으로 정렬을 시도하고, ascending은 오름차순/내림차순을 결정합니다.\n",
    "google.sort_values(by='Close', ascending=True).head()"
   ]
  },
  {
   "cell_type": "code",
   "execution_count": 100,
   "id": "6e785964-5af2-4817-acfb-0c84884e2381",
   "metadata": {},
   "outputs": [
    {
     "data": {
      "text/html": [
       "<div>\n",
       "<style scoped>\n",
       "    .dataframe tbody tr th:only-of-type {\n",
       "        vertical-align: middle;\n",
       "    }\n",
       "\n",
       "    .dataframe tbody tr th {\n",
       "        vertical-align: top;\n",
       "    }\n",
       "\n",
       "    .dataframe thead th {\n",
       "        text-align: right;\n",
       "    }\n",
       "</style>\n",
       "<table border=\"1\" class=\"dataframe\">\n",
       "  <thead>\n",
       "    <tr style=\"text-align: right;\">\n",
       "      <th></th>\n",
       "      <th>Type</th>\n",
       "    </tr>\n",
       "    <tr>\n",
       "      <th>Pokemon</th>\n",
       "      <th></th>\n",
       "    </tr>\n",
       "  </thead>\n",
       "  <tbody>\n",
       "    <tr>\n",
       "      <th>Illumise</th>\n",
       "      <td>Bug</td>\n",
       "    </tr>\n",
       "    <tr>\n",
       "      <th>Silcoon</th>\n",
       "      <td>Bug</td>\n",
       "    </tr>\n",
       "    <tr>\n",
       "      <th>Pinsir</th>\n",
       "      <td>Bug</td>\n",
       "    </tr>\n",
       "    <tr>\n",
       "      <th>Burmy</th>\n",
       "      <td>Bug</td>\n",
       "    </tr>\n",
       "    <tr>\n",
       "      <th>Wurmple</th>\n",
       "      <td>Bug</td>\n",
       "    </tr>\n",
       "  </tbody>\n",
       "</table>\n",
       "</div>"
      ],
      "text/plain": [
       "         Type\n",
       "Pokemon      \n",
       "Illumise  Bug\n",
       "Silcoon   Bug\n",
       "Pinsir    Bug\n",
       "Burmy     Bug\n",
       "Wurmple   Bug"
      ]
     },
     "execution_count": 100,
     "metadata": {},
     "output_type": "execute_result"
    }
   ],
   "source": [
    "# 문자열의 경우, 알파벳 순서대로 정렬을 실시합니다.\n",
    "pokemon.sort_values('Type').head()"
   ]
  },
  {
   "cell_type": "code",
   "execution_count": 14,
   "id": "baf479eb-551a-4b8c-b588-a4190c47c593",
   "metadata": {},
   "outputs": [
    {
     "data": {
      "text/plain": [
       "0    Adam\n",
       "2     Ben\n",
       "1    adam\n",
       "dtype: object"
      ]
     },
     "execution_count": 14,
     "metadata": {},
     "output_type": "execute_result"
    }
   ],
   "source": [
    "# 판다스는 대문자를 먼저 배열시키고, 소문자는 나중에 배열시킨다.\n",
    "pd.Series(data=['Adam', 'adam', 'Ben']).sort_values()"
   ]
  },
  {
   "cell_type": "code",
   "execution_count": 101,
   "id": "42773798-0d9a-42b8-b5be-0714784f2240",
   "metadata": {},
   "outputs": [
    {
     "data": {
      "text/html": [
       "<div>\n",
       "<style scoped>\n",
       "    .dataframe tbody tr th:only-of-type {\n",
       "        vertical-align: middle;\n",
       "    }\n",
       "\n",
       "    .dataframe tbody tr th {\n",
       "        vertical-align: top;\n",
       "    }\n",
       "\n",
       "    .dataframe thead th {\n",
       "        text-align: right;\n",
       "    }\n",
       "</style>\n",
       "<table border=\"1\" class=\"dataframe\">\n",
       "  <thead>\n",
       "    <tr style=\"text-align: right;\">\n",
       "      <th></th>\n",
       "      <th>State</th>\n",
       "    </tr>\n",
       "    <tr>\n",
       "      <th>Start Date</th>\n",
       "      <th></th>\n",
       "    </tr>\n",
       "  </thead>\n",
       "  <tbody>\n",
       "    <tr>\n",
       "      <th>1781-09-06</th>\n",
       "      <td>Connecticut</td>\n",
       "    </tr>\n",
       "    <tr>\n",
       "      <th>1779-07-05</th>\n",
       "      <td>Connecticut</td>\n",
       "    </tr>\n",
       "    <tr>\n",
       "      <th>1777-04-27</th>\n",
       "      <td>Connecticut</td>\n",
       "    </tr>\n",
       "    <tr>\n",
       "      <th>1777-09-03</th>\n",
       "      <td>Delaware</td>\n",
       "    </tr>\n",
       "    <tr>\n",
       "      <th>1777-05-17</th>\n",
       "      <td>Florida</td>\n",
       "    </tr>\n",
       "  </tbody>\n",
       "</table>\n",
       "</div>"
      ],
      "text/plain": [
       "                  State\n",
       "Start Date             \n",
       "1781-09-06  Connecticut\n",
       "1779-07-05  Connecticut\n",
       "1777-04-27  Connecticut\n",
       "1777-09-03     Delaware\n",
       "1777-05-17      Florida"
      ]
     },
     "execution_count": 101,
     "metadata": {},
     "output_type": "execute_result"
    }
   ],
   "source": [
    "# 결측치를 가장 나중에 배치한다.\n",
    "battles.sort_values(by='State',\n",
    "                    na_position='last').head()"
   ]
  },
  {
   "cell_type": "code",
   "execution_count": 103,
   "id": "50672645-adc8-48e4-b148-254d51640824",
   "metadata": {},
   "outputs": [
    {
     "data": {
      "text/html": [
       "<div>\n",
       "<style scoped>\n",
       "    .dataframe tbody tr th:only-of-type {\n",
       "        vertical-align: middle;\n",
       "    }\n",
       "\n",
       "    .dataframe tbody tr th {\n",
       "        vertical-align: top;\n",
       "    }\n",
       "\n",
       "    .dataframe thead th {\n",
       "        text-align: right;\n",
       "    }\n",
       "</style>\n",
       "<table border=\"1\" class=\"dataframe\">\n",
       "  <thead>\n",
       "    <tr style=\"text-align: right;\">\n",
       "      <th></th>\n",
       "      <th>State</th>\n",
       "    </tr>\n",
       "    <tr>\n",
       "      <th>Start Date</th>\n",
       "      <th></th>\n",
       "    </tr>\n",
       "  </thead>\n",
       "  <tbody>\n",
       "    <tr>\n",
       "      <th>1775-09-17</th>\n",
       "      <td>NaN</td>\n",
       "    </tr>\n",
       "    <tr>\n",
       "      <th>1775-12-31</th>\n",
       "      <td>NaN</td>\n",
       "    </tr>\n",
       "    <tr>\n",
       "      <th>1776-03-03</th>\n",
       "      <td>NaN</td>\n",
       "    </tr>\n",
       "    <tr>\n",
       "      <th>1776-03-25</th>\n",
       "      <td>NaN</td>\n",
       "    </tr>\n",
       "    <tr>\n",
       "      <th>1776-05-18</th>\n",
       "      <td>NaN</td>\n",
       "    </tr>\n",
       "  </tbody>\n",
       "</table>\n",
       "</div>"
      ],
      "text/plain": [
       "           State\n",
       "Start Date      \n",
       "1775-09-17   NaN\n",
       "1775-12-31   NaN\n",
       "1776-03-03   NaN\n",
       "1776-03-25   NaN\n",
       "1776-05-18   NaN"
      ]
     },
     "execution_count": 103,
     "metadata": {},
     "output_type": "execute_result"
    }
   ],
   "source": [
    "# 결측값을 가장 상단에 위치시킨다.\n",
    "battles.sort_values(by='State',\n",
    "                    na_position='first').head()"
   ]
  },
  {
   "cell_type": "code",
   "execution_count": 104,
   "id": "0706fb88-d7f6-47bc-9a0b-064080fd1bb2",
   "metadata": {},
   "outputs": [
    {
     "data": {
      "text/html": [
       "<div>\n",
       "<style scoped>\n",
       "    .dataframe tbody tr th:only-of-type {\n",
       "        vertical-align: middle;\n",
       "    }\n",
       "\n",
       "    .dataframe tbody tr th {\n",
       "        vertical-align: top;\n",
       "    }\n",
       "\n",
       "    .dataframe thead th {\n",
       "        text-align: right;\n",
       "    }\n",
       "</style>\n",
       "<table border=\"1\" class=\"dataframe\">\n",
       "  <thead>\n",
       "    <tr style=\"text-align: right;\">\n",
       "      <th></th>\n",
       "      <th>State</th>\n",
       "    </tr>\n",
       "    <tr>\n",
       "      <th>Start Date</th>\n",
       "      <th></th>\n",
       "    </tr>\n",
       "  </thead>\n",
       "  <tbody>\n",
       "    <tr>\n",
       "      <th>1781-09-06</th>\n",
       "      <td>Connecticut</td>\n",
       "    </tr>\n",
       "    <tr>\n",
       "      <th>1779-07-05</th>\n",
       "      <td>Connecticut</td>\n",
       "    </tr>\n",
       "    <tr>\n",
       "      <th>1777-04-27</th>\n",
       "      <td>Connecticut</td>\n",
       "    </tr>\n",
       "    <tr>\n",
       "      <th>1777-09-03</th>\n",
       "      <td>Delaware</td>\n",
       "    </tr>\n",
       "    <tr>\n",
       "      <th>1777-05-17</th>\n",
       "      <td>Florida</td>\n",
       "    </tr>\n",
       "  </tbody>\n",
       "</table>\n",
       "</div>"
      ],
      "text/plain": [
       "                  State\n",
       "Start Date             \n",
       "1781-09-06  Connecticut\n",
       "1779-07-05  Connecticut\n",
       "1777-04-27  Connecticut\n",
       "1777-09-03     Delaware\n",
       "1777-05-17      Florida"
      ]
     },
     "execution_count": 104,
     "metadata": {},
     "output_type": "execute_result"
    }
   ],
   "source": [
    "# axis 0일때는 행방향 > 가로, axis 1일때는 열방향 > 세로\n",
    "battles.dropna(axis=0).sort_values(by='State').head()"
   ]
  },
  {
   "cell_type": "code",
   "execution_count": 105,
   "id": "098f2093-9940-4fc8-8e1d-9b79d120a728",
   "metadata": {},
   "outputs": [
    {
     "data": {
      "text/html": [
       "<div>\n",
       "<style scoped>\n",
       "    .dataframe tbody tr th:only-of-type {\n",
       "        vertical-align: middle;\n",
       "    }\n",
       "\n",
       "    .dataframe tbody tr th {\n",
       "        vertical-align: top;\n",
       "    }\n",
       "\n",
       "    .dataframe thead th {\n",
       "        text-align: right;\n",
       "    }\n",
       "</style>\n",
       "<table border=\"1\" class=\"dataframe\">\n",
       "  <thead>\n",
       "    <tr style=\"text-align: right;\">\n",
       "      <th></th>\n",
       "      <th>State</th>\n",
       "    </tr>\n",
       "    <tr>\n",
       "      <th>Start Date</th>\n",
       "      <th></th>\n",
       "    </tr>\n",
       "  </thead>\n",
       "  <tbody>\n",
       "    <tr>\n",
       "      <th>1774-09-01</th>\n",
       "      <td>Massachusetts</td>\n",
       "    </tr>\n",
       "    <tr>\n",
       "      <th>1774-12-14</th>\n",
       "      <td>New Hampshire</td>\n",
       "    </tr>\n",
       "    <tr>\n",
       "      <th>1775-04-19</th>\n",
       "      <td>Massachusetts</td>\n",
       "    </tr>\n",
       "    <tr>\n",
       "      <th>1775-04-19</th>\n",
       "      <td>Massachusetts</td>\n",
       "    </tr>\n",
       "    <tr>\n",
       "      <th>1775-04-20</th>\n",
       "      <td>Virginia</td>\n",
       "    </tr>\n",
       "  </tbody>\n",
       "</table>\n",
       "</div>"
      ],
      "text/plain": [
       "                    State\n",
       "Start Date               \n",
       "1774-09-01  Massachusetts\n",
       "1774-12-14  New Hampshire\n",
       "1775-04-19  Massachusetts\n",
       "1775-04-19  Massachusetts\n",
       "1775-04-20       Virginia"
      ]
     },
     "execution_count": 105,
     "metadata": {},
     "output_type": "execute_result"
    }
   ],
   "source": [
    "# 인덱스 순서대로 배열할 수 있습니다.\n",
    "battles.sort_index().head()"
   ]
  },
  {
   "cell_type": "code",
   "execution_count": 106,
   "id": "3fb9cf69-67c2-40f2-993a-6c2d740d2f25",
   "metadata": {},
   "outputs": [
    {
     "data": {
      "text/html": [
       "<div>\n",
       "<style scoped>\n",
       "    .dataframe tbody tr th:only-of-type {\n",
       "        vertical-align: middle;\n",
       "    }\n",
       "\n",
       "    .dataframe tbody tr th {\n",
       "        vertical-align: top;\n",
       "    }\n",
       "\n",
       "    .dataframe thead th {\n",
       "        text-align: right;\n",
       "    }\n",
       "</style>\n",
       "<table border=\"1\" class=\"dataframe\">\n",
       "  <thead>\n",
       "    <tr style=\"text-align: right;\">\n",
       "      <th></th>\n",
       "      <th>Close</th>\n",
       "    </tr>\n",
       "    <tr>\n",
       "      <th>Date</th>\n",
       "      <th></th>\n",
       "    </tr>\n",
       "  </thead>\n",
       "  <tbody>\n",
       "    <tr>\n",
       "      <th>2019-04-29</th>\n",
       "      <td>1287.58</td>\n",
       "    </tr>\n",
       "    <tr>\n",
       "      <th>2019-04-26</th>\n",
       "      <td>1272.18</td>\n",
       "    </tr>\n",
       "    <tr>\n",
       "      <th>2018-07-26</th>\n",
       "      <td>1268.33</td>\n",
       "    </tr>\n",
       "    <tr>\n",
       "      <th>2019-10-25</th>\n",
       "      <td>1265.13</td>\n",
       "    </tr>\n",
       "    <tr>\n",
       "      <th>2019-04-23</th>\n",
       "      <td>1264.55</td>\n",
       "    </tr>\n",
       "  </tbody>\n",
       "</table>\n",
       "</div>"
      ],
      "text/plain": [
       "              Close\n",
       "Date               \n",
       "2019-04-29  1287.58\n",
       "2019-04-26  1272.18\n",
       "2018-07-26  1268.33\n",
       "2019-10-25  1265.13\n",
       "2019-04-23  1264.55"
      ]
     },
     "execution_count": 106,
     "metadata": {},
     "output_type": "execute_result"
    }
   ],
   "source": [
    "# 높은 값을 가지는 행을 5개 추려낼 수 있는 방법이 2가지가 있는데, \n",
    "# 그 중에 하나는 head를 이용하는 것이고\n",
    "google.sort_values(by='Close', ascending=False).head()"
   ]
  },
  {
   "cell_type": "code",
   "execution_count": 108,
   "id": "6ecf0a26-68d0-4a83-88cf-f8826c6d4e94",
   "metadata": {},
   "outputs": [
    {
     "data": {
      "text/html": [
       "<div>\n",
       "<style scoped>\n",
       "    .dataframe tbody tr th:only-of-type {\n",
       "        vertical-align: middle;\n",
       "    }\n",
       "\n",
       "    .dataframe tbody tr th {\n",
       "        vertical-align: top;\n",
       "    }\n",
       "\n",
       "    .dataframe thead th {\n",
       "        text-align: right;\n",
       "    }\n",
       "</style>\n",
       "<table border=\"1\" class=\"dataframe\">\n",
       "  <thead>\n",
       "    <tr style=\"text-align: right;\">\n",
       "      <th></th>\n",
       "      <th>Close</th>\n",
       "    </tr>\n",
       "    <tr>\n",
       "      <th>Date</th>\n",
       "      <th></th>\n",
       "    </tr>\n",
       "  </thead>\n",
       "  <tbody>\n",
       "    <tr>\n",
       "      <th>2019-04-29</th>\n",
       "      <td>1287.58</td>\n",
       "    </tr>\n",
       "    <tr>\n",
       "      <th>2019-04-26</th>\n",
       "      <td>1272.18</td>\n",
       "    </tr>\n",
       "    <tr>\n",
       "      <th>2018-07-26</th>\n",
       "      <td>1268.33</td>\n",
       "    </tr>\n",
       "    <tr>\n",
       "      <th>2019-10-25</th>\n",
       "      <td>1265.13</td>\n",
       "    </tr>\n",
       "    <tr>\n",
       "      <th>2019-04-23</th>\n",
       "      <td>1264.55</td>\n",
       "    </tr>\n",
       "  </tbody>\n",
       "</table>\n",
       "</div>"
      ],
      "text/plain": [
       "              Close\n",
       "Date               \n",
       "2019-04-29  1287.58\n",
       "2019-04-26  1272.18\n",
       "2018-07-26  1268.33\n",
       "2019-10-25  1265.13\n",
       "2019-04-23  1264.55"
      ]
     },
     "execution_count": 108,
     "metadata": {},
     "output_type": "execute_result"
    }
   ],
   "source": [
    "# 나머지 하나는 nlargest를 이용하는 것입니다.\n",
    "google.nlargest(5, columns=['Close'])"
   ]
  },
  {
   "cell_type": "code",
   "execution_count": 109,
   "id": "df11b4f9-3bd7-46db-9cd1-ebdbc4d52158",
   "metadata": {},
   "outputs": [
    {
     "data": {
      "text/html": [
       "<div>\n",
       "<style scoped>\n",
       "    .dataframe tbody tr th:only-of-type {\n",
       "        vertical-align: middle;\n",
       "    }\n",
       "\n",
       "    .dataframe tbody tr th {\n",
       "        vertical-align: top;\n",
       "    }\n",
       "\n",
       "    .dataframe thead th {\n",
       "        text-align: right;\n",
       "    }\n",
       "</style>\n",
       "<table border=\"1\" class=\"dataframe\">\n",
       "  <thead>\n",
       "    <tr style=\"text-align: right;\">\n",
       "      <th></th>\n",
       "      <th>Close</th>\n",
       "    </tr>\n",
       "    <tr>\n",
       "      <th>Date</th>\n",
       "      <th></th>\n",
       "    </tr>\n",
       "  </thead>\n",
       "  <tbody>\n",
       "    <tr>\n",
       "      <th>2004-09-03</th>\n",
       "      <td>49.82</td>\n",
       "    </tr>\n",
       "    <tr>\n",
       "      <th>2004-09-01</th>\n",
       "      <td>49.94</td>\n",
       "    </tr>\n",
       "    <tr>\n",
       "      <th>2004-08-19</th>\n",
       "      <td>49.98</td>\n",
       "    </tr>\n",
       "    <tr>\n",
       "      <th>2004-09-02</th>\n",
       "      <td>50.57</td>\n",
       "    </tr>\n",
       "    <tr>\n",
       "      <th>2004-09-07</th>\n",
       "      <td>50.60</td>\n",
       "    </tr>\n",
       "  </tbody>\n",
       "</table>\n",
       "</div>"
      ],
      "text/plain": [
       "            Close\n",
       "Date             \n",
       "2004-09-03  49.82\n",
       "2004-09-01  49.94\n",
       "2004-08-19  49.98\n",
       "2004-09-02  50.57\n",
       "2004-09-07  50.60"
      ]
     },
     "execution_count": 109,
     "metadata": {},
     "output_type": "execute_result"
    }
   ],
   "source": [
    "# 하위 데이터도 마찬가지겠죠?\n",
    "google.nsmallest(5, columns=['Close'])"
   ]
  },
  {
   "cell_type": "code",
   "execution_count": 110,
   "id": "5ecc9b56-ac41-4965-a11c-656754229781",
   "metadata": {},
   "outputs": [
    {
     "data": {
      "text/html": [
       "<div>\n",
       "<style scoped>\n",
       "    .dataframe tbody tr th:only-of-type {\n",
       "        vertical-align: middle;\n",
       "    }\n",
       "\n",
       "    .dataframe tbody tr th {\n",
       "        vertical-align: top;\n",
       "    }\n",
       "\n",
       "    .dataframe thead th {\n",
       "        text-align: right;\n",
       "    }\n",
       "</style>\n",
       "<table border=\"1\" class=\"dataframe\">\n",
       "  <thead>\n",
       "    <tr style=\"text-align: right;\">\n",
       "      <th></th>\n",
       "      <th>State</th>\n",
       "    </tr>\n",
       "    <tr>\n",
       "      <th>Start Date</th>\n",
       "      <th></th>\n",
       "    </tr>\n",
       "  </thead>\n",
       "  <tbody>\n",
       "    <tr>\n",
       "      <th>1781-09-06</th>\n",
       "      <td>Connecticut</td>\n",
       "    </tr>\n",
       "    <tr>\n",
       "      <th>1779-07-05</th>\n",
       "      <td>Connecticut</td>\n",
       "    </tr>\n",
       "    <tr>\n",
       "      <th>1777-04-27</th>\n",
       "      <td>Connecticut</td>\n",
       "    </tr>\n",
       "    <tr>\n",
       "      <th>1777-09-03</th>\n",
       "      <td>Delaware</td>\n",
       "    </tr>\n",
       "    <tr>\n",
       "      <th>1777-05-17</th>\n",
       "      <td>Florida</td>\n",
       "    </tr>\n",
       "  </tbody>\n",
       "</table>\n",
       "</div>"
      ],
      "text/plain": [
       "                  State\n",
       "Start Date             \n",
       "1781-09-06  Connecticut\n",
       "1779-07-05  Connecticut\n",
       "1777-04-27  Connecticut\n",
       "1777-09-03     Delaware\n",
       "1777-05-17      Florida"
      ]
     },
     "execution_count": 110,
     "metadata": {},
     "output_type": "execute_result"
    }
   ],
   "source": [
    "battles.sort_values(by='State', inplace=True)\n",
    "battles.head()"
   ]
  },
  {
   "cell_type": "code",
   "execution_count": 111,
   "id": "73b288b3-6198-44e5-a34b-35155021350a",
   "metadata": {},
   "outputs": [
    {
     "data": {
      "text/plain": [
       "Type           \n",
       "Normal             65\n",
       "Water              61\n",
       "Grass              38\n",
       "Psychic            35\n",
       "Fire               30\n",
       "                   ..\n",
       "Fire / Rock         1\n",
       "Rock / Fighting     1\n",
       "Normal / Dragon     1\n",
       "Fire / Ghost        1\n",
       "Water / Steel       1\n",
       "Name: count, Length: 159, dtype: int64"
      ]
     },
     "execution_count": 111,
     "metadata": {},
     "output_type": "execute_result"
    }
   ],
   "source": [
    "# 특정 값들의 분포는 value_counts로도 확인할 수 있고,\n",
    "pokemon.value_counts()"
   ]
  },
  {
   "cell_type": "code",
   "execution_count": 112,
   "id": "9d0dac47-8f0a-466a-9552-82c92378a35c",
   "metadata": {
    "scrolled": true
   },
   "outputs": [
    {
     "data": {
      "text/plain": [
       "[np.int64(65),\n",
       " np.int64(61),\n",
       " np.int64(38),\n",
       " np.int64(35),\n",
       " np.int64(30),\n",
       " np.int64(28),\n",
       " np.int64(26),\n",
       " np.int64(22),\n",
       " np.int64(18),\n",
       " np.int64(16),\n",
       " np.int64(16),\n",
       " np.int64(15),\n",
       " np.int64(14),\n",
       " np.int64(13),\n",
       " np.int64(12),\n",
       " np.int64(12),\n",
       " np.int64(11),\n",
       " np.int64(11),\n",
       " np.int64(9),\n",
       " np.int64(9),\n",
       " np.int64(9),\n",
       " np.int64(7),\n",
       " np.int64(6),\n",
       " np.int64(6),\n",
       " np.int64(6),\n",
       " np.int64(6),\n",
       " np.int64(6),\n",
       " np.int64(6),\n",
       " np.int64(6),\n",
       " np.int64(6),\n",
       " np.int64(6),\n",
       " np.int64(6),\n",
       " np.int64(5),\n",
       " np.int64(5),\n",
       " np.int64(5),\n",
       " np.int64(5),\n",
       " np.int64(5),\n",
       " np.int64(4),\n",
       " np.int64(4),\n",
       " np.int64(4),\n",
       " np.int64(4),\n",
       " np.int64(4),\n",
       " np.int64(4),\n",
       " np.int64(4),\n",
       " np.int64(4),\n",
       " np.int64(4),\n",
       " np.int64(4),\n",
       " np.int64(4),\n",
       " np.int64(3),\n",
       " np.int64(3),\n",
       " np.int64(3),\n",
       " np.int64(3),\n",
       " np.int64(3),\n",
       " np.int64(3),\n",
       " np.int64(3),\n",
       " np.int64(3),\n",
       " np.int64(3),\n",
       " np.int64(3),\n",
       " np.int64(3),\n",
       " np.int64(3),\n",
       " np.int64(3),\n",
       " np.int64(3),\n",
       " np.int64(3),\n",
       " np.int64(3),\n",
       " np.int64(3),\n",
       " np.int64(3),\n",
       " np.int64(3),\n",
       " np.int64(3),\n",
       " np.int64(3),\n",
       " np.int64(3),\n",
       " np.int64(3),\n",
       " np.int64(3),\n",
       " np.int64(2),\n",
       " np.int64(2),\n",
       " np.int64(2),\n",
       " np.int64(2),\n",
       " np.int64(2),\n",
       " np.int64(2),\n",
       " np.int64(2),\n",
       " np.int64(2),\n",
       " np.int64(2),\n",
       " np.int64(2),\n",
       " np.int64(2),\n",
       " np.int64(2),\n",
       " np.int64(2),\n",
       " np.int64(2),\n",
       " np.int64(2),\n",
       " np.int64(2),\n",
       " np.int64(2),\n",
       " np.int64(2),\n",
       " np.int64(2),\n",
       " np.int64(2),\n",
       " np.int64(2),\n",
       " np.int64(2),\n",
       " np.int64(2),\n",
       " np.int64(2),\n",
       " np.int64(2),\n",
       " np.int64(2),\n",
       " np.int64(2),\n",
       " np.int64(2),\n",
       " np.int64(2),\n",
       " np.int64(2),\n",
       " np.int64(2),\n",
       " np.int64(2),\n",
       " np.int64(2),\n",
       " np.int64(2),\n",
       " np.int64(2),\n",
       " np.int64(2),\n",
       " np.int64(2),\n",
       " np.int64(2),\n",
       " np.int64(2),\n",
       " np.int64(2),\n",
       " np.int64(2),\n",
       " np.int64(2),\n",
       " np.int64(2),\n",
       " np.int64(2),\n",
       " np.int64(1),\n",
       " np.int64(1),\n",
       " np.int64(1),\n",
       " np.int64(1),\n",
       " np.int64(1),\n",
       " np.int64(1),\n",
       " np.int64(1),\n",
       " np.int64(1),\n",
       " np.int64(1),\n",
       " np.int64(1),\n",
       " np.int64(1),\n",
       " np.int64(1),\n",
       " np.int64(1),\n",
       " np.int64(1),\n",
       " np.int64(1),\n",
       " np.int64(1),\n",
       " np.int64(1),\n",
       " np.int64(1),\n",
       " np.int64(1),\n",
       " np.int64(1),\n",
       " np.int64(1),\n",
       " np.int64(1),\n",
       " np.int64(1),\n",
       " np.int64(1),\n",
       " np.int64(1),\n",
       " np.int64(1),\n",
       " np.int64(1),\n",
       " np.int64(1),\n",
       " np.int64(1),\n",
       " np.int64(1),\n",
       " np.int64(1),\n",
       " np.int64(1),\n",
       " np.int64(1),\n",
       " np.int64(1),\n",
       " np.int64(1),\n",
       " np.int64(1),\n",
       " np.int64(1),\n",
       " np.int64(1),\n",
       " np.int64(1),\n",
       " np.int64(1),\n",
       " np.int64(1),\n",
       " np.int64(1),\n",
       " np.int64(1)]"
      ]
     },
     "execution_count": 112,
     "metadata": {},
     "output_type": "execute_result"
    }
   ],
   "source": [
    "import numpy as np\n",
    "# unique를 이용해서도 확인할 수 있습니다.\n",
    "sorted(np.unique(pokemon['Type'], return_counts=True)[1], reverse=True)"
   ]
  },
  {
   "cell_type": "code",
   "execution_count": 113,
   "id": "3f07b64d-342b-4d4c-8730-9546b7120ed3",
   "metadata": {
    "scrolled": true
   },
   "outputs": [
    {
     "data": {
      "text/plain": [
       "array(['Grass / Poison', 'Fire', 'Fire / Flying', 'Water', 'Bug',\n",
       "       'Bug / Flying', 'Bug / Poison', 'Normal / Flying', 'Normal',\n",
       "       'Poison', 'Electric', 'Ground', 'Poison / Ground', 'Fairy',\n",
       "       'Normal / Fairy', 'Poison / Flying', 'Bug / Grass', 'Fighting',\n",
       "       'Water / Fighting', 'Psychic', 'Water / Poison', 'Rock / Ground',\n",
       "       'Water / Psychic', 'Electric / Steel', 'Water / Ice',\n",
       "       'Ghost / Poison', 'Grass / Psychic', 'Ground / Rock', 'Grass',\n",
       "       'Psychic / Fairy', 'Ice / Psychic', 'Water / Flying',\n",
       "       'Rock / Water', 'Rock / Flying', 'Ice / Flying',\n",
       "       'Electric / Flying', 'Dragon', 'Dragon / Flying',\n",
       "       'Water / Electric', 'Fairy / Flying', 'Psychic / Flying',\n",
       "       'Water / Fairy', 'Rock', 'Grass / Flying', 'Water / Ground',\n",
       "       'Dark', 'Dark / Flying', 'Ghost', 'Normal / Psychic',\n",
       "       'Bug / Steel', 'Ground / Flying', 'Steel / Ground', 'Bug / Rock',\n",
       "       'Bug / Fighting', 'Dark / Ice', 'Fire / Rock', 'Ice / Ground',\n",
       "       'Water / Rock', 'Steel / Flying', 'Dark / Fire', 'Water / Dragon',\n",
       "       'Rock / Dark', 'Psychic / Grass', 'Fire / Fighting',\n",
       "       'Water / Grass', 'Grass / Dark', 'Bug / Water', 'Grass / Fighting',\n",
       "       'Bug / Ground', 'Bug / Ghost', 'Dark / Ghost', 'Steel / Fairy',\n",
       "       'Steel / Rock', 'Fighting / Psychic', 'Water / Dark',\n",
       "       'Fire / Ground', 'Ground / Dragon', 'Rock / Psychic',\n",
       "       'Ground / Psychic', 'Rock / Grass', 'Rock / Bug', 'Ice',\n",
       "       'Ice / Water', 'Steel / Psychic', 'Steel', 'Dragon / Psychic',\n",
       "       'Grass / Ground', 'Water / Steel', 'Normal / Water',\n",
       "       'Rock / Steel', 'Ghost / Flying', 'Poison / Dark', 'Ghost / Dark',\n",
       "       'Dragon / Ground', 'Fighting / Steel', 'Poison / Bug',\n",
       "       'Poison / Fighting', 'Grass / Ice', 'Psychic / Fighting',\n",
       "       'Ice / Ghost', 'Electric / Ghost', 'Steel / Dragon',\n",
       "       'Fire / Steel', 'Ghost / Dragon', 'Psychic / Fire',\n",
       "       'Ground / Steel', 'Grass / Fairy', 'Ground / Dark',\n",
       "       'Dark / Fighting', 'Normal / Grass', 'Water / Ghost',\n",
       "       'Bug / Electric', 'Grass / Steel', 'Ghost / Fire',\n",
       "       'Ground / Electric', 'Ground / Ghost', 'Dark / Steel',\n",
       "       'Dark / Dragon', 'Bug / Fire', 'Steel / Fighting',\n",
       "       'Rock / Fighting', 'Flying', 'Dragon / Fire', 'Dragon / Electric',\n",
       "       'Dragon / Ice', 'Fire / Psychic', 'Normal / Ground',\n",
       "       'Fire / Normal', 'Fighting / Dark', 'Steel / Ghost',\n",
       "       'Dark / Psychic', 'Poison / Water', 'Poison / Dragon',\n",
       "       'Electric / Normal', 'Rock / Dragon', 'Rock / Ice',\n",
       "       'Fighting / Flying', 'Electric / Fairy', 'Rock / Fairy',\n",
       "       'Ghost / Grass', 'Flying / Dragon', 'Psychic / Ghost',\n",
       "       'Fire / Water', 'Grass / Ghost', 'Fire / Dark', 'Fighting / Ice',\n",
       "       'Bug / Fairy', 'Water / Bug', 'Poison / Fire', 'Normal / Fighting',\n",
       "       'Ghost / Ground', 'Fire / Dragon', 'Ghost / Fairy',\n",
       "       'Normal / Dragon', 'Dragon / Fighting', 'Psychic / Steel',\n",
       "       'Rock / Poison', 'Fighting / Ghost', 'Fire / Ghost'], dtype=object)"
      ]
     },
     "execution_count": 113,
     "metadata": {},
     "output_type": "execute_result"
    }
   ],
   "source": [
    "# unique 함수는 중복되지 않은 값들을 가져오고,\n",
    "pokemon['Type'].unique()"
   ]
  },
  {
   "cell_type": "code",
   "execution_count": 114,
   "id": "e5462f8d-64dd-46bd-bfb7-e2c4b3455586",
   "metadata": {},
   "outputs": [
    {
     "data": {
      "text/plain": [
       "159"
      ]
     },
     "execution_count": 114,
     "metadata": {},
     "output_type": "execute_result"
    }
   ],
   "source": [
    "# nunique는 중복되지 않은 값들의 개수를 가져옵니다.\n",
    "pokemon['Type'].nunique()"
   ]
  },
  {
   "cell_type": "code",
   "execution_count": 115,
   "id": "253d681e-8aae-4021-ace9-49a08528e769",
   "metadata": {},
   "outputs": [
    {
     "data": {
      "text/plain": [
       "Type   \n",
       "Normal     8.034611\n",
       "Water      7.540173\n",
       "Grass      4.697157\n",
       "Psychic    4.326329\n",
       "Fire       3.708282\n",
       "Name: proportion, dtype: float64"
      ]
     },
     "execution_count": 115,
     "metadata": {},
     "output_type": "execute_result"
    }
   ],
   "source": [
    "# normalize는 정규화를 시켜서, 해당 데이터가 전체에 대해 얼마나 분포해있는지를 확인합니다.\n",
    "pokemon.value_counts(normalize=True).head()*100"
   ]
  },
  {
   "cell_type": "code",
   "execution_count": 116,
   "id": "0ad0b29a-6802-4f6e-ac30-58df9d29047d",
   "metadata": {},
   "outputs": [
    {
     "data": {
      "text/plain": [
       "Type   \n",
       "Normal     8.03\n",
       "Water      7.54\n",
       "Grass      4.70\n",
       "Psychic    4.33\n",
       "Fire       3.71\n",
       "Name: proportion, dtype: float64"
      ]
     },
     "execution_count": 116,
     "metadata": {},
     "output_type": "execute_result"
    }
   ],
   "source": [
    "# Normal 타입은 전체의 8.03%을 차지하는군요.\n",
    "(pokemon.value_counts(normalize=True).head()*100).round(2)"
   ]
  },
  {
   "cell_type": "code",
   "execution_count": 117,
   "id": "218d2f16-821f-4444-a4fb-a7391e4be191",
   "metadata": {},
   "outputs": [
    {
     "data": {
      "text/plain": [
       "Close    49.82\n",
       "dtype: float64"
      ]
     },
     "execution_count": 117,
     "metadata": {},
     "output_type": "execute_result"
    }
   ],
   "source": [
    "# 주식의 최소값을 보고,\n",
    "google.min()"
   ]
  },
  {
   "cell_type": "code",
   "execution_count": 118,
   "id": "a31c9b44-2d41-4955-ba99-62cadbedf67c",
   "metadata": {},
   "outputs": [
    {
     "data": {
      "text/plain": [
       "Close    1287.58\n",
       "dtype: float64"
      ]
     },
     "execution_count": 118,
     "metadata": {},
     "output_type": "execute_result"
    }
   ],
   "source": [
    "# 최대값을 봐서\n",
    "google.max()"
   ]
  },
  {
   "cell_type": "code",
   "execution_count": 120,
   "id": "0aeb4201-2e78-4665-8652-0098d46f7e81",
   "metadata": {},
   "outputs": [
    {
     "data": {
      "text/plain": [
       "Close\n",
       "(200, 400]      1568\n",
       "(0, 200]         595\n",
       "(400, 600]       575\n",
       "(1000, 1200]     406\n",
       "(600, 800]       380\n",
       "(800, 1000]      207\n",
       "(1200, 1400]      93\n",
       "Name: count, dtype: int64"
      ]
     },
     "execution_count": 120,
     "metadata": {},
     "output_type": "execute_result"
    }
   ],
   "source": [
    "# 주식 데이터에 구간을 나누어봅시다. 간격은 200으로 지정하겠습니다.\n",
    "# 원래는 value_counts 함수에서 bins를 지정할 수 있지만, 최근 pandas에서는 삭제되었습니다.\n",
    "# 그래서 cut함수를 사용하시면 됩니다.\n",
    "buckets = [0, 200, 400, 600, 800, 1000, 1200, 1400]\n",
    "bucketed = pd.cut(google['Close'], bins=buckets)\n",
    "bucketed.value_counts()"
   ]
  },
  {
   "cell_type": "code",
   "execution_count": 121,
   "id": "d4a3ce87-a91c-4d7b-99a5-ad44d1b09edc",
   "metadata": {},
   "outputs": [
    {
     "data": {
      "text/plain": [
       "93"
      ]
     },
     "execution_count": 121,
     "metadata": {},
     "output_type": "execute_result"
    }
   ],
   "source": [
    "# 맞는거 갖죠?\n",
    "len(google[google['Close'] > 1200])"
   ]
  },
  {
   "cell_type": "code",
   "execution_count": 122,
   "id": "4d26106d-8d84-4929-bce5-f63c5f828428",
   "metadata": {},
   "outputs": [
    {
     "data": {
      "text/plain": [
       "State         \n",
       "South Carolina    31\n",
       "New York          28\n",
       "New Jersey        24\n",
       "Virginia          21\n",
       "Massachusetts     11\n",
       "Name: count, dtype: int64"
      ]
     },
     "execution_count": 122,
     "metadata": {},
     "output_type": "execute_result"
    }
   ],
   "source": [
    "# 기본적인 value_counts는 결측치를 제거한 상태로 반환하기 때문에\n",
    "battles.value_counts().head()"
   ]
  },
  {
   "cell_type": "code",
   "execution_count": 123,
   "id": "88b3ec4d-4ea9-46d0-a428-65d3c4517136",
   "metadata": {},
   "outputs": [
    {
     "data": {
      "text/plain": [
       "State         \n",
       "NaN               70\n",
       "South Carolina    31\n",
       "New York          28\n",
       "New Jersey        24\n",
       "Virginia          21\n",
       "Name: count, dtype: int64"
      ]
     },
     "execution_count": 123,
     "metadata": {},
     "output_type": "execute_result"
    }
   ],
   "source": [
    "# 결측치가 있는 데이터의 개수를 보고싶다면 dropna를 False로 지정하시면 됩니다.\n",
    "battles.value_counts(dropna=False).head()"
   ]
  },
  {
   "cell_type": "code",
   "execution_count": 125,
   "id": "fedd3fa1-8efd-4381-83e0-2af0624ee225",
   "metadata": {},
   "outputs": [
    {
     "data": {
      "text/html": [
       "<div>\n",
       "<style scoped>\n",
       "    .dataframe tbody tr th:only-of-type {\n",
       "        vertical-align: middle;\n",
       "    }\n",
       "\n",
       "    .dataframe tbody tr th {\n",
       "        vertical-align: top;\n",
       "    }\n",
       "\n",
       "    .dataframe thead th {\n",
       "        text-align: right;\n",
       "    }\n",
       "</style>\n",
       "<table border=\"1\" class=\"dataframe\">\n",
       "  <thead>\n",
       "    <tr style=\"text-align: right;\">\n",
       "      <th></th>\n",
       "      <th>Close</th>\n",
       "    </tr>\n",
       "    <tr>\n",
       "      <th>Date</th>\n",
       "      <th></th>\n",
       "    </tr>\n",
       "  </thead>\n",
       "  <tbody>\n",
       "    <tr>\n",
       "      <th>2004-08-19</th>\n",
       "      <td>50.0</td>\n",
       "    </tr>\n",
       "    <tr>\n",
       "      <th>2004-08-20</th>\n",
       "      <td>54.0</td>\n",
       "    </tr>\n",
       "    <tr>\n",
       "      <th>2004-08-23</th>\n",
       "      <td>54.5</td>\n",
       "    </tr>\n",
       "    <tr>\n",
       "      <th>2004-08-24</th>\n",
       "      <td>52.2</td>\n",
       "    </tr>\n",
       "    <tr>\n",
       "      <th>2004-08-25</th>\n",
       "      <td>52.8</td>\n",
       "    </tr>\n",
       "  </tbody>\n",
       "</table>\n",
       "</div>"
      ],
      "text/plain": [
       "            Close\n",
       "Date             \n",
       "2004-08-19   50.0\n",
       "2004-08-20   54.0\n",
       "2004-08-23   54.5\n",
       "2004-08-24   52.2\n",
       "2004-08-25   52.8"
      ]
     },
     "execution_count": 125,
     "metadata": {},
     "output_type": "execute_result"
    }
   ],
   "source": [
    "# 판다스는 브로드캐스팅 방식으로 google*1000의 경우 모든 데이터에 1000을 곱하는데,\n",
    "# 함수도 마찬가지 입니다.\n",
    "google.round(1).head()"
   ]
  },
  {
   "cell_type": "code",
   "execution_count": 127,
   "id": "f7df7944-953a-4509-ad7e-ad1d6ac8df93",
   "metadata": {},
   "outputs": [
    {
     "data": {
      "text/html": [
       "<div>\n",
       "<style scoped>\n",
       "    .dataframe tbody tr th:only-of-type {\n",
       "        vertical-align: middle;\n",
       "    }\n",
       "\n",
       "    .dataframe tbody tr th {\n",
       "        vertical-align: top;\n",
       "    }\n",
       "\n",
       "    .dataframe thead th {\n",
       "        text-align: right;\n",
       "    }\n",
       "</style>\n",
       "<table border=\"1\" class=\"dataframe\">\n",
       "  <thead>\n",
       "    <tr style=\"text-align: right;\">\n",
       "      <th></th>\n",
       "      <th>Close</th>\n",
       "    </tr>\n",
       "    <tr>\n",
       "      <th>Date</th>\n",
       "      <th></th>\n",
       "    </tr>\n",
       "  </thead>\n",
       "  <tbody>\n",
       "    <tr>\n",
       "      <th>2004-08-19</th>\n",
       "      <td>50.0</td>\n",
       "    </tr>\n",
       "    <tr>\n",
       "      <th>2004-08-20</th>\n",
       "      <td>54.0</td>\n",
       "    </tr>\n",
       "    <tr>\n",
       "      <th>2004-08-23</th>\n",
       "      <td>54.0</td>\n",
       "    </tr>\n",
       "    <tr>\n",
       "      <th>2004-08-24</th>\n",
       "      <td>52.0</td>\n",
       "    </tr>\n",
       "    <tr>\n",
       "      <th>2004-08-25</th>\n",
       "      <td>53.0</td>\n",
       "    </tr>\n",
       "  </tbody>\n",
       "</table>\n",
       "</div>"
      ],
      "text/plain": [
       "            Close\n",
       "Date             \n",
       "2004-08-19   50.0\n",
       "2004-08-20   54.0\n",
       "2004-08-23   54.0\n",
       "2004-08-24   52.0\n",
       "2004-08-25   53.0"
      ]
     },
     "execution_count": 127,
     "metadata": {},
     "output_type": "execute_result"
    }
   ],
   "source": [
    "# apply 함수를 사용해도 같은 결과를 얻습니다.\n",
    "google.apply(func=round).head()"
   ]
  },
  {
   "cell_type": "code",
   "execution_count": 128,
   "id": "8196fa5a-cb43-4fd5-ac19-18253e37dc8c",
   "metadata": {},
   "outputs": [],
   "source": [
    "# / 기호를 포함하고 있으면 멀티타입으로, 그렇지 않으면 싱글 타입으로 분류하는 함수가 있습니다.\n",
    "def single_or_multi(pokemon_type):\n",
    "    if \"/\" in pokemon_type:\n",
    "        return \"Multi\"\n",
    "    return \"Single\""
   ]
  },
  {
   "cell_type": "code",
   "execution_count": 129,
   "id": "aab14f24-a657-433f-a562-524c6a4b9e37",
   "metadata": {},
   "outputs": [
    {
     "data": {
      "text/html": [
       "<div>\n",
       "<style scoped>\n",
       "    .dataframe tbody tr th:only-of-type {\n",
       "        vertical-align: middle;\n",
       "    }\n",
       "\n",
       "    .dataframe tbody tr th {\n",
       "        vertical-align: top;\n",
       "    }\n",
       "\n",
       "    .dataframe thead th {\n",
       "        text-align: right;\n",
       "    }\n",
       "</style>\n",
       "<table border=\"1\" class=\"dataframe\">\n",
       "  <thead>\n",
       "    <tr style=\"text-align: right;\">\n",
       "      <th></th>\n",
       "      <th>Type</th>\n",
       "      <th>single/multi</th>\n",
       "    </tr>\n",
       "    <tr>\n",
       "      <th>Pokemon</th>\n",
       "      <th></th>\n",
       "      <th></th>\n",
       "    </tr>\n",
       "  </thead>\n",
       "  <tbody>\n",
       "    <tr>\n",
       "      <th>Bulbasaur</th>\n",
       "      <td>Grass / Poison</td>\n",
       "      <td>Multi</td>\n",
       "    </tr>\n",
       "    <tr>\n",
       "      <th>Ivysaur</th>\n",
       "      <td>Grass / Poison</td>\n",
       "      <td>Multi</td>\n",
       "    </tr>\n",
       "    <tr>\n",
       "      <th>Venusaur</th>\n",
       "      <td>Grass / Poison</td>\n",
       "      <td>Multi</td>\n",
       "    </tr>\n",
       "    <tr>\n",
       "      <th>Charmander</th>\n",
       "      <td>Fire</td>\n",
       "      <td>Single</td>\n",
       "    </tr>\n",
       "    <tr>\n",
       "      <th>Charmeleon</th>\n",
       "      <td>Fire</td>\n",
       "      <td>Single</td>\n",
       "    </tr>\n",
       "  </tbody>\n",
       "</table>\n",
       "</div>"
      ],
      "text/plain": [
       "                      Type single/multi\n",
       "Pokemon                                \n",
       "Bulbasaur   Grass / Poison        Multi\n",
       "Ivysaur     Grass / Poison        Multi\n",
       "Venusaur    Grass / Poison        Multi\n",
       "Charmander            Fire       Single\n",
       "Charmeleon            Fire       Single"
      ]
     },
     "execution_count": 129,
     "metadata": {},
     "output_type": "execute_result"
    }
   ],
   "source": [
    "# 새로운 열을 생성해서, 해당 함수를 적용시키면 되겠죠?\n",
    "pokemon['single/multi'] = pokemon['Type'].apply(single_or_multi)\n",
    "pokemon.head()"
   ]
  },
  {
   "cell_type": "code",
   "execution_count": 130,
   "id": "b4ed0308-2141-4ef9-ab03-2a150fa760d3",
   "metadata": {},
   "outputs": [
    {
     "data": {
      "text/plain": [
       "(array(['Multi', 'Single'], dtype=object), array([405, 404]))"
      ]
     },
     "execution_count": 130,
     "metadata": {},
     "output_type": "execute_result"
    }
   ],
   "source": [
    "# 이렇게 unique함수를 사용해서 multi와 single이 몇개씩 분포해있는지를 확인할 수 있습니다.\n",
    "np.unique(pokemon['single/multi'], return_counts=True)"
   ]
  }
 ],
 "metadata": {
  "kernelspec": {
   "display_name": "Python 3 (ipykernel)",
   "language": "python",
   "name": "python3"
  },
  "language_info": {
   "codemirror_mode": {
    "name": "ipython",
    "version": 3
   },
   "file_extension": ".py",
   "mimetype": "text/x-python",
   "name": "python",
   "nbconvert_exporter": "python",
   "pygments_lexer": "ipython3",
   "version": "3.9.6"
  }
 },
 "nbformat": 4,
 "nbformat_minor": 5
}
