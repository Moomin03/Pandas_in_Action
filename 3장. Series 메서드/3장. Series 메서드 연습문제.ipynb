{
 "cells": [
  {
   "cell_type": "code",
   "execution_count": 1,
   "id": "91b59103-b803-4973-a997-e63429b23454",
   "metadata": {},
   "outputs": [],
   "source": [
    "import pandas as pd"
   ]
  },
  {
   "cell_type": "code",
   "execution_count": 8,
   "id": "e65e5e8b-f410-40f6-b809-92bb49c07a34",
   "metadata": {},
   "outputs": [],
   "source": [
    "war = pd.read_csv(filepath_or_buffer='revolutionary_war.csv',\n",
    "                  parse_dates=['Start Date'])"
   ]
  },
  {
   "cell_type": "code",
   "execution_count": 3,
   "id": "187dff04-650e-4551-9c11-f6a951961803",
   "metadata": {},
   "outputs": [],
   "source": [
    "# 최종 출력으로 어떤 요일에 전투가 가장 많이 읽어났는지를 파악해보세요."
   ]
  },
  {
   "cell_type": "code",
   "execution_count": 5,
   "id": "12140672-a0b1-49f3-86f4-95dd9fe87d11",
   "metadata": {},
   "outputs": [
    {
     "data": {
      "text/plain": [
       "'Monday'"
      ]
     },
     "execution_count": 5,
     "metadata": {},
     "output_type": "execute_result"
    }
   ],
   "source": [
    "import datetime as dt\n",
    "dt.datetime(2024, 11, 25).strftime('%A')"
   ]
  },
  {
   "cell_type": "code",
   "execution_count": 28,
   "id": "9bc4fa50-5cc2-475f-b97d-806c34311067",
   "metadata": {},
   "outputs": [],
   "source": [
    "import numpy as np\n",
    "def change_day(date):\n",
    "    try:\n",
    "        year = int(date.split('-')[0])\n",
    "        month = int(date.split('-')[1])\n",
    "        day = int(date.split('-')[2])\n",
    "        return dt.datetime(year, month, day).strftime('%A')\n",
    "    except ValueError:\n",
    "        return np.nan"
   ]
  },
  {
   "cell_type": "code",
   "execution_count": 29,
   "id": "6a936589-b084-4a91-a2a8-ed02bcd9ba3d",
   "metadata": {},
   "outputs": [],
   "source": [
    "war['Day of Week'] = war['Start Date'].astype(str).apply(change_day)"
   ]
  },
  {
   "cell_type": "code",
   "execution_count": 32,
   "id": "e4ba86f0-d8d1-487c-91b8-b1583a57b22e",
   "metadata": {},
   "outputs": [
    {
     "data": {
      "text/plain": [
       "Day of Week\n",
       "Saturday     39\n",
       "Friday       39\n",
       "Wednesday    32\n",
       "Thursday     31\n",
       "Sunday       31\n",
       "Tuesday      29\n",
       "Monday       27\n",
       "NaN           4\n",
       "Name: count, dtype: int64"
      ]
     },
     "execution_count": 32,
     "metadata": {},
     "output_type": "execute_result"
    }
   ],
   "source": [
    "war['Day of Week'].value_counts(dropna=False)"
   ]
  }
 ],
 "metadata": {
  "kernelspec": {
   "display_name": "Python 3 (ipykernel)",
   "language": "python",
   "name": "python3"
  },
  "language_info": {
   "codemirror_mode": {
    "name": "ipython",
    "version": 3
   },
   "file_extension": ".py",
   "mimetype": "text/x-python",
   "name": "python",
   "nbconvert_exporter": "python",
   "pygments_lexer": "ipython3",
   "version": "3.9.6"
  }
 },
 "nbformat": 4,
 "nbformat_minor": 5
}
