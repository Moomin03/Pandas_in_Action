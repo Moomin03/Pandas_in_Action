{
 "cells": [
  {
   "cell_type": "code",
   "execution_count": 1,
   "id": "ccdff665-a096-4f9b-ac2b-7d67e7e03076",
   "metadata": {},
   "outputs": [],
   "source": [
    "import pandas as pd\n",
    "import numpy as np"
   ]
  },
  {
   "cell_type": "code",
   "execution_count": 2,
   "id": "c4c021cf-5734-44f8-bda0-14d77cde2794",
   "metadata": {},
   "outputs": [],
   "source": [
    "superheroes = [\n",
    "    'Betman',\n",
    "    'Superman',\n",
    "    'Spider-Man',\n",
    "    'Iron man',\n",
    "    'Captain America',\n",
    "    'Wonder Woman'\n",
    "]\n",
    "strength_levels = (100, 120, 90, 95, 110, 120)"
   ]
  },
  {
   "cell_type": "code",
   "execution_count": 3,
   "id": "33ec5a9a-60df-4044-bb17-ba30dac6d921",
   "metadata": {},
   "outputs": [
    {
     "data": {
      "text/plain": [
       "0             Betman\n",
       "1           Superman\n",
       "2         Spider-Man\n",
       "3           Iron man\n",
       "4    Captain America\n",
       "5       Wonder Woman\n",
       "dtype: object"
      ]
     },
     "execution_count": 3,
     "metadata": {},
     "output_type": "execute_result"
    }
   ],
   "source": [
    "# 1번. 슈퍼히어 리스트를 사용해서 새 Series 객체의 값을 채우세요.\n",
    "pd.Series(superheroes)"
   ]
  },
  {
   "cell_type": "code",
   "execution_count": 4,
   "id": "ab21dd89-e544-4b42-bc89-7b9b26f0a149",
   "metadata": {},
   "outputs": [
    {
     "data": {
      "text/plain": [
       "0    100\n",
       "1    120\n",
       "2     90\n",
       "3     95\n",
       "4    110\n",
       "5    120\n",
       "dtype: int64"
      ]
     },
     "execution_count": 4,
     "metadata": {},
     "output_type": "execute_result"
    }
   ],
   "source": [
    "# 2번. 능력치를 Series 객체에 채우세요.\n",
    "pd.Series(strength_levels)"
   ]
  },
  {
   "cell_type": "code",
   "execution_count": 7,
   "id": "0eac1d3d-c648-4ae6-9631-69f8d6f60bfc",
   "metadata": {},
   "outputs": [
    {
     "data": {
      "text/plain": [
       "Betman             100\n",
       "Superman           120\n",
       "Spider-Man          90\n",
       "Iron man            95\n",
       "Captain America    110\n",
       "Wonder Woman       120\n",
       "dtype: int64"
      ]
     },
     "execution_count": 7,
     "metadata": {},
     "output_type": "execute_result"
    }
   ],
   "source": [
    "# 3번. superheroes를 인덱스로, 능력치를 값으로 Series를 생성하세요.\n",
    "heroes = pd.Series(data=strength_levels, index=superheroes)\n",
    "heroes"
   ]
  },
  {
   "cell_type": "code",
   "execution_count": 8,
   "id": "bd70c0a8-c90b-499f-b3fb-dc964f5bf4bd",
   "metadata": {},
   "outputs": [
    {
     "data": {
      "text/plain": [
       "Betman      100\n",
       "Superman    120\n",
       "dtype: int64"
      ]
     },
     "execution_count": 8,
     "metadata": {},
     "output_type": "execute_result"
    }
   ],
   "source": [
    "# 4번. 처음 행 2개\n",
    "heroes.head(2)"
   ]
  },
  {
   "cell_type": "code",
   "execution_count": 9,
   "id": "67756492-333a-4df4-ad6d-36cd81e52a12",
   "metadata": {},
   "outputs": [
    {
     "data": {
      "text/plain": [
       "Spider-Man          90\n",
       "Iron man            95\n",
       "Captain America    110\n",
       "Wonder Woman       120\n",
       "dtype: int64"
      ]
     },
     "execution_count": 9,
     "metadata": {},
     "output_type": "execute_result"
    }
   ],
   "source": [
    "# 5번. 마지막 4개 행\n",
    "heroes.tail(4)"
   ]
  },
  {
   "cell_type": "code",
   "execution_count": 20,
   "id": "c0887fbf-732f-4a65-b3f9-2c34bcd58ef4",
   "metadata": {},
   "outputs": [
    {
     "name": "stdout",
     "output_type": "stream",
     "text": [
      "5\n"
     ]
    }
   ],
   "source": [
    "# 6. 고유한 값의 개수\n",
    "print(heroes.nunique())"
   ]
  },
  {
   "cell_type": "code",
   "execution_count": 15,
   "id": "ec60c0c4-ec56-4d61-aeee-f6c650809a8f",
   "metadata": {},
   "outputs": [
    {
     "data": {
      "text/plain": [
       "np.float64(105.83333333333333)"
      ]
     },
     "execution_count": 15,
     "metadata": {},
     "output_type": "execute_result"
    }
   ],
   "source": [
    "# 7번. 평균 능력치를 구하세요\n",
    "heroes.mean()"
   ]
  },
  {
   "cell_type": "code",
   "execution_count": 17,
   "id": "75e86853-4b08-434f-a6f1-b94c0e9e2eda",
   "metadata": {},
   "outputs": [
    {
     "name": "stdout",
     "output_type": "stream",
     "text": [
      "최소  : 90, 최대 : 120\n"
     ]
    }
   ],
   "source": [
    "# 8번. 최대, 최소 능력치를 구하세요.\n",
    "print('최소  : {}, 최대 : {}'.format(heroes.min(), heroes.max()))"
   ]
  },
  {
   "cell_type": "code",
   "execution_count": 18,
   "id": "38bde861-38b6-4722-80bd-5d1be5564eca",
   "metadata": {},
   "outputs": [
    {
     "data": {
      "text/plain": [
       "Betman             200\n",
       "Superman           240\n",
       "Spider-Man         180\n",
       "Iron man           190\n",
       "Captain America    220\n",
       "Wonder Woman       240\n",
       "dtype: int64"
      ]
     },
     "execution_count": 18,
     "metadata": {},
     "output_type": "execute_result"
    }
   ],
   "source": [
    "# 9번. 능력치 2배가 되면?\n",
    "heroes*2"
   ]
  },
  {
   "cell_type": "code",
   "execution_count": 19,
   "id": "abdcd185-6572-40ad-a596-a3db66198cf2",
   "metadata": {},
   "outputs": [
    {
     "data": {
      "text/plain": [
       "{'Betman': np.int64(100),\n",
       " 'Superman': np.int64(120),\n",
       " 'Spider-Man': np.int64(90),\n",
       " 'Iron man': np.int64(95),\n",
       " 'Captain America': np.int64(110),\n",
       " 'Wonder Woman': np.int64(120)}"
      ]
     },
     "execution_count": 19,
     "metadata": {},
     "output_type": "execute_result"
    }
   ],
   "source": [
    "# 10번. 딕셔너 형태로 변경하세요.\n",
    "dict(heroes)"
   ]
  }
 ],
 "metadata": {
  "kernelspec": {
   "display_name": "Python 3 (ipykernel)",
   "language": "python",
   "name": "python3"
  },
  "language_info": {
   "codemirror_mode": {
    "name": "ipython",
    "version": 3
   },
   "file_extension": ".py",
   "mimetype": "text/x-python",
   "name": "python",
   "nbconvert_exporter": "python",
   "pygments_lexer": "ipython3",
   "version": "3.9.6"
  }
 },
 "nbformat": 4,
 "nbformat_minor": 5
}
