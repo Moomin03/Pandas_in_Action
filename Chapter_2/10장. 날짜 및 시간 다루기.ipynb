{
 "cells": [
  {
   "cell_type": "code",
   "execution_count": 1,
   "id": "2fbf40e0-cd5c-4ca6-a29c-d4054b125340",
   "metadata": {},
   "outputs": [],
   "source": [
    "import datetime as dt\n",
    "import pandas as pd"
   ]
  },
  {
   "cell_type": "code",
   "execution_count": 101,
   "id": "b7ca4c07-0de3-46a9-a460-11090fb5db0c",
   "metadata": {},
   "outputs": [
    {
     "data": {
      "text/plain": [
       "datetime.datetime(2003, 8, 12, 0, 0)"
      ]
     },
     "execution_count": 101,
     "metadata": {},
     "output_type": "execute_result"
    }
   ],
   "source": [
    "# 년, 월, 일로 지정할 수 있습니다.\n",
    "birthday = dt.datetime(2003, 8, 12)\n",
    "birthday"
   ]
  },
  {
   "cell_type": "code",
   "execution_count": 102,
   "id": "57c0b4c6-71d4-4579-8ae8-5f296496ae61",
   "metadata": {},
   "outputs": [
    {
     "data": {
      "text/plain": [
       "2003"
      ]
     },
     "execution_count": 102,
     "metadata": {},
     "output_type": "execute_result"
    }
   ],
   "source": [
    "birthday.year"
   ]
  },
  {
   "cell_type": "code",
   "execution_count": 103,
   "id": "c10e82bb-a631-4bb1-99e3-1fd3590a0898",
   "metadata": {},
   "outputs": [
    {
     "data": {
      "text/plain": [
       "8"
      ]
     },
     "execution_count": 103,
     "metadata": {},
     "output_type": "execute_result"
    }
   ],
   "source": [
    "birthday.month"
   ]
  },
  {
   "cell_type": "code",
   "execution_count": 104,
   "id": "7f01d529-1086-4d9f-bede-29a4d0c952e7",
   "metadata": {},
   "outputs": [
    {
     "data": {
      "text/plain": [
       "12"
      ]
     },
     "execution_count": 104,
     "metadata": {},
     "output_type": "execute_result"
    }
   ],
   "source": [
    "birthday.day"
   ]
  },
  {
   "cell_type": "code",
   "execution_count": 105,
   "id": "b09ace44-cbfc-45e4-a0f5-58c7a7e36c3b",
   "metadata": {},
   "outputs": [
    {
     "data": {
      "text/plain": [
       "datetime.time(6, 43, 25)"
      ]
     },
     "execution_count": 105,
     "metadata": {},
     "output_type": "execute_result"
    }
   ],
   "source": [
    "# 시간을 지정할 수 있습니다.\n",
    "alarm_clock = dt.time(6, 43, 25)\n",
    "alarm_clock"
   ]
  },
  {
   "cell_type": "code",
   "execution_count": 106,
   "id": "ce24e5a2-568c-4cb1-b841-536395348d95",
   "metadata": {},
   "outputs": [
    {
     "data": {
      "text/plain": [
       "datetime.datetime(2003, 8, 12, 13, 22, 23)"
      ]
     },
     "execution_count": 106,
     "metadata": {},
     "output_type": "execute_result"
    }
   ],
   "source": [
    "# datetime을 통해 날짜와 시간을 동시에 지정할 수 있습니다.\n",
    "moon_landing = dt.datetime(2003, 8, 12, 13, 22, 23)\n",
    "moon_landing"
   ]
  },
  {
   "cell_type": "code",
   "execution_count": 108,
   "id": "8cca2144-31e0-4b12-964e-9aa7ce96006a",
   "metadata": {},
   "outputs": [
    {
     "data": {
      "text/plain": [
       "'2003-08-12 13:22:23'"
      ]
     },
     "execution_count": 108,
     "metadata": {},
     "output_type": "execute_result"
    }
   ],
   "source": [
    "# 추출하고 싶은 것만 사용할 수 있습니다.\n",
    "moon_landing.strftime('%Y-%m-%d %H:%M:%S')"
   ]
  },
  {
   "cell_type": "code",
   "execution_count": 109,
   "id": "a4805054-93b5-42ed-bb61-dd88187cc40c",
   "metadata": {},
   "outputs": [
    {
     "data": {
      "text/plain": [
       "datetime.timedelta(days=62, seconds=14282)"
      ]
     },
     "execution_count": 109,
     "metadata": {},
     "output_type": "execute_result"
    }
   ],
   "source": [
    "# 일수를 계산하고 초를 계산합니다.\n",
    "dt.timedelta(weeks=8,\n",
    "             days=6,\n",
    "             hours=3,\n",
    "             minutes=58,\n",
    "             seconds=2)"
   ]
  },
  {
   "cell_type": "code",
   "execution_count": 110,
   "id": "45bb83b5-c7a9-47bf-be85-6d97461b0ddd",
   "metadata": {},
   "outputs": [
    {
     "data": {
      "text/plain": [
       "Timestamp('2003-08-12 00:00:00')"
      ]
     },
     "execution_count": 110,
     "metadata": {},
     "output_type": "execute_result"
    }
   ],
   "source": [
    "# datetime의 기능을 판다스 또한 제공합니다.\n",
    "pd.Timestamp(2003, 8, 12)"
   ]
  },
  {
   "cell_type": "code",
   "execution_count": 111,
   "id": "c2a995ab-e705-4260-b030-2a979abc7c01",
   "metadata": {},
   "outputs": [
    {
     "data": {
      "text/plain": [
       "Timestamp('2003-08-12 00:00:00')"
      ]
     },
     "execution_count": 111,
     "metadata": {},
     "output_type": "execute_result"
    }
   ],
   "source": [
    "pd.Timestamp('2003-08-12')"
   ]
  },
  {
   "cell_type": "code",
   "execution_count": 112,
   "id": "19a963af-2860-44f4-941b-a7d5cff46e95",
   "metadata": {},
   "outputs": [
    {
     "data": {
      "text/plain": [
       "Timestamp('2003-08-12 00:00:00')"
      ]
     },
     "execution_count": 112,
     "metadata": {},
     "output_type": "execute_result"
    }
   ],
   "source": [
    "pd.Timestamp('2003/08/12')"
   ]
  },
  {
   "cell_type": "code",
   "execution_count": 113,
   "id": "5b3dc492-4fa3-4966-9148-c0c7c8b84962",
   "metadata": {},
   "outputs": [
    {
     "data": {
      "text/plain": [
       "Timestamp('2003-08-12 00:00:00')"
      ]
     },
     "execution_count": 113,
     "metadata": {},
     "output_type": "execute_result"
    }
   ],
   "source": [
    "pd.Timestamp('8/12/2003')"
   ]
  },
  {
   "cell_type": "code",
   "execution_count": 114,
   "id": "828c685a-d79a-49b4-adb6-b69ad5cb4a19",
   "metadata": {},
   "outputs": [
    {
     "data": {
      "text/plain": [
       "Timestamp('2003-08-12 16:24:35')"
      ]
     },
     "execution_count": 114,
     "metadata": {},
     "output_type": "execute_result"
    }
   ],
   "source": [
    "pd.Timestamp('2003-08-12 04:24:35 PM')"
   ]
  },
  {
   "cell_type": "code",
   "execution_count": 115,
   "id": "f6e2f6d0-06b7-48dd-880c-21f363208f31",
   "metadata": {},
   "outputs": [
    {
     "data": {
      "text/plain": [
       "DatetimeIndex(['2024-12-01', '2024-12-02', '2024-12-03'], dtype='datetime64[ns]', freq=None)"
      ]
     },
     "execution_count": 115,
     "metadata": {},
     "output_type": "execute_result"
    }
   ],
   "source": [
    "timestamps = [\n",
    "    pd.Timestamp(2024, 12, 1),\n",
    "    pd.Timestamp(2024, 12, 2),\n",
    "    pd.Timestamp(2024, 12, 3)\n",
    "]\n",
    "pd.Series([1, 2, 3], index=timestamps).index"
   ]
  },
  {
   "cell_type": "code",
   "execution_count": 116,
   "id": "cb1c2b37-be4a-4138-b9b0-33055d0e63ab",
   "metadata": {},
   "outputs": [
    {
     "data": {
      "text/plain": [
       "[Timestamp('2024-12-01 00:00:00'),\n",
       " Timestamp('2024-12-02 00:00:00'),\n",
       " Timestamp('2024-12-03 00:00:00')]"
      ]
     },
     "execution_count": 116,
     "metadata": {},
     "output_type": "execute_result"
    }
   ],
   "source": [
    "timestamps.sort()\n",
    "timestamps"
   ]
  },
  {
   "cell_type": "code",
   "execution_count": 117,
   "id": "427fd260-538b-4057-a9ea-40f30a6a9793",
   "metadata": {},
   "outputs": [
    {
     "data": {
      "text/html": [
       "<div>\n",
       "<style scoped>\n",
       "    .dataframe tbody tr th:only-of-type {\n",
       "        vertical-align: middle;\n",
       "    }\n",
       "\n",
       "    .dataframe tbody tr th {\n",
       "        vertical-align: top;\n",
       "    }\n",
       "\n",
       "    .dataframe thead th {\n",
       "        text-align: right;\n",
       "    }\n",
       "</style>\n",
       "<table border=\"1\" class=\"dataframe\">\n",
       "  <thead>\n",
       "    <tr style=\"text-align: right;\">\n",
       "      <th></th>\n",
       "      <th>Date</th>\n",
       "      <th>High</th>\n",
       "      <th>Low</th>\n",
       "      <th>Open</th>\n",
       "      <th>Close</th>\n",
       "    </tr>\n",
       "  </thead>\n",
       "  <tbody>\n",
       "    <tr>\n",
       "      <th>0</th>\n",
       "      <td>1962-01-02</td>\n",
       "      <td>0.096026</td>\n",
       "      <td>0.092908</td>\n",
       "      <td>0.092908</td>\n",
       "      <td>0.092908</td>\n",
       "    </tr>\n",
       "    <tr>\n",
       "      <th>1</th>\n",
       "      <td>1962-01-03</td>\n",
       "      <td>0.094467</td>\n",
       "      <td>0.092908</td>\n",
       "      <td>0.092908</td>\n",
       "      <td>0.094155</td>\n",
       "    </tr>\n",
       "    <tr>\n",
       "      <th>2</th>\n",
       "      <td>1962-01-04</td>\n",
       "      <td>0.094467</td>\n",
       "      <td>0.093532</td>\n",
       "      <td>0.094155</td>\n",
       "      <td>0.094155</td>\n",
       "    </tr>\n",
       "    <tr>\n",
       "      <th>3</th>\n",
       "      <td>1962-01-05</td>\n",
       "      <td>0.094779</td>\n",
       "      <td>0.093844</td>\n",
       "      <td>0.094155</td>\n",
       "      <td>0.094467</td>\n",
       "    </tr>\n",
       "    <tr>\n",
       "      <th>4</th>\n",
       "      <td>1962-01-08</td>\n",
       "      <td>0.095714</td>\n",
       "      <td>0.092285</td>\n",
       "      <td>0.094467</td>\n",
       "      <td>0.094155</td>\n",
       "    </tr>\n",
       "  </tbody>\n",
       "</table>\n",
       "</div>"
      ],
      "text/plain": [
       "         Date      High       Low      Open     Close\n",
       "0  1962-01-02  0.096026  0.092908  0.092908  0.092908\n",
       "1  1962-01-03  0.094467  0.092908  0.092908  0.094155\n",
       "2  1962-01-04  0.094467  0.093532  0.094155  0.094155\n",
       "3  1962-01-05  0.094779  0.093844  0.094155  0.094467\n",
       "4  1962-01-08  0.095714  0.092285  0.094467  0.094155"
      ]
     },
     "execution_count": 117,
     "metadata": {},
     "output_type": "execute_result"
    }
   ],
   "source": [
    "disney = pd.read_csv('disney.csv')\n",
    "disney.head()"
   ]
  },
  {
   "cell_type": "code",
   "execution_count": 118,
   "id": "f735eb64-c279-4a86-b530-dbe9a1268c88",
   "metadata": {},
   "outputs": [
    {
     "name": "stdout",
     "output_type": "stream",
     "text": [
      "<class 'pandas.core.frame.DataFrame'>\n",
      "RangeIndex: 14727 entries, 0 to 14726\n",
      "Data columns (total 5 columns):\n",
      " #   Column  Non-Null Count  Dtype  \n",
      "---  ------  --------------  -----  \n",
      " 0   Date    14727 non-null  object \n",
      " 1   High    14727 non-null  float64\n",
      " 2   Low     14727 non-null  float64\n",
      " 3   Open    14727 non-null  float64\n",
      " 4   Close   14727 non-null  float64\n",
      "dtypes: float64(4), object(1)\n",
      "memory usage: 575.4+ KB\n"
     ]
    }
   ],
   "source": [
    "disney.info()"
   ]
  },
  {
   "cell_type": "code",
   "execution_count": 119,
   "id": "6c8cf73e-af36-4708-aaef-1585d771e7aa",
   "metadata": {},
   "outputs": [
    {
     "name": "stdout",
     "output_type": "stream",
     "text": [
      "<class 'pandas.core.frame.DataFrame'>\n",
      "RangeIndex: 14727 entries, 0 to 14726\n",
      "Data columns (total 5 columns):\n",
      " #   Column  Non-Null Count  Dtype         \n",
      "---  ------  --------------  -----         \n",
      " 0   Date    14727 non-null  datetime64[ns]\n",
      " 1   High    14727 non-null  float64       \n",
      " 2   Low     14727 non-null  float64       \n",
      " 3   Open    14727 non-null  float64       \n",
      " 4   Close   14727 non-null  float64       \n",
      "dtypes: datetime64[ns](1), float64(4)\n",
      "memory usage: 575.4 KB\n"
     ]
    }
   ],
   "source": [
    "disney = pd.read_csv('disney.csv',\n",
    "                     parse_dates=['Date'])\n",
    "disney.info()"
   ]
  },
  {
   "cell_type": "code",
   "execution_count": 120,
   "id": "1ddddb36-bf2a-4a81-925e-c3c2c7bd5adf",
   "metadata": {},
   "outputs": [
    {
     "name": "stdout",
     "output_type": "stream",
     "text": [
      "<class 'pandas.core.frame.DataFrame'>\n",
      "RangeIndex: 14727 entries, 0 to 14726\n",
      "Data columns (total 5 columns):\n",
      " #   Column  Non-Null Count  Dtype         \n",
      "---  ------  --------------  -----         \n",
      " 0   Date    14727 non-null  datetime64[ns]\n",
      " 1   High    14727 non-null  float64       \n",
      " 2   Low     14727 non-null  float64       \n",
      " 3   Open    14727 non-null  float64       \n",
      " 4   Close   14727 non-null  float64       \n",
      "dtypes: datetime64[ns](1), float64(4)\n",
      "memory usage: 575.4 KB\n"
     ]
    }
   ],
   "source": [
    "disney['Date'] = pd.to_datetime(disney['Date'])\n",
    "disney.info()"
   ]
  },
  {
   "cell_type": "code",
   "execution_count": 121,
   "id": "61b1318c-c141-4b21-8d31-3e7ca127e5db",
   "metadata": {},
   "outputs": [
    {
     "data": {
      "text/plain": [
       "0         2\n",
       "1         3\n",
       "2         4\n",
       "3         5\n",
       "4         8\n",
       "         ..\n",
       "14722    26\n",
       "14723    29\n",
       "14724    30\n",
       "14725     1\n",
       "14726     2\n",
       "Name: Date, Length: 14727, dtype: int32"
      ]
     },
     "execution_count": 121,
     "metadata": {},
     "output_type": "execute_result"
    }
   ],
   "source": [
    "# 일자만 불러올 수 있습니다.\n",
    "disney['Date'].dt.day"
   ]
  },
  {
   "cell_type": "code",
   "execution_count": 122,
   "id": "a684f3e3-cd39-404f-b4bf-813c13e4e4f0",
   "metadata": {},
   "outputs": [
    {
     "data": {
      "text/plain": [
       "1"
      ]
     },
     "execution_count": 122,
     "metadata": {},
     "output_type": "execute_result"
    }
   ],
   "source": [
    "# 해당 시간이 몇요일인지 알 수 있습니다. 0 : 월요일, 1 : 화요일 ...\n",
    "a = pd.Timestamp(2024, 12, 3)\n",
    "a.day_of_week"
   ]
  },
  {
   "cell_type": "code",
   "execution_count": 123,
   "id": "f789558e-7cc6-4f7b-b3c4-1432d14e05cf",
   "metadata": {},
   "outputs": [
    {
     "data": {
      "text/plain": [
       "0        1\n",
       "1        2\n",
       "2        3\n",
       "3        4\n",
       "4        0\n",
       "        ..\n",
       "14722    4\n",
       "14723    0\n",
       "14724    1\n",
       "14725    2\n",
       "14726    3\n",
       "Name: Date, Length: 14727, dtype: int32"
      ]
     },
     "execution_count": 123,
     "metadata": {},
     "output_type": "execute_result"
    }
   ],
   "source": [
    "disney['Date'].dt.dayofweek"
   ]
  },
  {
   "cell_type": "code",
   "execution_count": 124,
   "id": "0b5c4b71-a6dc-42f3-a05d-66aabcb09d91",
   "metadata": {},
   "outputs": [
    {
     "data": {
      "text/plain": [
       "0          Tuesday\n",
       "1        Wednesday\n",
       "2         Thursday\n",
       "3           Friday\n",
       "4           Monday\n",
       "           ...    \n",
       "14722       Friday\n",
       "14723       Monday\n",
       "14724      Tuesday\n",
       "14725    Wednesday\n",
       "14726     Thursday\n",
       "Name: Date, Length: 14727, dtype: object"
      ]
     },
     "execution_count": 124,
     "metadata": {},
     "output_type": "execute_result"
    }
   ],
   "source": [
    "# 요일을 영어로 지원합니다.\n",
    "disney['Date'].dt.day_name()"
   ]
  },
  {
   "cell_type": "code",
   "execution_count": 125,
   "id": "6cd6831f-7dff-41cc-bb1b-28e4341d1481",
   "metadata": {},
   "outputs": [
    {
     "data": {
      "text/html": [
       "<div>\n",
       "<style scoped>\n",
       "    .dataframe tbody tr th:only-of-type {\n",
       "        vertical-align: middle;\n",
       "    }\n",
       "\n",
       "    .dataframe tbody tr th {\n",
       "        vertical-align: top;\n",
       "    }\n",
       "\n",
       "    .dataframe thead th {\n",
       "        text-align: right;\n",
       "    }\n",
       "</style>\n",
       "<table border=\"1\" class=\"dataframe\">\n",
       "  <thead>\n",
       "    <tr style=\"text-align: right;\">\n",
       "      <th></th>\n",
       "      <th>Date</th>\n",
       "      <th>High</th>\n",
       "      <th>Low</th>\n",
       "      <th>Open</th>\n",
       "      <th>Close</th>\n",
       "      <th>Day of Week</th>\n",
       "    </tr>\n",
       "  </thead>\n",
       "  <tbody>\n",
       "    <tr>\n",
       "      <th>0</th>\n",
       "      <td>1962-01-02</td>\n",
       "      <td>0.096026</td>\n",
       "      <td>0.092908</td>\n",
       "      <td>0.092908</td>\n",
       "      <td>0.092908</td>\n",
       "      <td>Tuesday</td>\n",
       "    </tr>\n",
       "    <tr>\n",
       "      <th>1</th>\n",
       "      <td>1962-01-03</td>\n",
       "      <td>0.094467</td>\n",
       "      <td>0.092908</td>\n",
       "      <td>0.092908</td>\n",
       "      <td>0.094155</td>\n",
       "      <td>Wednesday</td>\n",
       "    </tr>\n",
       "    <tr>\n",
       "      <th>2</th>\n",
       "      <td>1962-01-04</td>\n",
       "      <td>0.094467</td>\n",
       "      <td>0.093532</td>\n",
       "      <td>0.094155</td>\n",
       "      <td>0.094155</td>\n",
       "      <td>Thursday</td>\n",
       "    </tr>\n",
       "    <tr>\n",
       "      <th>3</th>\n",
       "      <td>1962-01-05</td>\n",
       "      <td>0.094779</td>\n",
       "      <td>0.093844</td>\n",
       "      <td>0.094155</td>\n",
       "      <td>0.094467</td>\n",
       "      <td>Friday</td>\n",
       "    </tr>\n",
       "    <tr>\n",
       "      <th>4</th>\n",
       "      <td>1962-01-08</td>\n",
       "      <td>0.095714</td>\n",
       "      <td>0.092285</td>\n",
       "      <td>0.094467</td>\n",
       "      <td>0.094155</td>\n",
       "      <td>Monday</td>\n",
       "    </tr>\n",
       "  </tbody>\n",
       "</table>\n",
       "</div>"
      ],
      "text/plain": [
       "        Date      High       Low      Open     Close Day of Week\n",
       "0 1962-01-02  0.096026  0.092908  0.092908  0.092908     Tuesday\n",
       "1 1962-01-03  0.094467  0.092908  0.092908  0.094155   Wednesday\n",
       "2 1962-01-04  0.094467  0.093532  0.094155  0.094155    Thursday\n",
       "3 1962-01-05  0.094779  0.093844  0.094155  0.094467      Friday\n",
       "4 1962-01-08  0.095714  0.092285  0.094467  0.094155      Monday"
      ]
     },
     "execution_count": 125,
     "metadata": {},
     "output_type": "execute_result"
    }
   ],
   "source": [
    "# 기존 데이터에 추가해줍시다.\n",
    "disney['Day of Week'] = disney['Date'].dt.day_name()\n",
    "disney.head()"
   ]
  },
  {
   "cell_type": "code",
   "execution_count": 126,
   "id": "fca1b2a6-7f6c-43a2-adb0-ce570496303b",
   "metadata": {},
   "outputs": [
    {
     "data": {
      "text/html": [
       "<div>\n",
       "<style scoped>\n",
       "    .dataframe tbody tr th:only-of-type {\n",
       "        vertical-align: middle;\n",
       "    }\n",
       "\n",
       "    .dataframe tbody tr th {\n",
       "        vertical-align: top;\n",
       "    }\n",
       "\n",
       "    .dataframe thead th {\n",
       "        text-align: right;\n",
       "    }\n",
       "</style>\n",
       "<table border=\"1\" class=\"dataframe\">\n",
       "  <thead>\n",
       "    <tr style=\"text-align: right;\">\n",
       "      <th></th>\n",
       "      <th>High</th>\n",
       "      <th>Low</th>\n",
       "      <th>Open</th>\n",
       "      <th>Close</th>\n",
       "    </tr>\n",
       "    <tr>\n",
       "      <th>Day of Week</th>\n",
       "      <th></th>\n",
       "      <th></th>\n",
       "      <th></th>\n",
       "      <th></th>\n",
       "    </tr>\n",
       "  </thead>\n",
       "  <tbody>\n",
       "    <tr>\n",
       "      <th>Friday</th>\n",
       "      <td>23.767304</td>\n",
       "      <td>23.318898</td>\n",
       "      <td>23.552872</td>\n",
       "      <td>23.554498</td>\n",
       "    </tr>\n",
       "    <tr>\n",
       "      <th>Monday</th>\n",
       "      <td>23.377271</td>\n",
       "      <td>22.930606</td>\n",
       "      <td>23.161392</td>\n",
       "      <td>23.162543</td>\n",
       "    </tr>\n",
       "    <tr>\n",
       "      <th>Thursday</th>\n",
       "      <td>23.770234</td>\n",
       "      <td>23.288687</td>\n",
       "      <td>23.534561</td>\n",
       "      <td>23.540359</td>\n",
       "    </tr>\n",
       "    <tr>\n",
       "      <th>Tuesday</th>\n",
       "      <td>23.791234</td>\n",
       "      <td>23.335267</td>\n",
       "      <td>23.571755</td>\n",
       "      <td>23.562907</td>\n",
       "    </tr>\n",
       "    <tr>\n",
       "      <th>Wednesday</th>\n",
       "      <td>23.842743</td>\n",
       "      <td>23.355419</td>\n",
       "      <td>23.605618</td>\n",
       "      <td>23.609873</td>\n",
       "    </tr>\n",
       "  </tbody>\n",
       "</table>\n",
       "</div>"
      ],
      "text/plain": [
       "                  High        Low       Open      Close\n",
       "Day of Week                                            \n",
       "Friday       23.767304  23.318898  23.552872  23.554498\n",
       "Monday       23.377271  22.930606  23.161392  23.162543\n",
       "Thursday     23.770234  23.288687  23.534561  23.540359\n",
       "Tuesday      23.791234  23.335267  23.571755  23.562907\n",
       "Wednesday    23.842743  23.355419  23.605618  23.609873"
      ]
     },
     "execution_count": 126,
     "metadata": {},
     "output_type": "execute_result"
    }
   ],
   "source": [
    "# 요일별로 평균을 구할 수 있습니다.\n",
    "disney.groupby('Day of Week').mean(numeric_only=True)"
   ]
  },
  {
   "cell_type": "code",
   "execution_count": 127,
   "id": "38bd6647-10ad-45ea-8006-6935cce146dd",
   "metadata": {},
   "outputs": [
    {
     "data": {
      "text/html": [
       "<div>\n",
       "<style scoped>\n",
       "    .dataframe tbody tr th:only-of-type {\n",
       "        vertical-align: middle;\n",
       "    }\n",
       "\n",
       "    .dataframe tbody tr th {\n",
       "        vertical-align: top;\n",
       "    }\n",
       "\n",
       "    .dataframe thead th {\n",
       "        text-align: right;\n",
       "    }\n",
       "</style>\n",
       "<table border=\"1\" class=\"dataframe\">\n",
       "  <thead>\n",
       "    <tr style=\"text-align: right;\">\n",
       "      <th></th>\n",
       "      <th>Date</th>\n",
       "      <th>High</th>\n",
       "      <th>Low</th>\n",
       "      <th>Open</th>\n",
       "      <th>Close</th>\n",
       "      <th>Day of Week</th>\n",
       "      <th>Month</th>\n",
       "    </tr>\n",
       "  </thead>\n",
       "  <tbody>\n",
       "    <tr>\n",
       "      <th>0</th>\n",
       "      <td>1962-01-02</td>\n",
       "      <td>0.096026</td>\n",
       "      <td>0.092908</td>\n",
       "      <td>0.092908</td>\n",
       "      <td>0.092908</td>\n",
       "      <td>Tuesday</td>\n",
       "      <td>January</td>\n",
       "    </tr>\n",
       "    <tr>\n",
       "      <th>1</th>\n",
       "      <td>1962-01-03</td>\n",
       "      <td>0.094467</td>\n",
       "      <td>0.092908</td>\n",
       "      <td>0.092908</td>\n",
       "      <td>0.094155</td>\n",
       "      <td>Wednesday</td>\n",
       "      <td>January</td>\n",
       "    </tr>\n",
       "    <tr>\n",
       "      <th>2</th>\n",
       "      <td>1962-01-04</td>\n",
       "      <td>0.094467</td>\n",
       "      <td>0.093532</td>\n",
       "      <td>0.094155</td>\n",
       "      <td>0.094155</td>\n",
       "      <td>Thursday</td>\n",
       "      <td>January</td>\n",
       "    </tr>\n",
       "    <tr>\n",
       "      <th>3</th>\n",
       "      <td>1962-01-05</td>\n",
       "      <td>0.094779</td>\n",
       "      <td>0.093844</td>\n",
       "      <td>0.094155</td>\n",
       "      <td>0.094467</td>\n",
       "      <td>Friday</td>\n",
       "      <td>January</td>\n",
       "    </tr>\n",
       "    <tr>\n",
       "      <th>4</th>\n",
       "      <td>1962-01-08</td>\n",
       "      <td>0.095714</td>\n",
       "      <td>0.092285</td>\n",
       "      <td>0.094467</td>\n",
       "      <td>0.094155</td>\n",
       "      <td>Monday</td>\n",
       "      <td>January</td>\n",
       "    </tr>\n",
       "  </tbody>\n",
       "</table>\n",
       "</div>"
      ],
      "text/plain": [
       "        Date      High       Low      Open     Close Day of Week    Month\n",
       "0 1962-01-02  0.096026  0.092908  0.092908  0.092908     Tuesday  January\n",
       "1 1962-01-03  0.094467  0.092908  0.092908  0.094155   Wednesday  January\n",
       "2 1962-01-04  0.094467  0.093532  0.094155  0.094155    Thursday  January\n",
       "3 1962-01-05  0.094779  0.093844  0.094155  0.094467      Friday  January\n",
       "4 1962-01-08  0.095714  0.092285  0.094467  0.094155      Monday  January"
      ]
     },
     "execution_count": 127,
     "metadata": {},
     "output_type": "execute_result"
    }
   ],
   "source": [
    "# 해당 월의 데이터를 가져올 수 있습니다.\n",
    "disney['Month'] = disney['Date'].dt.month_name()\n",
    "disney.head()"
   ]
  },
  {
   "cell_type": "code",
   "execution_count": 128,
   "id": "74fc7ae3-32f9-4d02-91f1-e021b551258e",
   "metadata": {},
   "outputs": [
    {
     "data": {
      "text/html": [
       "<div>\n",
       "<style scoped>\n",
       "    .dataframe tbody tr th:only-of-type {\n",
       "        vertical-align: middle;\n",
       "    }\n",
       "\n",
       "    .dataframe tbody tr th {\n",
       "        vertical-align: top;\n",
       "    }\n",
       "\n",
       "    .dataframe thead th {\n",
       "        text-align: right;\n",
       "    }\n",
       "</style>\n",
       "<table border=\"1\" class=\"dataframe\">\n",
       "  <thead>\n",
       "    <tr style=\"text-align: right;\">\n",
       "      <th></th>\n",
       "      <th>High</th>\n",
       "      <th>Low</th>\n",
       "      <th>Open</th>\n",
       "      <th>Close</th>\n",
       "    </tr>\n",
       "    <tr>\n",
       "      <th>Month</th>\n",
       "      <th></th>\n",
       "      <th></th>\n",
       "      <th></th>\n",
       "      <th></th>\n",
       "    </tr>\n",
       "  </thead>\n",
       "  <tbody>\n",
       "    <tr>\n",
       "      <th>April</th>\n",
       "      <td>24.29</td>\n",
       "      <td>23.80</td>\n",
       "      <td>24.06</td>\n",
       "      <td>24.07</td>\n",
       "    </tr>\n",
       "    <tr>\n",
       "      <th>August</th>\n",
       "      <td>23.06</td>\n",
       "      <td>22.62</td>\n",
       "      <td>22.86</td>\n",
       "      <td>22.84</td>\n",
       "    </tr>\n",
       "    <tr>\n",
       "      <th>December</th>\n",
       "      <td>23.67</td>\n",
       "      <td>23.23</td>\n",
       "      <td>23.45</td>\n",
       "      <td>23.44</td>\n",
       "    </tr>\n",
       "    <tr>\n",
       "      <th>February</th>\n",
       "      <td>24.16</td>\n",
       "      <td>23.67</td>\n",
       "      <td>23.92</td>\n",
       "      <td>23.93</td>\n",
       "    </tr>\n",
       "    <tr>\n",
       "      <th>January</th>\n",
       "      <td>23.19</td>\n",
       "      <td>22.73</td>\n",
       "      <td>22.96</td>\n",
       "      <td>22.97</td>\n",
       "    </tr>\n",
       "    <tr>\n",
       "      <th>July</th>\n",
       "      <td>23.69</td>\n",
       "      <td>23.28</td>\n",
       "      <td>23.49</td>\n",
       "      <td>23.48</td>\n",
       "    </tr>\n",
       "    <tr>\n",
       "      <th>June</th>\n",
       "      <td>25.00</td>\n",
       "      <td>24.54</td>\n",
       "      <td>24.78</td>\n",
       "      <td>24.77</td>\n",
       "    </tr>\n",
       "    <tr>\n",
       "      <th>March</th>\n",
       "      <td>23.80</td>\n",
       "      <td>23.28</td>\n",
       "      <td>23.57</td>\n",
       "      <td>23.56</td>\n",
       "    </tr>\n",
       "    <tr>\n",
       "      <th>May</th>\n",
       "      <td>24.93</td>\n",
       "      <td>24.45</td>\n",
       "      <td>24.70</td>\n",
       "      <td>24.70</td>\n",
       "    </tr>\n",
       "    <tr>\n",
       "      <th>November</th>\n",
       "      <td>23.57</td>\n",
       "      <td>23.08</td>\n",
       "      <td>23.31</td>\n",
       "      <td>23.34</td>\n",
       "    </tr>\n",
       "    <tr>\n",
       "      <th>October</th>\n",
       "      <td>22.73</td>\n",
       "      <td>22.26</td>\n",
       "      <td>22.50</td>\n",
       "      <td>22.50</td>\n",
       "    </tr>\n",
       "    <tr>\n",
       "      <th>September</th>\n",
       "      <td>22.47</td>\n",
       "      <td>22.06</td>\n",
       "      <td>22.27</td>\n",
       "      <td>22.27</td>\n",
       "    </tr>\n",
       "  </tbody>\n",
       "</table>\n",
       "</div>"
      ],
      "text/plain": [
       "            High    Low   Open  Close\n",
       "Month                                \n",
       "April      24.29  23.80  24.06  24.07\n",
       "August     23.06  22.62  22.86  22.84\n",
       "December   23.67  23.23  23.45  23.44\n",
       "February   24.16  23.67  23.92  23.93\n",
       "January    23.19  22.73  22.96  22.97\n",
       "July       23.69  23.28  23.49  23.48\n",
       "June       25.00  24.54  24.78  24.77\n",
       "March      23.80  23.28  23.57  23.56\n",
       "May        24.93  24.45  24.70  24.70\n",
       "November   23.57  23.08  23.31  23.34\n",
       "October    22.73  22.26  22.50  22.50\n",
       "September  22.47  22.06  22.27  22.27"
      ]
     },
     "execution_count": 128,
     "metadata": {},
     "output_type": "execute_result"
    }
   ],
   "source": [
    "# 월 별, 평균값을 알 수 있습니다.\n",
    "disney.groupby('Month').mean(numeric_only=True).round(2)"
   ]
  },
  {
   "cell_type": "code",
   "execution_count": 129,
   "id": "8f4e5597-15a7-47ff-a027-9ae4484fa7be",
   "metadata": {},
   "outputs": [
    {
     "data": {
      "text/html": [
       "<div>\n",
       "<style scoped>\n",
       "    .dataframe tbody tr th:only-of-type {\n",
       "        vertical-align: middle;\n",
       "    }\n",
       "\n",
       "    .dataframe tbody tr th {\n",
       "        vertical-align: top;\n",
       "    }\n",
       "\n",
       "    .dataframe thead th {\n",
       "        text-align: right;\n",
       "    }\n",
       "</style>\n",
       "<table border=\"1\" class=\"dataframe\">\n",
       "  <thead>\n",
       "    <tr style=\"text-align: right;\">\n",
       "      <th></th>\n",
       "      <th>Date</th>\n",
       "      <th>High</th>\n",
       "      <th>Low</th>\n",
       "      <th>Open</th>\n",
       "      <th>Close</th>\n",
       "      <th>Day of Week</th>\n",
       "      <th>Month</th>\n",
       "    </tr>\n",
       "  </thead>\n",
       "  <tbody>\n",
       "    <tr>\n",
       "      <th>189</th>\n",
       "      <td>1962-10-01</td>\n",
       "      <td>0.064849</td>\n",
       "      <td>0.062355</td>\n",
       "      <td>0.063913</td>\n",
       "      <td>0.062355</td>\n",
       "      <td>Monday</td>\n",
       "      <td>October</td>\n",
       "    </tr>\n",
       "    <tr>\n",
       "      <th>314</th>\n",
       "      <td>1963-04-01</td>\n",
       "      <td>0.087989</td>\n",
       "      <td>0.086704</td>\n",
       "      <td>0.087025</td>\n",
       "      <td>0.086704</td>\n",
       "      <td>Monday</td>\n",
       "      <td>April</td>\n",
       "    </tr>\n",
       "    <tr>\n",
       "      <th>377</th>\n",
       "      <td>1963-07-01</td>\n",
       "      <td>0.096338</td>\n",
       "      <td>0.095053</td>\n",
       "      <td>0.096338</td>\n",
       "      <td>0.095696</td>\n",
       "      <td>Monday</td>\n",
       "      <td>July</td>\n",
       "    </tr>\n",
       "    <tr>\n",
       "      <th>441</th>\n",
       "      <td>1963-10-01</td>\n",
       "      <td>0.110467</td>\n",
       "      <td>0.107898</td>\n",
       "      <td>0.107898</td>\n",
       "      <td>0.110467</td>\n",
       "      <td>Tuesday</td>\n",
       "      <td>October</td>\n",
       "    </tr>\n",
       "    <tr>\n",
       "      <th>565</th>\n",
       "      <td>1964-04-01</td>\n",
       "      <td>0.116248</td>\n",
       "      <td>0.112394</td>\n",
       "      <td>0.112394</td>\n",
       "      <td>0.116248</td>\n",
       "      <td>Wednesday</td>\n",
       "      <td>April</td>\n",
       "    </tr>\n",
       "    <tr>\n",
       "      <th>...</th>\n",
       "      <td>...</td>\n",
       "      <td>...</td>\n",
       "      <td>...</td>\n",
       "      <td>...</td>\n",
       "      <td>...</td>\n",
       "      <td>...</td>\n",
       "      <td>...</td>\n",
       "    </tr>\n",
       "    <tr>\n",
       "      <th>14409</th>\n",
       "      <td>2019-04-01</td>\n",
       "      <td>112.870003</td>\n",
       "      <td>111.379997</td>\n",
       "      <td>111.589996</td>\n",
       "      <td>112.510002</td>\n",
       "      <td>Monday</td>\n",
       "      <td>April</td>\n",
       "    </tr>\n",
       "    <tr>\n",
       "      <th>14472</th>\n",
       "      <td>2019-07-01</td>\n",
       "      <td>141.949997</td>\n",
       "      <td>139.220001</td>\n",
       "      <td>140.449997</td>\n",
       "      <td>141.649994</td>\n",
       "      <td>Monday</td>\n",
       "      <td>July</td>\n",
       "    </tr>\n",
       "    <tr>\n",
       "      <th>14536</th>\n",
       "      <td>2019-10-01</td>\n",
       "      <td>131.779999</td>\n",
       "      <td>129.509995</td>\n",
       "      <td>130.800003</td>\n",
       "      <td>129.550003</td>\n",
       "      <td>Tuesday</td>\n",
       "      <td>October</td>\n",
       "    </tr>\n",
       "    <tr>\n",
       "      <th>14662</th>\n",
       "      <td>2020-04-01</td>\n",
       "      <td>97.400002</td>\n",
       "      <td>92.559998</td>\n",
       "      <td>93.500000</td>\n",
       "      <td>94.919998</td>\n",
       "      <td>Wednesday</td>\n",
       "      <td>April</td>\n",
       "    </tr>\n",
       "    <tr>\n",
       "      <th>14725</th>\n",
       "      <td>2020-07-01</td>\n",
       "      <td>115.599998</td>\n",
       "      <td>112.290001</td>\n",
       "      <td>112.820000</td>\n",
       "      <td>113.010002</td>\n",
       "      <td>Wednesday</td>\n",
       "      <td>July</td>\n",
       "    </tr>\n",
       "  </tbody>\n",
       "</table>\n",
       "<p>123 rows × 7 columns</p>\n",
       "</div>"
      ],
      "text/plain": [
       "            Date        High         Low        Open       Close Day of Week  \\\n",
       "189   1962-10-01    0.064849    0.062355    0.063913    0.062355      Monday   \n",
       "314   1963-04-01    0.087989    0.086704    0.087025    0.086704      Monday   \n",
       "377   1963-07-01    0.096338    0.095053    0.096338    0.095696      Monday   \n",
       "441   1963-10-01    0.110467    0.107898    0.107898    0.110467     Tuesday   \n",
       "565   1964-04-01    0.116248    0.112394    0.112394    0.116248   Wednesday   \n",
       "...          ...         ...         ...         ...         ...         ...   \n",
       "14409 2019-04-01  112.870003  111.379997  111.589996  112.510002      Monday   \n",
       "14472 2019-07-01  141.949997  139.220001  140.449997  141.649994      Monday   \n",
       "14536 2019-10-01  131.779999  129.509995  130.800003  129.550003     Tuesday   \n",
       "14662 2020-04-01   97.400002   92.559998   93.500000   94.919998   Wednesday   \n",
       "14725 2020-07-01  115.599998  112.290001  112.820000  113.010002   Wednesday   \n",
       "\n",
       "         Month  \n",
       "189    October  \n",
       "314      April  \n",
       "377       July  \n",
       "441    October  \n",
       "565      April  \n",
       "...        ...  \n",
       "14409    April  \n",
       "14472     July  \n",
       "14536  October  \n",
       "14662    April  \n",
       "14725     July  \n",
       "\n",
       "[123 rows x 7 columns]"
      ]
     },
     "execution_count": 129,
     "metadata": {},
     "output_type": "execute_result"
    }
   ],
   "source": [
    "# 분기는 1월, 4월, 7월, 10월이고 start는 1일을 기준으로 합니다.\n",
    "disney[disney['Date'].dt.is_quarter_start]"
   ]
  },
  {
   "cell_type": "code",
   "execution_count": 130,
   "id": "a0a16e8a-836a-4658-87b5-e802e764fdf4",
   "metadata": {},
   "outputs": [
    {
     "data": {
      "text/html": [
       "<div>\n",
       "<style scoped>\n",
       "    .dataframe tbody tr th:only-of-type {\n",
       "        vertical-align: middle;\n",
       "    }\n",
       "\n",
       "    .dataframe tbody tr th {\n",
       "        vertical-align: top;\n",
       "    }\n",
       "\n",
       "    .dataframe thead th {\n",
       "        text-align: right;\n",
       "    }\n",
       "</style>\n",
       "<table border=\"1\" class=\"dataframe\">\n",
       "  <thead>\n",
       "    <tr style=\"text-align: right;\">\n",
       "      <th></th>\n",
       "      <th>Date</th>\n",
       "      <th>High</th>\n",
       "      <th>Low</th>\n",
       "      <th>Open</th>\n",
       "      <th>Close</th>\n",
       "      <th>Day of Week</th>\n",
       "      <th>Month</th>\n",
       "    </tr>\n",
       "  </thead>\n",
       "  <tbody>\n",
       "    <tr>\n",
       "      <th>251</th>\n",
       "      <td>1962-12-31</td>\n",
       "      <td>0.074501</td>\n",
       "      <td>0.071290</td>\n",
       "      <td>0.074501</td>\n",
       "      <td>0.072253</td>\n",
       "      <td>Monday</td>\n",
       "      <td>December</td>\n",
       "    </tr>\n",
       "    <tr>\n",
       "      <th>440</th>\n",
       "      <td>1963-09-30</td>\n",
       "      <td>0.109825</td>\n",
       "      <td>0.105972</td>\n",
       "      <td>0.108541</td>\n",
       "      <td>0.107577</td>\n",
       "      <td>Monday</td>\n",
       "      <td>September</td>\n",
       "    </tr>\n",
       "    <tr>\n",
       "      <th>502</th>\n",
       "      <td>1963-12-31</td>\n",
       "      <td>0.101476</td>\n",
       "      <td>0.096980</td>\n",
       "      <td>0.097622</td>\n",
       "      <td>0.101476</td>\n",
       "      <td>Tuesday</td>\n",
       "      <td>December</td>\n",
       "    </tr>\n",
       "    <tr>\n",
       "      <th>564</th>\n",
       "      <td>1964-03-31</td>\n",
       "      <td>0.115605</td>\n",
       "      <td>0.112394</td>\n",
       "      <td>0.114963</td>\n",
       "      <td>0.112394</td>\n",
       "      <td>Tuesday</td>\n",
       "      <td>March</td>\n",
       "    </tr>\n",
       "    <tr>\n",
       "      <th>628</th>\n",
       "      <td>1964-06-30</td>\n",
       "      <td>0.101476</td>\n",
       "      <td>0.100191</td>\n",
       "      <td>0.101476</td>\n",
       "      <td>0.100834</td>\n",
       "      <td>Tuesday</td>\n",
       "      <td>June</td>\n",
       "    </tr>\n",
       "    <tr>\n",
       "      <th>...</th>\n",
       "      <td>...</td>\n",
       "      <td>...</td>\n",
       "      <td>...</td>\n",
       "      <td>...</td>\n",
       "      <td>...</td>\n",
       "      <td>...</td>\n",
       "      <td>...</td>\n",
       "    </tr>\n",
       "    <tr>\n",
       "      <th>14347</th>\n",
       "      <td>2018-12-31</td>\n",
       "      <td>109.669998</td>\n",
       "      <td>107.550003</td>\n",
       "      <td>109.110001</td>\n",
       "      <td>109.650002</td>\n",
       "      <td>Monday</td>\n",
       "      <td>December</td>\n",
       "    </tr>\n",
       "    <tr>\n",
       "      <th>14535</th>\n",
       "      <td>2019-09-30</td>\n",
       "      <td>130.860001</td>\n",
       "      <td>129.820007</td>\n",
       "      <td>130.350006</td>\n",
       "      <td>130.320007</td>\n",
       "      <td>Monday</td>\n",
       "      <td>September</td>\n",
       "    </tr>\n",
       "    <tr>\n",
       "      <th>14599</th>\n",
       "      <td>2019-12-31</td>\n",
       "      <td>144.770004</td>\n",
       "      <td>143.259995</td>\n",
       "      <td>143.669998</td>\n",
       "      <td>144.630005</td>\n",
       "      <td>Tuesday</td>\n",
       "      <td>December</td>\n",
       "    </tr>\n",
       "    <tr>\n",
       "      <th>14661</th>\n",
       "      <td>2020-03-31</td>\n",
       "      <td>103.160004</td>\n",
       "      <td>96.160004</td>\n",
       "      <td>100.220001</td>\n",
       "      <td>96.599998</td>\n",
       "      <td>Tuesday</td>\n",
       "      <td>March</td>\n",
       "    </tr>\n",
       "    <tr>\n",
       "      <th>14724</th>\n",
       "      <td>2020-06-30</td>\n",
       "      <td>112.050003</td>\n",
       "      <td>109.930000</td>\n",
       "      <td>111.500000</td>\n",
       "      <td>111.510002</td>\n",
       "      <td>Tuesday</td>\n",
       "      <td>June</td>\n",
       "    </tr>\n",
       "  </tbody>\n",
       "</table>\n",
       "<p>163 rows × 7 columns</p>\n",
       "</div>"
      ],
      "text/plain": [
       "            Date        High         Low        Open       Close Day of Week  \\\n",
       "251   1962-12-31    0.074501    0.071290    0.074501    0.072253      Monday   \n",
       "440   1963-09-30    0.109825    0.105972    0.108541    0.107577      Monday   \n",
       "502   1963-12-31    0.101476    0.096980    0.097622    0.101476     Tuesday   \n",
       "564   1964-03-31    0.115605    0.112394    0.114963    0.112394     Tuesday   \n",
       "628   1964-06-30    0.101476    0.100191    0.101476    0.100834     Tuesday   \n",
       "...          ...         ...         ...         ...         ...         ...   \n",
       "14347 2018-12-31  109.669998  107.550003  109.110001  109.650002      Monday   \n",
       "14535 2019-09-30  130.860001  129.820007  130.350006  130.320007      Monday   \n",
       "14599 2019-12-31  144.770004  143.259995  143.669998  144.630005     Tuesday   \n",
       "14661 2020-03-31  103.160004   96.160004  100.220001   96.599998     Tuesday   \n",
       "14724 2020-06-30  112.050003  109.930000  111.500000  111.510002     Tuesday   \n",
       "\n",
       "           Month  \n",
       "251     December  \n",
       "440    September  \n",
       "502     December  \n",
       "564        March  \n",
       "628         June  \n",
       "...          ...  \n",
       "14347   December  \n",
       "14535  September  \n",
       "14599   December  \n",
       "14661      March  \n",
       "14724       June  \n",
       "\n",
       "[163 rows x 7 columns]"
      ]
     },
     "execution_count": 130,
     "metadata": {},
     "output_type": "execute_result"
    }
   ],
   "source": [
    "# 각 달의 마지막 날을 기준으로 합니다.\n",
    "disney[disney['Date'].dt.is_quarter_end]"
   ]
  },
  {
   "cell_type": "code",
   "execution_count": 131,
   "id": "17e182b0-48a4-4301-8c91-a4e8a1bf8eaa",
   "metadata": {},
   "outputs": [
    {
     "data": {
      "text/html": [
       "<div>\n",
       "<style scoped>\n",
       "    .dataframe tbody tr th:only-of-type {\n",
       "        vertical-align: middle;\n",
       "    }\n",
       "\n",
       "    .dataframe tbody tr th {\n",
       "        vertical-align: top;\n",
       "    }\n",
       "\n",
       "    .dataframe thead th {\n",
       "        text-align: right;\n",
       "    }\n",
       "</style>\n",
       "<table border=\"1\" class=\"dataframe\">\n",
       "  <thead>\n",
       "    <tr style=\"text-align: right;\">\n",
       "      <th></th>\n",
       "      <th>Date</th>\n",
       "      <th>High</th>\n",
       "      <th>Low</th>\n",
       "      <th>Open</th>\n",
       "      <th>Close</th>\n",
       "      <th>Day of Week</th>\n",
       "      <th>Month</th>\n",
       "    </tr>\n",
       "  </thead>\n",
       "  <tbody>\n",
       "  </tbody>\n",
       "</table>\n",
       "</div>"
      ],
      "text/plain": [
       "Empty DataFrame\n",
       "Columns: [Date, High, Low, Open, Close, Day of Week, Month]\n",
       "Index: []"
      ]
     },
     "execution_count": 131,
     "metadata": {},
     "output_type": "execute_result"
    }
   ],
   "source": [
    "# 신정에는 주식장이 거래가 되지 않습니다.\n",
    "disney[disney['Date'].dt.is_year_start]"
   ]
  },
  {
   "cell_type": "code",
   "execution_count": 132,
   "id": "e4ab894c-61c6-4553-9aad-246b5a5af631",
   "metadata": {},
   "outputs": [
    {
     "data": {
      "text/html": [
       "<div>\n",
       "<style scoped>\n",
       "    .dataframe tbody tr th:only-of-type {\n",
       "        vertical-align: middle;\n",
       "    }\n",
       "\n",
       "    .dataframe tbody tr th {\n",
       "        vertical-align: top;\n",
       "    }\n",
       "\n",
       "    .dataframe thead th {\n",
       "        text-align: right;\n",
       "    }\n",
       "</style>\n",
       "<table border=\"1\" class=\"dataframe\">\n",
       "  <thead>\n",
       "    <tr style=\"text-align: right;\">\n",
       "      <th></th>\n",
       "      <th>Date</th>\n",
       "      <th>High</th>\n",
       "      <th>Low</th>\n",
       "      <th>Open</th>\n",
       "      <th>Close</th>\n",
       "      <th>Day of Week</th>\n",
       "      <th>Month</th>\n",
       "    </tr>\n",
       "  </thead>\n",
       "  <tbody>\n",
       "    <tr>\n",
       "      <th>251</th>\n",
       "      <td>1962-12-31</td>\n",
       "      <td>0.074501</td>\n",
       "      <td>0.071290</td>\n",
       "      <td>0.074501</td>\n",
       "      <td>0.072253</td>\n",
       "      <td>Monday</td>\n",
       "      <td>December</td>\n",
       "    </tr>\n",
       "    <tr>\n",
       "      <th>502</th>\n",
       "      <td>1963-12-31</td>\n",
       "      <td>0.101476</td>\n",
       "      <td>0.096980</td>\n",
       "      <td>0.097622</td>\n",
       "      <td>0.101476</td>\n",
       "      <td>Tuesday</td>\n",
       "      <td>December</td>\n",
       "    </tr>\n",
       "    <tr>\n",
       "      <th>755</th>\n",
       "      <td>1964-12-31</td>\n",
       "      <td>0.117853</td>\n",
       "      <td>0.116890</td>\n",
       "      <td>0.116890</td>\n",
       "      <td>0.116890</td>\n",
       "      <td>Thursday</td>\n",
       "      <td>December</td>\n",
       "    </tr>\n",
       "    <tr>\n",
       "      <th>1007</th>\n",
       "      <td>1965-12-31</td>\n",
       "      <td>0.154141</td>\n",
       "      <td>0.150929</td>\n",
       "      <td>0.153498</td>\n",
       "      <td>0.152214</td>\n",
       "      <td>Friday</td>\n",
       "      <td>December</td>\n",
       "    </tr>\n",
       "    <tr>\n",
       "      <th>1736</th>\n",
       "      <td>1968-12-31</td>\n",
       "      <td>0.439301</td>\n",
       "      <td>0.431594</td>\n",
       "      <td>0.434163</td>\n",
       "      <td>0.436732</td>\n",
       "      <td>Tuesday</td>\n",
       "      <td>December</td>\n",
       "    </tr>\n",
       "    <tr>\n",
       "      <th>1986</th>\n",
       "      <td>1969-12-31</td>\n",
       "      <td>0.694275</td>\n",
       "      <td>0.678219</td>\n",
       "      <td>0.678219</td>\n",
       "      <td>0.688495</td>\n",
       "      <td>Wednesday</td>\n",
       "      <td>December</td>\n",
       "    </tr>\n",
       "    <tr>\n",
       "      <th>2240</th>\n",
       "      <td>1970-12-31</td>\n",
       "      <td>0.732168</td>\n",
       "      <td>0.721892</td>\n",
       "      <td>0.732168</td>\n",
       "      <td>0.726388</td>\n",
       "      <td>Thursday</td>\n",
       "      <td>December</td>\n",
       "    </tr>\n",
       "    <tr>\n",
       "      <th>2493</th>\n",
       "      <td>1971-12-31</td>\n",
       "      <td>1.430939</td>\n",
       "      <td>1.392404</td>\n",
       "      <td>1.392404</td>\n",
       "      <td>1.412956</td>\n",
       "      <td>Friday</td>\n",
       "      <td>December</td>\n",
       "    </tr>\n",
       "    <tr>\n",
       "      <th>2996</th>\n",
       "      <td>1973-12-31</td>\n",
       "      <td>0.983931</td>\n",
       "      <td>0.955672</td>\n",
       "      <td>0.973655</td>\n",
       "      <td>0.971086</td>\n",
       "      <td>Monday</td>\n",
       "      <td>December</td>\n",
       "    </tr>\n",
       "    <tr>\n",
       "      <th>3249</th>\n",
       "      <td>1974-12-31</td>\n",
       "      <td>0.441870</td>\n",
       "      <td>0.421318</td>\n",
       "      <td>0.421318</td>\n",
       "      <td>0.439301</td>\n",
       "      <td>Tuesday</td>\n",
       "      <td>December</td>\n",
       "    </tr>\n",
       "    <tr>\n",
       "      <th>3502</th>\n",
       "      <td>1975-12-31</td>\n",
       "      <td>1.030173</td>\n",
       "      <td>1.019897</td>\n",
       "      <td>1.019897</td>\n",
       "      <td>1.025035</td>\n",
       "      <td>Wednesday</td>\n",
       "      <td>December</td>\n",
       "    </tr>\n",
       "    <tr>\n",
       "      <th>3755</th>\n",
       "      <td>1976-12-31</td>\n",
       "      <td>0.999345</td>\n",
       "      <td>0.971086</td>\n",
       "      <td>0.994207</td>\n",
       "      <td>0.971086</td>\n",
       "      <td>Friday</td>\n",
       "      <td>December</td>\n",
       "    </tr>\n",
       "    <tr>\n",
       "      <th>4512</th>\n",
       "      <td>1979-12-31</td>\n",
       "      <td>0.929982</td>\n",
       "      <td>0.919706</td>\n",
       "      <td>0.927413</td>\n",
       "      <td>0.922275</td>\n",
       "      <td>Monday</td>\n",
       "      <td>December</td>\n",
       "    </tr>\n",
       "    <tr>\n",
       "      <th>4765</th>\n",
       "      <td>1980-12-31</td>\n",
       "      <td>1.061001</td>\n",
       "      <td>1.045587</td>\n",
       "      <td>1.048156</td>\n",
       "      <td>1.053294</td>\n",
       "      <td>Wednesday</td>\n",
       "      <td>December</td>\n",
       "    </tr>\n",
       "    <tr>\n",
       "      <th>5018</th>\n",
       "      <td>1981-12-31</td>\n",
       "      <td>1.078984</td>\n",
       "      <td>1.071277</td>\n",
       "      <td>1.073846</td>\n",
       "      <td>1.073846</td>\n",
       "      <td>Thursday</td>\n",
       "      <td>December</td>\n",
       "    </tr>\n",
       "    <tr>\n",
       "      <th>5271</th>\n",
       "      <td>1982-12-31</td>\n",
       "      <td>1.302488</td>\n",
       "      <td>1.292212</td>\n",
       "      <td>1.292212</td>\n",
       "      <td>1.299919</td>\n",
       "      <td>Friday</td>\n",
       "      <td>December</td>\n",
       "    </tr>\n",
       "    <tr>\n",
       "      <th>5777</th>\n",
       "      <td>1984-12-31</td>\n",
       "      <td>1.248539</td>\n",
       "      <td>1.230556</td>\n",
       "      <td>1.243401</td>\n",
       "      <td>1.230556</td>\n",
       "      <td>Monday</td>\n",
       "      <td>December</td>\n",
       "    </tr>\n",
       "    <tr>\n",
       "      <th>6029</th>\n",
       "      <td>1985-12-31</td>\n",
       "      <td>2.332661</td>\n",
       "      <td>2.281281</td>\n",
       "      <td>2.281281</td>\n",
       "      <td>2.319816</td>\n",
       "      <td>Tuesday</td>\n",
       "      <td>December</td>\n",
       "    </tr>\n",
       "    <tr>\n",
       "      <th>6282</th>\n",
       "      <td>1986-12-31</td>\n",
       "      <td>3.565786</td>\n",
       "      <td>3.483578</td>\n",
       "      <td>3.483578</td>\n",
       "      <td>3.545234</td>\n",
       "      <td>Wednesday</td>\n",
       "      <td>December</td>\n",
       "    </tr>\n",
       "    <tr>\n",
       "      <th>6535</th>\n",
       "      <td>1987-12-31</td>\n",
       "      <td>4.891396</td>\n",
       "      <td>4.809187</td>\n",
       "      <td>4.891396</td>\n",
       "      <td>4.870844</td>\n",
       "      <td>Thursday</td>\n",
       "      <td>December</td>\n",
       "    </tr>\n",
       "    <tr>\n",
       "      <th>7293</th>\n",
       "      <td>1990-12-31</td>\n",
       "      <td>8.405802</td>\n",
       "      <td>8.261937</td>\n",
       "      <td>8.395526</td>\n",
       "      <td>8.344146</td>\n",
       "      <td>Monday</td>\n",
       "      <td>December</td>\n",
       "    </tr>\n",
       "    <tr>\n",
       "      <th>7546</th>\n",
       "      <td>1991-12-31</td>\n",
       "      <td>9.484786</td>\n",
       "      <td>9.289541</td>\n",
       "      <td>9.443683</td>\n",
       "      <td>9.412854</td>\n",
       "      <td>Tuesday</td>\n",
       "      <td>December</td>\n",
       "    </tr>\n",
       "    <tr>\n",
       "      <th>7800</th>\n",
       "      <td>1992-12-31</td>\n",
       "      <td>14.468667</td>\n",
       "      <td>14.139833</td>\n",
       "      <td>14.304250</td>\n",
       "      <td>14.139833</td>\n",
       "      <td>Thursday</td>\n",
       "      <td>December</td>\n",
       "    </tr>\n",
       "    <tr>\n",
       "      <th>8053</th>\n",
       "      <td>1993-12-31</td>\n",
       "      <td>14.468667</td>\n",
       "      <td>14.016521</td>\n",
       "      <td>14.386458</td>\n",
       "      <td>14.016521</td>\n",
       "      <td>Friday</td>\n",
       "      <td>December</td>\n",
       "    </tr>\n",
       "    <tr>\n",
       "      <th>8811</th>\n",
       "      <td>1996-12-31</td>\n",
       "      <td>23.182751</td>\n",
       "      <td>22.812813</td>\n",
       "      <td>23.018333</td>\n",
       "      <td>22.936125</td>\n",
       "      <td>Tuesday</td>\n",
       "      <td>December</td>\n",
       "    </tr>\n",
       "    <tr>\n",
       "      <th>9064</th>\n",
       "      <td>1997-12-31</td>\n",
       "      <td>32.965542</td>\n",
       "      <td>32.451740</td>\n",
       "      <td>32.554501</td>\n",
       "      <td>32.554501</td>\n",
       "      <td>Wednesday</td>\n",
       "      <td>December</td>\n",
       "    </tr>\n",
       "    <tr>\n",
       "      <th>9316</th>\n",
       "      <td>1998-12-31</td>\n",
       "      <td>29.718313</td>\n",
       "      <td>29.163406</td>\n",
       "      <td>29.471687</td>\n",
       "      <td>29.594999</td>\n",
       "      <td>Thursday</td>\n",
       "      <td>December</td>\n",
       "    </tr>\n",
       "    <tr>\n",
       "      <th>9568</th>\n",
       "      <td>1999-12-31</td>\n",
       "      <td>28.978437</td>\n",
       "      <td>28.423531</td>\n",
       "      <td>28.731813</td>\n",
       "      <td>28.855125</td>\n",
       "      <td>Friday</td>\n",
       "      <td>December</td>\n",
       "    </tr>\n",
       "    <tr>\n",
       "      <th>10068</th>\n",
       "      <td>2001-12-31</td>\n",
       "      <td>20.963125</td>\n",
       "      <td>20.272575</td>\n",
       "      <td>20.667175</td>\n",
       "      <td>20.440281</td>\n",
       "      <td>Monday</td>\n",
       "      <td>December</td>\n",
       "    </tr>\n",
       "    <tr>\n",
       "      <th>10320</th>\n",
       "      <td>2002-12-31</td>\n",
       "      <td>16.227924</td>\n",
       "      <td>15.606430</td>\n",
       "      <td>15.734675</td>\n",
       "      <td>16.089815</td>\n",
       "      <td>Tuesday</td>\n",
       "      <td>December</td>\n",
       "    </tr>\n",
       "    <tr>\n",
       "      <th>10572</th>\n",
       "      <td>2003-12-31</td>\n",
       "      <td>23.133425</td>\n",
       "      <td>22.876934</td>\n",
       "      <td>22.995316</td>\n",
       "      <td>23.015045</td>\n",
       "      <td>Wednesday</td>\n",
       "      <td>December</td>\n",
       "    </tr>\n",
       "    <tr>\n",
       "      <th>10824</th>\n",
       "      <td>2004-12-31</td>\n",
       "      <td>27.622000</td>\n",
       "      <td>27.385241</td>\n",
       "      <td>27.602270</td>\n",
       "      <td>27.424700</td>\n",
       "      <td>Friday</td>\n",
       "      <td>December</td>\n",
       "    </tr>\n",
       "    <tr>\n",
       "      <th>11578</th>\n",
       "      <td>2007-12-31</td>\n",
       "      <td>32.520000</td>\n",
       "      <td>32.240002</td>\n",
       "      <td>32.419998</td>\n",
       "      <td>32.279999</td>\n",
       "      <td>Monday</td>\n",
       "      <td>December</td>\n",
       "    </tr>\n",
       "    <tr>\n",
       "      <th>11831</th>\n",
       "      <td>2008-12-31</td>\n",
       "      <td>22.950001</td>\n",
       "      <td>22.520000</td>\n",
       "      <td>22.570000</td>\n",
       "      <td>22.690001</td>\n",
       "      <td>Wednesday</td>\n",
       "      <td>December</td>\n",
       "    </tr>\n",
       "    <tr>\n",
       "      <th>12083</th>\n",
       "      <td>2009-12-31</td>\n",
       "      <td>32.750000</td>\n",
       "      <td>32.220001</td>\n",
       "      <td>32.270000</td>\n",
       "      <td>32.250000</td>\n",
       "      <td>Thursday</td>\n",
       "      <td>December</td>\n",
       "    </tr>\n",
       "    <tr>\n",
       "      <th>12335</th>\n",
       "      <td>2010-12-31</td>\n",
       "      <td>37.599998</td>\n",
       "      <td>37.209999</td>\n",
       "      <td>37.369999</td>\n",
       "      <td>37.509998</td>\n",
       "      <td>Friday</td>\n",
       "      <td>December</td>\n",
       "    </tr>\n",
       "    <tr>\n",
       "      <th>12837</th>\n",
       "      <td>2012-12-31</td>\n",
       "      <td>49.799999</td>\n",
       "      <td>48.799999</td>\n",
       "      <td>48.889999</td>\n",
       "      <td>49.790001</td>\n",
       "      <td>Monday</td>\n",
       "      <td>December</td>\n",
       "    </tr>\n",
       "    <tr>\n",
       "      <th>13089</th>\n",
       "      <td>2013-12-31</td>\n",
       "      <td>76.500000</td>\n",
       "      <td>75.809998</td>\n",
       "      <td>76.279999</td>\n",
       "      <td>76.400002</td>\n",
       "      <td>Tuesday</td>\n",
       "      <td>December</td>\n",
       "    </tr>\n",
       "    <tr>\n",
       "      <th>13341</th>\n",
       "      <td>2014-12-31</td>\n",
       "      <td>95.519997</td>\n",
       "      <td>94.029999</td>\n",
       "      <td>95.129997</td>\n",
       "      <td>94.190002</td>\n",
       "      <td>Wednesday</td>\n",
       "      <td>December</td>\n",
       "    </tr>\n",
       "    <tr>\n",
       "      <th>13593</th>\n",
       "      <td>2015-12-31</td>\n",
       "      <td>106.309998</td>\n",
       "      <td>105.059998</td>\n",
       "      <td>106.139999</td>\n",
       "      <td>105.080002</td>\n",
       "      <td>Thursday</td>\n",
       "      <td>December</td>\n",
       "    </tr>\n",
       "    <tr>\n",
       "      <th>14347</th>\n",
       "      <td>2018-12-31</td>\n",
       "      <td>109.669998</td>\n",
       "      <td>107.550003</td>\n",
       "      <td>109.110001</td>\n",
       "      <td>109.650002</td>\n",
       "      <td>Monday</td>\n",
       "      <td>December</td>\n",
       "    </tr>\n",
       "    <tr>\n",
       "      <th>14599</th>\n",
       "      <td>2019-12-31</td>\n",
       "      <td>144.770004</td>\n",
       "      <td>143.259995</td>\n",
       "      <td>143.669998</td>\n",
       "      <td>144.630005</td>\n",
       "      <td>Tuesday</td>\n",
       "      <td>December</td>\n",
       "    </tr>\n",
       "  </tbody>\n",
       "</table>\n",
       "</div>"
      ],
      "text/plain": [
       "            Date        High         Low        Open       Close Day of Week  \\\n",
       "251   1962-12-31    0.074501    0.071290    0.074501    0.072253      Monday   \n",
       "502   1963-12-31    0.101476    0.096980    0.097622    0.101476     Tuesday   \n",
       "755   1964-12-31    0.117853    0.116890    0.116890    0.116890    Thursday   \n",
       "1007  1965-12-31    0.154141    0.150929    0.153498    0.152214      Friday   \n",
       "1736  1968-12-31    0.439301    0.431594    0.434163    0.436732     Tuesday   \n",
       "1986  1969-12-31    0.694275    0.678219    0.678219    0.688495   Wednesday   \n",
       "2240  1970-12-31    0.732168    0.721892    0.732168    0.726388    Thursday   \n",
       "2493  1971-12-31    1.430939    1.392404    1.392404    1.412956      Friday   \n",
       "2996  1973-12-31    0.983931    0.955672    0.973655    0.971086      Monday   \n",
       "3249  1974-12-31    0.441870    0.421318    0.421318    0.439301     Tuesday   \n",
       "3502  1975-12-31    1.030173    1.019897    1.019897    1.025035   Wednesday   \n",
       "3755  1976-12-31    0.999345    0.971086    0.994207    0.971086      Friday   \n",
       "4512  1979-12-31    0.929982    0.919706    0.927413    0.922275      Monday   \n",
       "4765  1980-12-31    1.061001    1.045587    1.048156    1.053294   Wednesday   \n",
       "5018  1981-12-31    1.078984    1.071277    1.073846    1.073846    Thursday   \n",
       "5271  1982-12-31    1.302488    1.292212    1.292212    1.299919      Friday   \n",
       "5777  1984-12-31    1.248539    1.230556    1.243401    1.230556      Monday   \n",
       "6029  1985-12-31    2.332661    2.281281    2.281281    2.319816     Tuesday   \n",
       "6282  1986-12-31    3.565786    3.483578    3.483578    3.545234   Wednesday   \n",
       "6535  1987-12-31    4.891396    4.809187    4.891396    4.870844    Thursday   \n",
       "7293  1990-12-31    8.405802    8.261937    8.395526    8.344146      Monday   \n",
       "7546  1991-12-31    9.484786    9.289541    9.443683    9.412854     Tuesday   \n",
       "7800  1992-12-31   14.468667   14.139833   14.304250   14.139833    Thursday   \n",
       "8053  1993-12-31   14.468667   14.016521   14.386458   14.016521      Friday   \n",
       "8811  1996-12-31   23.182751   22.812813   23.018333   22.936125     Tuesday   \n",
       "9064  1997-12-31   32.965542   32.451740   32.554501   32.554501   Wednesday   \n",
       "9316  1998-12-31   29.718313   29.163406   29.471687   29.594999    Thursday   \n",
       "9568  1999-12-31   28.978437   28.423531   28.731813   28.855125      Friday   \n",
       "10068 2001-12-31   20.963125   20.272575   20.667175   20.440281      Monday   \n",
       "10320 2002-12-31   16.227924   15.606430   15.734675   16.089815     Tuesday   \n",
       "10572 2003-12-31   23.133425   22.876934   22.995316   23.015045   Wednesday   \n",
       "10824 2004-12-31   27.622000   27.385241   27.602270   27.424700      Friday   \n",
       "11578 2007-12-31   32.520000   32.240002   32.419998   32.279999      Monday   \n",
       "11831 2008-12-31   22.950001   22.520000   22.570000   22.690001   Wednesday   \n",
       "12083 2009-12-31   32.750000   32.220001   32.270000   32.250000    Thursday   \n",
       "12335 2010-12-31   37.599998   37.209999   37.369999   37.509998      Friday   \n",
       "12837 2012-12-31   49.799999   48.799999   48.889999   49.790001      Monday   \n",
       "13089 2013-12-31   76.500000   75.809998   76.279999   76.400002     Tuesday   \n",
       "13341 2014-12-31   95.519997   94.029999   95.129997   94.190002   Wednesday   \n",
       "13593 2015-12-31  106.309998  105.059998  106.139999  105.080002    Thursday   \n",
       "14347 2018-12-31  109.669998  107.550003  109.110001  109.650002      Monday   \n",
       "14599 2019-12-31  144.770004  143.259995  143.669998  144.630005     Tuesday   \n",
       "\n",
       "          Month  \n",
       "251    December  \n",
       "502    December  \n",
       "755    December  \n",
       "1007   December  \n",
       "1736   December  \n",
       "1986   December  \n",
       "2240   December  \n",
       "2493   December  \n",
       "2996   December  \n",
       "3249   December  \n",
       "3502   December  \n",
       "3755   December  \n",
       "4512   December  \n",
       "4765   December  \n",
       "5018   December  \n",
       "5271   December  \n",
       "5777   December  \n",
       "6029   December  \n",
       "6282   December  \n",
       "6535   December  \n",
       "7293   December  \n",
       "7546   December  \n",
       "7800   December  \n",
       "8053   December  \n",
       "8811   December  \n",
       "9064   December  \n",
       "9316   December  \n",
       "9568   December  \n",
       "10068  December  \n",
       "10320  December  \n",
       "10572  December  \n",
       "10824  December  \n",
       "11578  December  \n",
       "11831  December  \n",
       "12083  December  \n",
       "12335  December  \n",
       "12837  December  \n",
       "13089  December  \n",
       "13341  December  \n",
       "13593  December  \n",
       "14347  December  \n",
       "14599  December  "
      ]
     },
     "execution_count": 132,
     "metadata": {},
     "output_type": "execute_result"
    }
   ],
   "source": [
    "# 각 년의 마지막 값만을 도출합니다.\n",
    "disney[disney['Date'].dt.is_year_end]"
   ]
  },
  {
   "cell_type": "code",
   "execution_count": 133,
   "id": "50ad3f63-0f7c-480d-9583-3d365b673330",
   "metadata": {},
   "outputs": [
    {
     "data": {
      "text/plain": [
       "<DateOffset: days=3, months=4, years=3>"
      ]
     },
     "execution_count": 133,
     "metadata": {},
     "output_type": "execute_result"
    }
   ],
   "source": [
    "# 만약, 기존 날짜에서 3년 4개월 3일 후의 일자를 구해야할때, DateOffset을 사용합니다.\n",
    "pd.DateOffset(years=3,\n",
    "              months=4,\n",
    "              days=3)"
   ]
  },
  {
   "cell_type": "code",
   "execution_count": 67,
   "id": "c5a03bb0-0982-4758-a5a6-caa845f3395f",
   "metadata": {},
   "outputs": [
    {
     "data": {
      "text/plain": [
       "0   1962-01-02\n",
       "1   1962-01-03\n",
       "2   1962-01-04\n",
       "3   1962-01-05\n",
       "4   1962-01-08\n",
       "Name: Date, dtype: datetime64[ns]"
      ]
     },
     "execution_count": 67,
     "metadata": {},
     "output_type": "execute_result"
    }
   ],
   "source": [
    "disney['Date'].head()"
   ]
  },
  {
   "cell_type": "code",
   "execution_count": 69,
   "id": "55f33e51-0756-40e0-bc3f-548ce556ab8d",
   "metadata": {},
   "outputs": [
    {
     "data": {
      "text/plain": [
       "0       1962-01-07\n",
       "1       1962-01-08\n",
       "2       1962-01-09\n",
       "3       1962-01-10\n",
       "4       1962-01-13\n",
       "           ...    \n",
       "14722   2020-07-01\n",
       "14723   2020-07-04\n",
       "14724   2020-07-05\n",
       "14725   2020-07-06\n",
       "14726   2020-07-07\n",
       "Name: Date, Length: 14727, dtype: datetime64[ns]"
      ]
     },
     "execution_count": 69,
     "metadata": {},
     "output_type": "execute_result"
    }
   ],
   "source": [
    "disney['Date']+pd.DateOffset(days=5)"
   ]
  },
  {
   "cell_type": "code",
   "execution_count": 70,
   "id": "4b164a5e-ec81-451b-8678-639bb1023afa",
   "metadata": {},
   "outputs": [
    {
     "data": {
      "text/plain": [
       "0       1961-12-30\n",
       "1       1961-12-31\n",
       "2       1962-01-01\n",
       "3       1962-01-02\n",
       "4       1962-01-05\n",
       "           ...    \n",
       "14722   2020-06-23\n",
       "14723   2020-06-26\n",
       "14724   2020-06-27\n",
       "14725   2020-06-28\n",
       "14726   2020-06-29\n",
       "Name: Date, Length: 14727, dtype: datetime64[ns]"
      ]
     },
     "execution_count": 70,
     "metadata": {},
     "output_type": "execute_result"
    }
   ],
   "source": [
    "disney['Date']-pd.DateOffset(days=3)"
   ]
  },
  {
   "cell_type": "code",
   "execution_count": 71,
   "id": "b60bfdc7-2305-47d7-8679-0ce68bbefd6f",
   "metadata": {},
   "outputs": [
    {
     "data": {
      "text/plain": [
       "0       1962-01-12 06:00:00\n",
       "1       1962-01-13 06:00:00\n",
       "2       1962-01-14 06:00:00\n",
       "3       1962-01-15 06:00:00\n",
       "4       1962-01-18 06:00:00\n",
       "                ...        \n",
       "14722   2020-07-06 06:00:00\n",
       "14723   2020-07-09 06:00:00\n",
       "14724   2020-07-10 06:00:00\n",
       "14725   2020-07-11 06:00:00\n",
       "14726   2020-07-12 06:00:00\n",
       "Name: Date, Length: 14727, dtype: datetime64[ns]"
      ]
     },
     "execution_count": 71,
     "metadata": {},
     "output_type": "execute_result"
    }
   ],
   "source": [
    "disney['Date']+pd.DateOffset(days=10, hours=6)"
   ]
  },
  {
   "cell_type": "code",
   "execution_count": 72,
   "id": "04ce410a-c448-4c3d-bd66-5f14d3d79e5c",
   "metadata": {},
   "outputs": [
    {
     "data": {
      "text/plain": [
       "14722   2020-06-26\n",
       "14723   2020-06-29\n",
       "14724   2020-06-30\n",
       "14725   2020-07-01\n",
       "14726   2020-07-02\n",
       "Name: Date, dtype: datetime64[ns]"
      ]
     },
     "execution_count": 72,
     "metadata": {},
     "output_type": "execute_result"
    }
   ],
   "source": [
    "disney['Date'].tail()"
   ]
  },
  {
   "cell_type": "code",
   "execution_count": 135,
   "id": "5a156734-eb9c-4b06-8650-54d8ef75aa3a",
   "metadata": {},
   "outputs": [
    {
     "data": {
      "text/plain": [
       "0       1962-01-31\n",
       "1       1962-01-31\n",
       "2       1962-01-31\n",
       "3       1962-01-31\n",
       "4       1962-01-31\n",
       "           ...    \n",
       "14722   2020-06-30\n",
       "14723   2020-06-30\n",
       "14724   2020-07-31\n",
       "14725   2020-07-31\n",
       "14726   2020-07-31\n",
       "Name: Date, Length: 14727, dtype: datetime64[ns]"
      ]
     },
     "execution_count": 135,
     "metadata": {},
     "output_type": "execute_result"
    }
   ],
   "source": [
    "# 판다스에서는 offsets 함수를 지원하고, MonthEND의 경우, 일자 설정 없이 해당 데이터를 월 끝으로 설정합니다.\n",
    "# 단, 달의 마지막 날의 경우, 다음달 마지막일자로 설정하는점, 주의하세요.\n",
    "disney['Date']+pd.offsets.MonthEnd()"
   ]
  },
  {
   "cell_type": "code",
   "execution_count": 136,
   "id": "8c09c015-02db-4ead-9b8e-71e567951f85",
   "metadata": {},
   "outputs": [
    {
     "data": {
      "text/plain": [
       "0       1961-12-31\n",
       "1       1961-12-31\n",
       "2       1961-12-31\n",
       "3       1961-12-31\n",
       "4       1961-12-31\n",
       "           ...    \n",
       "14722   2020-05-31\n",
       "14723   2020-05-31\n",
       "14724   2020-05-31\n",
       "14725   2020-06-30\n",
       "14726   2020-06-30\n",
       "Name: Date, Length: 14727, dtype: datetime64[ns]"
      ]
     },
     "execution_count": 136,
     "metadata": {},
     "output_type": "execute_result"
    }
   ],
   "source": [
    "disney['Date']-pd.offsets.MonthEnd()"
   ]
  },
  {
   "cell_type": "code",
   "execution_count": 76,
   "id": "cc008dfc-b6c9-4274-aced-05dba9733c76",
   "metadata": {},
   "outputs": [
    {
     "data": {
      "text/plain": [
       "0       1962-02-01\n",
       "1       1962-02-01\n",
       "2       1962-02-01\n",
       "3       1962-02-01\n",
       "4       1962-02-01\n",
       "           ...    \n",
       "14722   2020-07-01\n",
       "14723   2020-07-01\n",
       "14724   2020-07-01\n",
       "14725   2020-08-01\n",
       "14726   2020-08-01\n",
       "Name: Date, Length: 14727, dtype: datetime64[ns]"
      ]
     },
     "execution_count": 76,
     "metadata": {},
     "output_type": "execute_result"
    }
   ],
   "source": [
    "disney['Date']+pd.offsets.MonthBegin()"
   ]
  },
  {
   "cell_type": "code",
   "execution_count": 77,
   "id": "91793750-33ae-4ad2-8c07-afe52e667b13",
   "metadata": {},
   "outputs": [
    {
     "data": {
      "text/plain": [
       "0   2020-05-28\n",
       "1   2020-05-29\n",
       "2   2020-05-30\n",
       "dtype: datetime64[ns]"
      ]
     },
     "execution_count": 77,
     "metadata": {},
     "output_type": "execute_result"
    }
   ],
   "source": [
    "may_dates = ['2020-05-28', '2020-05-29', '2020-05-30']\n",
    "end_of_may = pd.Series(pd.to_datetime(may_dates))\n",
    "end_of_may"
   ]
  },
  {
   "cell_type": "code",
   "execution_count": 78,
   "id": "4b486ae3-6545-4033-b1fd-e55a0365d907",
   "metadata": {},
   "outputs": [
    {
     "data": {
      "text/plain": [
       "0   2020-05-31\n",
       "1   2020-05-31\n",
       "2   2020-05-31\n",
       "dtype: datetime64[ns]"
      ]
     },
     "execution_count": 78,
     "metadata": {},
     "output_type": "execute_result"
    }
   ],
   "source": [
    "end_of_may+pd.offsets.MonthEnd()"
   ]
  },
  {
   "cell_type": "code",
   "execution_count": 137,
   "id": "fb6d37f5-4af7-4cab-a02b-59744da64afc",
   "metadata": {},
   "outputs": [
    {
     "data": {
      "text/plain": [
       "0   2020-05-29\n",
       "1   2020-06-30\n",
       "2   2020-06-30\n",
       "dtype: datetime64[ns]"
      ]
     },
     "execution_count": 137,
     "metadata": {},
     "output_type": "execute_result"
    }
   ],
   "source": [
    "# 금, 목, 목\n",
    "# BMonthEND의 경우, 월~금요일까지 영업일을 기준으로 작동합니다.\n",
    "end_of_may+pd.offsets.BMonthEnd()"
   ]
  },
  {
   "cell_type": "code",
   "execution_count": 138,
   "id": "649eba02-7bcc-49dd-b4cf-0c2ec394e6ed",
   "metadata": {},
   "outputs": [
    {
     "data": {
      "text/plain": [
       "Timedelta('8 days 07:06:05')"
      ]
     },
     "execution_count": 138,
     "metadata": {},
     "output_type": "execute_result"
    }
   ],
   "source": [
    "duration = pd.Timedelta(days=8,\n",
    "                        hours=7,\n",
    "                        minutes=6,\n",
    "                        seconds=5)\n",
    "duration"
   ]
  },
  {
   "cell_type": "code",
   "execution_count": 139,
   "id": "22bec5b6-8e39-4a09-a4a7-5fbe31aa80d7",
   "metadata": {},
   "outputs": [
    {
     "data": {
      "text/plain": [
       "Timedelta('0 days 03:05:12')"
      ]
     },
     "execution_count": 139,
     "metadata": {},
     "output_type": "execute_result"
    }
   ],
   "source": [
    "pd.to_timedelta('3hours, 5minutes, 12seconds')"
   ]
  },
  {
   "cell_type": "code",
   "execution_count": 140,
   "id": "e2fc847c-a5d3-4561-962f-869daaf49a90",
   "metadata": {},
   "outputs": [
    {
     "data": {
      "text/plain": [
       "Timedelta('0 days 05:00:00')"
      ]
     },
     "execution_count": 140,
     "metadata": {},
     "output_type": "execute_result"
    }
   ],
   "source": [
    "pd.to_timedelta(5, unit='hour')"
   ]
  },
  {
   "cell_type": "code",
   "execution_count": 141,
   "id": "b18927e1-bd4b-4fd0-883e-65b71f7a2ff4",
   "metadata": {},
   "outputs": [
    {
     "data": {
      "text/html": [
       "<div>\n",
       "<style scoped>\n",
       "    .dataframe tbody tr th:only-of-type {\n",
       "        vertical-align: middle;\n",
       "    }\n",
       "\n",
       "    .dataframe tbody tr th {\n",
       "        vertical-align: top;\n",
       "    }\n",
       "\n",
       "    .dataframe thead th {\n",
       "        text-align: right;\n",
       "    }\n",
       "</style>\n",
       "<table border=\"1\" class=\"dataframe\">\n",
       "  <thead>\n",
       "    <tr style=\"text-align: right;\">\n",
       "      <th></th>\n",
       "      <th>order_date</th>\n",
       "      <th>delivery_date</th>\n",
       "    </tr>\n",
       "  </thead>\n",
       "  <tbody>\n",
       "    <tr>\n",
       "      <th>0</th>\n",
       "      <td>5/24/98</td>\n",
       "      <td>2/5/99</td>\n",
       "    </tr>\n",
       "    <tr>\n",
       "      <th>1</th>\n",
       "      <td>4/22/92</td>\n",
       "      <td>3/6/98</td>\n",
       "    </tr>\n",
       "    <tr>\n",
       "      <th>2</th>\n",
       "      <td>2/10/91</td>\n",
       "      <td>8/26/92</td>\n",
       "    </tr>\n",
       "    <tr>\n",
       "      <th>3</th>\n",
       "      <td>7/21/92</td>\n",
       "      <td>11/20/97</td>\n",
       "    </tr>\n",
       "    <tr>\n",
       "      <th>4</th>\n",
       "      <td>9/2/93</td>\n",
       "      <td>6/10/98</td>\n",
       "    </tr>\n",
       "  </tbody>\n",
       "</table>\n",
       "</div>"
      ],
      "text/plain": [
       "  order_date delivery_date\n",
       "0    5/24/98        2/5/99\n",
       "1    4/22/92        3/6/98\n",
       "2    2/10/91       8/26/92\n",
       "3    7/21/92      11/20/97\n",
       "4     9/2/93       6/10/98"
      ]
     },
     "execution_count": 141,
     "metadata": {},
     "output_type": "execute_result"
    }
   ],
   "source": [
    "deliveries = pd.read_csv('deliveries.csv')\n",
    "deliveries.head()"
   ]
  },
  {
   "cell_type": "code",
   "execution_count": 142,
   "id": "13b9aec4-f1c3-4e1f-b7e4-dffac1fca498",
   "metadata": {},
   "outputs": [
    {
     "name": "stdout",
     "output_type": "stream",
     "text": [
      "<class 'pandas.core.frame.DataFrame'>\n",
      "RangeIndex: 501 entries, 0 to 500\n",
      "Data columns (total 2 columns):\n",
      " #   Column         Non-Null Count  Dtype         \n",
      "---  ------         --------------  -----         \n",
      " 0   order_date     501 non-null    datetime64[ns]\n",
      " 1   delivery_date  501 non-null    datetime64[ns]\n",
      "dtypes: datetime64[ns](2)\n",
      "memory usage: 8.0 KB\n"
     ]
    },
    {
     "name": "stderr",
     "output_type": "stream",
     "text": [
      "/var/folders/yd/4k8th6097mb8w26m8__j7j140000gn/T/ipykernel_26390/4075931324.py:1: UserWarning: Could not infer format, so each element will be parsed individually, falling back to `dateutil`. To ensure parsing is consistent and as-expected, please specify a format.\n",
      "  deliveries = pd.read_csv(filepath_or_buffer='deliveries.csv',\n",
      "/var/folders/yd/4k8th6097mb8w26m8__j7j140000gn/T/ipykernel_26390/4075931324.py:1: UserWarning: Could not infer format, so each element will be parsed individually, falling back to `dateutil`. To ensure parsing is consistent and as-expected, please specify a format.\n",
      "  deliveries = pd.read_csv(filepath_or_buffer='deliveries.csv',\n"
     ]
    }
   ],
   "source": [
    "deliveries = pd.read_csv(filepath_or_buffer='deliveries.csv',\n",
    "                         parse_dates=['order_date', 'delivery_date'])\n",
    "deliveries.info()"
   ]
  },
  {
   "cell_type": "code",
   "execution_count": 143,
   "id": "a298fb81-23bb-4916-9510-9dd41719bf04",
   "metadata": {},
   "outputs": [
    {
     "data": {
      "text/plain": [
       "0      257 days\n",
       "1     2144 days\n",
       "2      563 days\n",
       "3     1948 days\n",
       "4     1742 days\n",
       "         ...   \n",
       "496   1684 days\n",
       "497   2394 days\n",
       "498   2719 days\n",
       "499     10 days\n",
       "500    637 days\n",
       "Length: 501, dtype: timedelta64[ns]"
      ]
     },
     "execution_count": 143,
     "metadata": {},
     "output_type": "execute_result"
    }
   ],
   "source": [
    "# 각 일자의 차이를 알 수 있습니다.\n",
    "deliveries['delivery_date']-deliveries['order_date']"
   ]
  },
  {
   "cell_type": "code",
   "execution_count": 144,
   "id": "142bf02f-e9af-4db9-a1b1-1ca24a31144d",
   "metadata": {},
   "outputs": [
    {
     "name": "stdout",
     "output_type": "stream",
     "text": [
      "<class 'pandas.core.frame.DataFrame'>\n",
      "RangeIndex: 501 entries, 0 to 500\n",
      "Data columns (total 3 columns):\n",
      " #   Column         Non-Null Count  Dtype          \n",
      "---  ------         --------------  -----          \n",
      " 0   order_date     501 non-null    datetime64[ns] \n",
      " 1   delivery_date  501 non-null    datetime64[ns] \n",
      " 2   duration       501 non-null    timedelta64[ns]\n",
      "dtypes: datetime64[ns](2), timedelta64[ns](1)\n",
      "memory usage: 11.9 KB\n"
     ]
    }
   ],
   "source": [
    "deliveries['duration'] = deliveries['delivery_date']-deliveries['order_date']\n",
    "deliveries.info()"
   ]
  },
  {
   "cell_type": "code",
   "execution_count": 145,
   "id": "a605eb08-af9e-4c92-9307-36e6bc3b4d62",
   "metadata": {},
   "outputs": [
    {
     "data": {
      "text/plain": [
       "454      8 days\n",
       "294      9 days\n",
       "10       9 days\n",
       "499     10 days\n",
       "143     16 days\n",
       "         ...   \n",
       "152   3379 days\n",
       "62    3423 days\n",
       "458   3562 days\n",
       "145   3580 days\n",
       "448   3583 days\n",
       "Name: duration, Length: 501, dtype: timedelta64[ns]"
      ]
     },
     "execution_count": 145,
     "metadata": {},
     "output_type": "execute_result"
    }
   ],
   "source": [
    "deliveries['duration'].sort_values()"
   ]
  },
  {
   "cell_type": "code",
   "execution_count": 147,
   "id": "083f6dac-b26f-483a-980d-4e68d6e8a4b7",
   "metadata": {},
   "outputs": [
    {
     "data": {
      "text/html": [
       "<div>\n",
       "<style scoped>\n",
       "    .dataframe tbody tr th:only-of-type {\n",
       "        vertical-align: middle;\n",
       "    }\n",
       "\n",
       "    .dataframe tbody tr th {\n",
       "        vertical-align: top;\n",
       "    }\n",
       "\n",
       "    .dataframe thead th {\n",
       "        text-align: right;\n",
       "    }\n",
       "</style>\n",
       "<table border=\"1\" class=\"dataframe\">\n",
       "  <thead>\n",
       "    <tr style=\"text-align: right;\">\n",
       "      <th></th>\n",
       "      <th>order_date</th>\n",
       "      <th>delivery_date</th>\n",
       "      <th>duration</th>\n",
       "    </tr>\n",
       "  </thead>\n",
       "  <tbody>\n",
       "    <tr>\n",
       "      <th>1</th>\n",
       "      <td>1992-04-22</td>\n",
       "      <td>1998-03-06</td>\n",
       "      <td>2144 days</td>\n",
       "    </tr>\n",
       "    <tr>\n",
       "      <th>2</th>\n",
       "      <td>1991-02-10</td>\n",
       "      <td>1992-08-26</td>\n",
       "      <td>563 days</td>\n",
       "    </tr>\n",
       "    <tr>\n",
       "      <th>3</th>\n",
       "      <td>1992-07-21</td>\n",
       "      <td>1997-11-20</td>\n",
       "      <td>1948 days</td>\n",
       "    </tr>\n",
       "    <tr>\n",
       "      <th>4</th>\n",
       "      <td>1993-09-02</td>\n",
       "      <td>1998-06-10</td>\n",
       "      <td>1742 days</td>\n",
       "    </tr>\n",
       "    <tr>\n",
       "      <th>6</th>\n",
       "      <td>1990-01-25</td>\n",
       "      <td>1994-10-02</td>\n",
       "      <td>1711 days</td>\n",
       "    </tr>\n",
       "    <tr>\n",
       "      <th>...</th>\n",
       "      <td>...</td>\n",
       "      <td>...</td>\n",
       "      <td>...</td>\n",
       "    </tr>\n",
       "    <tr>\n",
       "      <th>495</th>\n",
       "      <td>1990-12-10</td>\n",
       "      <td>1992-12-16</td>\n",
       "      <td>737 days</td>\n",
       "    </tr>\n",
       "    <tr>\n",
       "      <th>496</th>\n",
       "      <td>1991-06-24</td>\n",
       "      <td>1996-02-02</td>\n",
       "      <td>1684 days</td>\n",
       "    </tr>\n",
       "    <tr>\n",
       "      <th>497</th>\n",
       "      <td>1991-09-09</td>\n",
       "      <td>1998-03-30</td>\n",
       "      <td>2394 days</td>\n",
       "    </tr>\n",
       "    <tr>\n",
       "      <th>498</th>\n",
       "      <td>1990-11-16</td>\n",
       "      <td>1998-04-27</td>\n",
       "      <td>2719 days</td>\n",
       "    </tr>\n",
       "    <tr>\n",
       "      <th>500</th>\n",
       "      <td>1990-01-04</td>\n",
       "      <td>1991-10-03</td>\n",
       "      <td>637 days</td>\n",
       "    </tr>\n",
       "  </tbody>\n",
       "</table>\n",
       "<p>394 rows × 3 columns</p>\n",
       "</div>"
      ],
      "text/plain": [
       "    order_date delivery_date  duration\n",
       "1   1992-04-22    1998-03-06 2144 days\n",
       "2   1991-02-10    1992-08-26  563 days\n",
       "3   1992-07-21    1997-11-20 1948 days\n",
       "4   1993-09-02    1998-06-10 1742 days\n",
       "6   1990-01-25    1994-10-02 1711 days\n",
       "..         ...           ...       ...\n",
       "495 1990-12-10    1992-12-16  737 days\n",
       "496 1991-06-24    1996-02-02 1684 days\n",
       "497 1991-09-09    1998-03-30 2394 days\n",
       "498 1990-11-16    1998-04-27 2719 days\n",
       "500 1990-01-04    1991-10-03  637 days\n",
       "\n",
       "[394 rows x 3 columns]"
      ]
     },
     "execution_count": 147,
     "metadata": {},
     "output_type": "execute_result"
    }
   ],
   "source": [
    "deliveries[deliveries['duration']>pd.Timedelta(days=365)]"
   ]
  }
 ],
 "metadata": {
  "kernelspec": {
   "display_name": "Python 3 (ipykernel)",
   "language": "python",
   "name": "python3"
  },
  "language_info": {
   "codemirror_mode": {
    "name": "ipython",
    "version": 3
   },
   "file_extension": ".py",
   "mimetype": "text/x-python",
   "name": "python",
   "nbconvert_exporter": "python",
   "pygments_lexer": "ipython3",
   "version": "3.9.6"
  }
 },
 "nbformat": 4,
 "nbformat_minor": 5
}
