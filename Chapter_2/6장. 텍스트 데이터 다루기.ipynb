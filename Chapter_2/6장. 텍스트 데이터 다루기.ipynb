{
 "cells": [
  {
   "cell_type": "code",
   "execution_count": 1,
   "id": "bf085f24-aa6a-4ca0-abac-5e22bb9403f2",
   "metadata": {},
   "outputs": [],
   "source": [
    "# 텍스트 데이터의 경우 규칙 없이 지저분한 경우가 많습니다. \n",
    "# 이러한 데이터를 정리하는 과정을 랭글링(wrangling) 또는 먼징(munging)이라고 합니다."
   ]
  },
  {
   "cell_type": "code",
   "execution_count": 2,
   "id": "faa1a01b-9a1d-41ba-9886-2c5c8f21cd6c",
   "metadata": {},
   "outputs": [],
   "source": [
    "import pandas as pd\n",
    "import numpy as np"
   ]
  },
  {
   "cell_type": "code",
   "execution_count": 35,
   "id": "1e051365-2bd7-46f8-afeb-b7adce9d80bc",
   "metadata": {},
   "outputs": [
    {
     "data": {
      "text/html": [
       "<div>\n",
       "<style scoped>\n",
       "    .dataframe tbody tr th:only-of-type {\n",
       "        vertical-align: middle;\n",
       "    }\n",
       "\n",
       "    .dataframe tbody tr th {\n",
       "        vertical-align: top;\n",
       "    }\n",
       "\n",
       "    .dataframe thead th {\n",
       "        text-align: right;\n",
       "    }\n",
       "</style>\n",
       "<table border=\"1\" class=\"dataframe\">\n",
       "  <thead>\n",
       "    <tr style=\"text-align: right;\">\n",
       "      <th></th>\n",
       "      <th>Name</th>\n",
       "      <th>Risk</th>\n",
       "    </tr>\n",
       "  </thead>\n",
       "  <tbody>\n",
       "    <tr>\n",
       "      <th>0</th>\n",
       "      <td>MARRIOT MARQUIS CHICAGO</td>\n",
       "      <td>Risk 1 (High)</td>\n",
       "    </tr>\n",
       "    <tr>\n",
       "      <th>1</th>\n",
       "      <td>JETS PIZZA</td>\n",
       "      <td>Risk 2 (Medium)</td>\n",
       "    </tr>\n",
       "    <tr>\n",
       "      <th>2</th>\n",
       "      <td>ROOM 1520</td>\n",
       "      <td>Risk 3 (Low)</td>\n",
       "    </tr>\n",
       "    <tr>\n",
       "      <th>3</th>\n",
       "      <td>MARRIOT MARQUIS CHICAGO</td>\n",
       "      <td>Risk 1 (High)</td>\n",
       "    </tr>\n",
       "    <tr>\n",
       "      <th>4</th>\n",
       "      <td>CHARTWELLS</td>\n",
       "      <td>Risk 1 (High)</td>\n",
       "    </tr>\n",
       "  </tbody>\n",
       "</table>\n",
       "</div>"
      ],
      "text/plain": [
       "                          Name             Risk\n",
       "0   MARRIOT MARQUIS CHICAGO       Risk 1 (High)\n",
       "1                  JETS PIZZA   Risk 2 (Medium)\n",
       "2                   ROOM 1520      Risk 3 (Low)\n",
       "3    MARRIOT MARQUIS CHICAGO      Risk 1 (High)\n",
       "4                CHARTWELLS       Risk 1 (High)"
      ]
     },
     "execution_count": 35,
     "metadata": {},
     "output_type": "execute_result"
    }
   ],
   "source": [
    "# 데이터를 먼저 불러오죠.\n",
    "inspections = pd.read_csv(filepath_or_buffer='chicago_food_inspections.csv')\n",
    "inspections.head()"
   ]
  },
  {
   "cell_type": "code",
   "execution_count": 36,
   "id": "8e8df82d-aa34-4d8e-b294-a800d53ee200",
   "metadata": {},
   "outputs": [
    {
     "data": {
      "text/plain": [
       "0     MARRIOT MARQUIS CHICAGO   \n",
       "1                    JETS PIZZA \n",
       "2                     ROOM 1520 \n",
       "3      MARRIOT MARQUIS CHICAGO  \n",
       "4                  CHARTWELLS   \n",
       "Name: Name, dtype: object"
      ]
     },
     "execution_count": 36,
     "metadata": {},
     "output_type": "execute_result"
    }
   ],
   "source": [
    "# Name 열을 봐보죠.\n",
    "inspections['Name'].head()"
   ]
  },
  {
   "cell_type": "code",
   "execution_count": 37,
   "id": "d1c357cf-0b62-44b0-99cc-0f98bb931dd4",
   "metadata": {},
   "outputs": [
    {
     "data": {
      "text/plain": [
       "array([' MARRIOT MARQUIS CHICAGO   ', ' JETS PIZZA ', '   ROOM 1520 ',\n",
       "       '  MARRIOT MARQUIS CHICAGO  ', ' CHARTWELLS   '], dtype=object)"
      ]
     },
     "execution_count": 37,
     "metadata": {},
     "output_type": "execute_result"
    }
   ],
   "source": [
    "# 이렇게 값으로 가져와보면, 이름 앞 뒤에 공백이 있다는 것을 알 수 있습니다.\n",
    "inspections['Name'].head().values"
   ]
  },
  {
   "cell_type": "code",
   "execution_count": 38,
   "id": "ef906330-e5b5-4a2f-8d9d-ea5e7c7d9db1",
   "metadata": {},
   "outputs": [
    {
     "name": "stdout",
     "output_type": "stream",
     "text": [
      "    cheese    \n"
     ]
    }
   ],
   "source": [
    "# 이런 공백이 있는 문자는 3가지 함수로 다룰 수 있는데,\n",
    "dessert = '    cheese    '\n",
    "print(dessert)"
   ]
  },
  {
   "cell_type": "code",
   "execution_count": 39,
   "id": "a3f4d074-8438-44a2-8d96-2cb5b6f458c7",
   "metadata": {},
   "outputs": [
    {
     "data": {
      "text/plain": [
       "'cheese    '"
      ]
     },
     "execution_count": 39,
     "metadata": {},
     "output_type": "execute_result"
    }
   ],
   "source": [
    "# lstrip는 왼쪽 공백을 제거하고\n",
    "dessert.lstrip()"
   ]
  },
  {
   "cell_type": "code",
   "execution_count": 40,
   "id": "3972c115-c81b-4988-a79c-48ccfe2186b6",
   "metadata": {},
   "outputs": [
    {
     "data": {
      "text/plain": [
       "'    cheese'"
      ]
     },
     "execution_count": 40,
     "metadata": {},
     "output_type": "execute_result"
    }
   ],
   "source": [
    "# rstrip 함수는 오른쪽 공백을 제거하고\n",
    "dessert.rstrip()"
   ]
  },
  {
   "cell_type": "code",
   "execution_count": 41,
   "id": "36e1c217-be75-4e33-9be6-8ceb6a853493",
   "metadata": {},
   "outputs": [
    {
     "data": {
      "text/plain": [
       "'cheese'"
      ]
     },
     "execution_count": 41,
     "metadata": {},
     "output_type": "execute_result"
    }
   ],
   "source": [
    "# strip함수는 양쪽 공백을 제거합니다.\n",
    "dessert.strip()"
   ]
  },
  {
   "cell_type": "code",
   "execution_count": 42,
   "id": "534ed086-6d6a-4c71-8f94-4cf5072fa82d",
   "metadata": {},
   "outputs": [
    {
     "data": {
      "text/plain": [
       "Index(['Name', 'Risk'], dtype='object')"
      ]
     },
     "execution_count": 42,
     "metadata": {},
     "output_type": "execute_result"
    }
   ],
   "source": [
    "# 혹시, Risk 열에도 공백이 존재할 수 있으니 같은 방법을 적용합시다.\n",
    "inspections.columns"
   ]
  },
  {
   "cell_type": "code",
   "execution_count": 45,
   "id": "12605a1a-1538-4474-b04e-3c50ce0ca190",
   "metadata": {},
   "outputs": [],
   "source": [
    "# 두 열 모두에 공백을 제거해줍시다.\n",
    "for column in inspections.columns:\n",
    "    inspections[column] = inspections[column].str.strip()"
   ]
  },
  {
   "cell_type": "code",
   "execution_count": 47,
   "id": "3c507d28-ccaa-4f78-8df1-85cc04d96705",
   "metadata": {},
   "outputs": [
    {
     "data": {
      "text/plain": [
       "0     porterhouse\n",
       "1    filet mignon\n",
       "2          ribeye\n",
       "dtype: object"
      ]
     },
     "execution_count": 47,
     "metadata": {},
     "output_type": "execute_result"
    }
   ],
   "source": [
    "# 스테이크에 대한 문자형 데이터가 있을때,\n",
    "steaks = pd.Series(['porterhouse', 'filet mignon', 'ribeye'])\n",
    "steaks"
   ]
  },
  {
   "cell_type": "code",
   "execution_count": 48,
   "id": "6f593b89-e201-4ab8-b4c4-9389c065c64f",
   "metadata": {},
   "outputs": [
    {
     "data": {
      "text/plain": [
       "0     Porterhouse\n",
       "1    Filet mignon\n",
       "2          Ribeye\n",
       "dtype: object"
      ]
     },
     "execution_count": 48,
     "metadata": {},
     "output_type": "execute_result"
    }
   ],
   "source": [
    "# 가장 처음 나오는 문자만 대문자로 바꿉니다.\n",
    "steaks.str.capitalize()"
   ]
  },
  {
   "cell_type": "code",
   "execution_count": 49,
   "id": "1c02adae-c007-4a87-a1b6-c67b157eed2d",
   "metadata": {},
   "outputs": [
    {
     "data": {
      "text/plain": [
       "0     Porterhouse\n",
       "1    Filet Mignon\n",
       "2          Ribeye\n",
       "dtype: object"
      ]
     },
     "execution_count": 49,
     "metadata": {},
     "output_type": "execute_result"
    }
   ],
   "source": [
    "# 첫 문자 외에도 띄어쓰기 이후에 등장하는 첫번째 문자에 대문자 표기를 합니다.\n",
    "steaks.str.title()"
   ]
  },
  {
   "cell_type": "code",
   "execution_count": 50,
   "id": "9f23ed8b-a218-4d6d-8880-44dba4c7e23b",
   "metadata": {},
   "outputs": [
    {
     "data": {
      "text/plain": [
       "0     PORTERHOUSE\n",
       "1    FILET MIGNON\n",
       "2          RIBEYE\n",
       "dtype: object"
      ]
     },
     "execution_count": 50,
     "metadata": {},
     "output_type": "execute_result"
    }
   ],
   "source": [
    "# 글자 전체를 대문자화 시킵니다.\n",
    "steaks.str.upper()"
   ]
  },
  {
   "cell_type": "code",
   "execution_count": 51,
   "id": "42f732c0-6fc5-49bd-9d0a-68199233bf7d",
   "metadata": {},
   "outputs": [
    {
     "data": {
      "text/plain": [
       "0     porterhouse\n",
       "1    filet mignon\n",
       "2          ribeye\n",
       "dtype: object"
      ]
     },
     "execution_count": 51,
     "metadata": {},
     "output_type": "execute_result"
    }
   ],
   "source": [
    "# 글자 전체를 소문자화 시킵니다.\n",
    "steaks.str.lower()"
   ]
  },
  {
   "cell_type": "code",
   "execution_count": 52,
   "id": "75b0e8ba-9199-4730-8799-22ff93589262",
   "metadata": {},
   "outputs": [
    {
     "data": {
      "text/plain": [
       "0      Risk 1 (High)\n",
       "1    Risk 2 (Medium)\n",
       "2       Risk 3 (Low)\n",
       "3      Risk 1 (High)\n",
       "4      Risk 1 (High)\n",
       "Name: Risk, dtype: object"
      ]
     },
     "execution_count": 52,
     "metadata": {},
     "output_type": "execute_result"
    }
   ],
   "source": [
    "# 이제 Risk 부분을 살펴볼게요.\n",
    "inspections['Risk'].head()"
   ]
  },
  {
   "cell_type": "code",
   "execution_count": 54,
   "id": "9ac164bd-655b-4b7b-af32-2054e476db2d",
   "metadata": {},
   "outputs": [
    {
     "data": {
      "text/plain": [
       "array(['Risk 1 (High)', 'Risk 2 (Medium)', 'Risk 3 (Low)', 'All', nan],\n",
       "      dtype=object)"
      ]
     },
     "execution_count": 54,
     "metadata": {},
     "output_type": "execute_result"
    }
   ],
   "source": [
    "# 리스크의 고유의 값은 총 5가지인데, All, nan은 어떻게 처리해야할까요?\n",
    "inspections['Risk'].unique()"
   ]
  },
  {
   "cell_type": "code",
   "execution_count": 55,
   "id": "8c8d6a2f-ba1d-4052-8fb1-805e8378f38d",
   "metadata": {},
   "outputs": [],
   "source": [
    "# 데이터 실무자에 따라 방법이 달라지지만, 우리는 결측치는 제거하고, All은 새로운 Risk로 만들어보죠."
   ]
  },
  {
   "cell_type": "code",
   "execution_count": 56,
   "id": "a025336a-98e1-4d5e-885e-6e63a298db9c",
   "metadata": {},
   "outputs": [],
   "source": [
    "# 먼저 결측치를 제거하고\n",
    "inspections.dropna(subset=['Risk'], inplace=True)"
   ]
  },
  {
   "cell_type": "code",
   "execution_count": 57,
   "id": "8c120c1a-b82d-4b56-b062-ce7ea241c5a0",
   "metadata": {},
   "outputs": [],
   "source": [
    "# All은 Risk 4로 바꾸어줍니다.\n",
    "inspections.replace(to_replace=\"All\",\n",
    "                    value=\"Risk 4 (Extreme)\",\n",
    "                    inplace=True)"
   ]
  },
  {
   "cell_type": "code",
   "execution_count": 58,
   "id": "f8e97a1b-3155-4333-9620-e8abde2261b0",
   "metadata": {},
   "outputs": [
    {
     "data": {
      "text/plain": [
       "array(['Risk 1 (High)', 'Risk 2 (Medium)', 'Risk 3 (Low)',\n",
       "       'Risk 4 (Extreme)'], dtype=object)"
      ]
     },
     "execution_count": 58,
     "metadata": {},
     "output_type": "execute_result"
    }
   ],
   "source": [
    "inspections['Risk'].unique()"
   ]
  },
  {
   "cell_type": "code",
   "execution_count": 59,
   "id": "99d60c61-c4b3-45ba-bb2b-b646ba6113b7",
   "metadata": {},
   "outputs": [
    {
     "data": {
      "text/plain": [
       "0         1\n",
       "1         2\n",
       "2         3\n",
       "3         1\n",
       "4         1\n",
       "         ..\n",
       "153805    1\n",
       "153806    2\n",
       "153807    1\n",
       "153808    1\n",
       "153809    1\n",
       "Name: Risk, Length: 153744, dtype: object"
      ]
     },
     "execution_count": 59,
     "metadata": {},
     "output_type": "execute_result"
    }
   ],
   "source": [
    "# 해당 열이 몇번째 리스크인지를 알고 싶을때는 slice 함수를 사용합니다.\n",
    "inspections['Risk'].str.slice(5, 6)"
   ]
  },
  {
   "cell_type": "code",
   "execution_count": 60,
   "id": "b4747e38-cd94-4f74-803f-07edbc4c066b",
   "metadata": {},
   "outputs": [
    {
     "data": {
      "text/plain": [
       "0         1\n",
       "1         2\n",
       "2         3\n",
       "3         1\n",
       "4         1\n",
       "         ..\n",
       "153805    1\n",
       "153806    2\n",
       "153807    1\n",
       "153808    1\n",
       "153809    1\n",
       "Name: Risk, Length: 153744, dtype: object"
      ]
     },
     "execution_count": 60,
     "metadata": {},
     "output_type": "execute_result"
    }
   ],
   "source": [
    "# slice 대신에 배열 인덱싱으로도 사용할 수 있습니다.\n",
    "inspections['Risk'].str[5:6]"
   ]
  },
  {
   "cell_type": "code",
   "execution_count": 61,
   "id": "3071438b-f4bd-4f61-82ee-813c089831b7",
   "metadata": {},
   "outputs": [
    {
     "data": {
      "text/plain": [
       "0           High)\n",
       "1         Medium)\n",
       "2            Low)\n",
       "3           High)\n",
       "4           High)\n",
       "           ...   \n",
       "153805      High)\n",
       "153806    Medium)\n",
       "153807      High)\n",
       "153808      High)\n",
       "153809      High)\n",
       "Name: Risk, Length: 153744, dtype: object"
      ]
     },
     "execution_count": 61,
     "metadata": {},
     "output_type": "execute_result"
    }
   ],
   "source": [
    "# 8번째 문자열부터 가져오는데 ) 문자가 걸리적거리네요.\n",
    "inspections['Risk'].str.slice(8)"
   ]
  },
  {
   "cell_type": "code",
   "execution_count": 62,
   "id": "a9ecc41c-8c2f-45ae-9c52-f0ebfc5ee96b",
   "metadata": {},
   "outputs": [
    {
     "data": {
      "text/plain": [
       "0           High\n",
       "1         Medium\n",
       "2            Low\n",
       "3           High\n",
       "4           High\n",
       "           ...  \n",
       "153805      High\n",
       "153806    Medium\n",
       "153807      High\n",
       "153808      High\n",
       "153809      High\n",
       "Name: Risk, Length: 153744, dtype: object"
      ]
     },
     "execution_count": 62,
     "metadata": {},
     "output_type": "execute_result"
    }
   ],
   "source": [
    "# 8번째 문자열부터 -1번째 문자열로 지정을하면, ) 문자를 지울 수 있습니다.\n",
    "inspections['Risk'].str.slice(8, -1)"
   ]
  },
  {
   "cell_type": "code",
   "execution_count": 63,
   "id": "b6e54541-cb8f-45d4-96f6-aa55c97d4ddd",
   "metadata": {},
   "outputs": [
    {
     "data": {
      "text/plain": [
       "0           High\n",
       "1         Medium\n",
       "2            Low\n",
       "3           High\n",
       "4           High\n",
       "           ...  \n",
       "153805      High\n",
       "153806    Medium\n",
       "153807      High\n",
       "153808      High\n",
       "153809      High\n",
       "Name: Risk, Length: 153744, dtype: object"
      ]
     },
     "execution_count": 63,
     "metadata": {},
     "output_type": "execute_result"
    }
   ],
   "source": [
    "# 아니면 replace를 이용해서 지울 수 있죠.\n",
    "inspections['Risk'].str.slice(8).str.replace(')', '')"
   ]
  },
  {
   "cell_type": "code",
   "execution_count": 64,
   "id": "3544c515-d3c6-40e0-97d4-f8ba3611f5b6",
   "metadata": {},
   "outputs": [
    {
     "data": {
      "text/plain": [
       "True"
      ]
     },
     "execution_count": 64,
     "metadata": {},
     "output_type": "execute_result"
    }
   ],
   "source": [
    "# 어떤 문장 안에 어떤 단어가 들어있는지를 보려면 in을 사용하는데요\n",
    "'Pizza' in 'Jets Pizza'"
   ]
  },
  {
   "cell_type": "code",
   "execution_count": 65,
   "id": "d16a233f-a9ab-4d2c-a0e5-67feb299b6b1",
   "metadata": {},
   "outputs": [
    {
     "data": {
      "text/plain": [
       "0         False\n",
       "1          True\n",
       "2         False\n",
       "3         False\n",
       "4         False\n",
       "          ...  \n",
       "153805    False\n",
       "153806    False\n",
       "153807    False\n",
       "153808    False\n",
       "153809    False\n",
       "Name: Name, Length: 153744, dtype: bool"
      ]
     },
     "execution_count": 65,
     "metadata": {},
     "output_type": "execute_result"
    }
   ],
   "source": [
    "# 데이터프레임에서는 contains를 사용합니다.\n",
    "inspections['Name'].str.lower().str.contains('pizza')"
   ]
  },
  {
   "cell_type": "code",
   "execution_count": 66,
   "id": "79005f84-954a-4ba1-913c-bc472c9bb034",
   "metadata": {},
   "outputs": [
    {
     "data": {
      "text/html": [
       "<div>\n",
       "<style scoped>\n",
       "    .dataframe tbody tr th:only-of-type {\n",
       "        vertical-align: middle;\n",
       "    }\n",
       "\n",
       "    .dataframe tbody tr th {\n",
       "        vertical-align: top;\n",
       "    }\n",
       "\n",
       "    .dataframe thead th {\n",
       "        text-align: right;\n",
       "    }\n",
       "</style>\n",
       "<table border=\"1\" class=\"dataframe\">\n",
       "  <thead>\n",
       "    <tr style=\"text-align: right;\">\n",
       "      <th></th>\n",
       "      <th>Name</th>\n",
       "      <th>Risk</th>\n",
       "    </tr>\n",
       "  </thead>\n",
       "  <tbody>\n",
       "    <tr>\n",
       "      <th>1</th>\n",
       "      <td>JETS PIZZA</td>\n",
       "      <td>Risk 2 (Medium)</td>\n",
       "    </tr>\n",
       "    <tr>\n",
       "      <th>19</th>\n",
       "      <td>NANCY'S HOME OF STUFFED PIZZA</td>\n",
       "      <td>Risk 1 (High)</td>\n",
       "    </tr>\n",
       "    <tr>\n",
       "      <th>27</th>\n",
       "      <td>NARY'S GRILL &amp; PIZZA ,INC.</td>\n",
       "      <td>Risk 1 (High)</td>\n",
       "    </tr>\n",
       "    <tr>\n",
       "      <th>29</th>\n",
       "      <td>NARYS GRILL &amp; PIZZA</td>\n",
       "      <td>Risk 1 (High)</td>\n",
       "    </tr>\n",
       "    <tr>\n",
       "      <th>68</th>\n",
       "      <td>COLUTAS PIZZA</td>\n",
       "      <td>Risk 1 (High)</td>\n",
       "    </tr>\n",
       "    <tr>\n",
       "      <th>...</th>\n",
       "      <td>...</td>\n",
       "      <td>...</td>\n",
       "    </tr>\n",
       "    <tr>\n",
       "      <th>153756</th>\n",
       "      <td>ANGELO'S STUFFED PIZZA CORP</td>\n",
       "      <td>Risk 1 (High)</td>\n",
       "    </tr>\n",
       "    <tr>\n",
       "      <th>153764</th>\n",
       "      <td>COCHIAROS PIZZA #2</td>\n",
       "      <td>Risk 1 (High)</td>\n",
       "    </tr>\n",
       "    <tr>\n",
       "      <th>153772</th>\n",
       "      <td>FERNANDO'S MEXICAN GRILL &amp; PIZZA</td>\n",
       "      <td>Risk 1 (High)</td>\n",
       "    </tr>\n",
       "    <tr>\n",
       "      <th>153788</th>\n",
       "      <td>REGGIO'S PIZZA EXPRESS</td>\n",
       "      <td>Risk 1 (High)</td>\n",
       "    </tr>\n",
       "    <tr>\n",
       "      <th>153801</th>\n",
       "      <td>State Street Pizza Company</td>\n",
       "      <td>Risk 1 (High)</td>\n",
       "    </tr>\n",
       "  </tbody>\n",
       "</table>\n",
       "<p>3992 rows × 2 columns</p>\n",
       "</div>"
      ],
      "text/plain": [
       "                                    Name             Risk\n",
       "1                             JETS PIZZA  Risk 2 (Medium)\n",
       "19         NANCY'S HOME OF STUFFED PIZZA    Risk 1 (High)\n",
       "27            NARY'S GRILL & PIZZA ,INC.    Risk 1 (High)\n",
       "29                   NARYS GRILL & PIZZA    Risk 1 (High)\n",
       "68                         COLUTAS PIZZA    Risk 1 (High)\n",
       "...                                  ...              ...\n",
       "153756       ANGELO'S STUFFED PIZZA CORP    Risk 1 (High)\n",
       "153764                COCHIAROS PIZZA #2    Risk 1 (High)\n",
       "153772  FERNANDO'S MEXICAN GRILL & PIZZA    Risk 1 (High)\n",
       "153788            REGGIO'S PIZZA EXPRESS    Risk 1 (High)\n",
       "153801        State Street Pizza Company    Risk 1 (High)\n",
       "\n",
       "[3992 rows x 2 columns]"
      ]
     },
     "execution_count": 66,
     "metadata": {},
     "output_type": "execute_result"
    }
   ],
   "source": [
    "has_pizza = inspections[inspections['Name'].str.lower().str.contains('pizza')]\n",
    "has_pizza"
   ]
  },
  {
   "cell_type": "code",
   "execution_count": 67,
   "id": "cc3c9103-21e7-4ff8-8b71-37a2761270ac",
   "metadata": {},
   "outputs": [
    {
     "data": {
      "text/html": [
       "<div>\n",
       "<style scoped>\n",
       "    .dataframe tbody tr th:only-of-type {\n",
       "        vertical-align: middle;\n",
       "    }\n",
       "\n",
       "    .dataframe tbody tr th {\n",
       "        vertical-align: top;\n",
       "    }\n",
       "\n",
       "    .dataframe thead th {\n",
       "        text-align: right;\n",
       "    }\n",
       "</style>\n",
       "<table border=\"1\" class=\"dataframe\">\n",
       "  <thead>\n",
       "    <tr style=\"text-align: right;\">\n",
       "      <th></th>\n",
       "      <th>Name</th>\n",
       "      <th>Risk</th>\n",
       "    </tr>\n",
       "  </thead>\n",
       "  <tbody>\n",
       "    <tr>\n",
       "      <th>69</th>\n",
       "      <td>TACOS NIETOS</td>\n",
       "      <td>Risk 1 (High)</td>\n",
       "    </tr>\n",
       "    <tr>\n",
       "      <th>556</th>\n",
       "      <td>TACOS EL TIO 2 INC.</td>\n",
       "      <td>Risk 1 (High)</td>\n",
       "    </tr>\n",
       "    <tr>\n",
       "      <th>675</th>\n",
       "      <td>TACOS DON GABINO</td>\n",
       "      <td>Risk 1 (High)</td>\n",
       "    </tr>\n",
       "    <tr>\n",
       "      <th>958</th>\n",
       "      <td>TACOS EL TIO 2 INC.</td>\n",
       "      <td>Risk 1 (High)</td>\n",
       "    </tr>\n",
       "    <tr>\n",
       "      <th>1036</th>\n",
       "      <td>TACOS EL TIO 2 INC.</td>\n",
       "      <td>Risk 1 (High)</td>\n",
       "    </tr>\n",
       "    <tr>\n",
       "      <th>...</th>\n",
       "      <td>...</td>\n",
       "      <td>...</td>\n",
       "    </tr>\n",
       "    <tr>\n",
       "      <th>143587</th>\n",
       "      <td>TACOS DE LUNA</td>\n",
       "      <td>Risk 1 (High)</td>\n",
       "    </tr>\n",
       "    <tr>\n",
       "      <th>144026</th>\n",
       "      <td>TACOS GARCIA</td>\n",
       "      <td>Risk 1 (High)</td>\n",
       "    </tr>\n",
       "    <tr>\n",
       "      <th>146174</th>\n",
       "      <td>Tacos Place's 1</td>\n",
       "      <td>Risk 1 (High)</td>\n",
       "    </tr>\n",
       "    <tr>\n",
       "      <th>147810</th>\n",
       "      <td>TACOS MARIO'S LIMITED</td>\n",
       "      <td>Risk 1 (High)</td>\n",
       "    </tr>\n",
       "    <tr>\n",
       "      <th>151191</th>\n",
       "      <td>TACOS REYNA</td>\n",
       "      <td>Risk 1 (High)</td>\n",
       "    </tr>\n",
       "  </tbody>\n",
       "</table>\n",
       "<p>105 rows × 2 columns</p>\n",
       "</div>"
      ],
      "text/plain": [
       "                         Name           Risk\n",
       "69               TACOS NIETOS  Risk 1 (High)\n",
       "556       TACOS EL TIO 2 INC.  Risk 1 (High)\n",
       "675          TACOS DON GABINO  Risk 1 (High)\n",
       "958       TACOS EL TIO 2 INC.  Risk 1 (High)\n",
       "1036      TACOS EL TIO 2 INC.  Risk 1 (High)\n",
       "...                       ...            ...\n",
       "143587          TACOS DE LUNA  Risk 1 (High)\n",
       "144026           TACOS GARCIA  Risk 1 (High)\n",
       "146174        Tacos Place's 1  Risk 1 (High)\n",
       "147810  TACOS MARIO'S LIMITED  Risk 1 (High)\n",
       "151191            TACOS REYNA  Risk 1 (High)\n",
       "\n",
       "[105 rows x 2 columns]"
      ]
     },
     "execution_count": 67,
     "metadata": {},
     "output_type": "execute_result"
    }
   ],
   "source": [
    "# startswith는 tacos로 시작하는 행만을 추출합니다.\n",
    "inspections[inspections['Name'].str.lower().str.startswith('tacos')]"
   ]
  },
  {
   "cell_type": "code",
   "execution_count": 68,
   "id": "d227b284-2023-4a24-9f76-f1a90101c5c3",
   "metadata": {},
   "outputs": [
    {
     "data": {
      "text/html": [
       "<div>\n",
       "<style scoped>\n",
       "    .dataframe tbody tr th:only-of-type {\n",
       "        vertical-align: middle;\n",
       "    }\n",
       "\n",
       "    .dataframe tbody tr th {\n",
       "        vertical-align: top;\n",
       "    }\n",
       "\n",
       "    .dataframe thead th {\n",
       "        text-align: right;\n",
       "    }\n",
       "</style>\n",
       "<table border=\"1\" class=\"dataframe\">\n",
       "  <thead>\n",
       "    <tr style=\"text-align: right;\">\n",
       "      <th></th>\n",
       "      <th>Name</th>\n",
       "      <th>Risk</th>\n",
       "    </tr>\n",
       "  </thead>\n",
       "  <tbody>\n",
       "    <tr>\n",
       "      <th>31555</th>\n",
       "      <td>THE LASSALE CAFE LUNA</td>\n",
       "      <td>Risk 1 (High)</td>\n",
       "    </tr>\n",
       "    <tr>\n",
       "      <th>45899</th>\n",
       "      <td>THE LASSALE CAFE LUNA</td>\n",
       "      <td>Risk 1 (High)</td>\n",
       "    </tr>\n",
       "    <tr>\n",
       "      <th>55641</th>\n",
       "      <td>LASALLE CAFE LUNA</td>\n",
       "      <td>Risk 1 (High)</td>\n",
       "    </tr>\n",
       "    <tr>\n",
       "      <th>77166</th>\n",
       "      <td>LASALLE CAFE LUNA</td>\n",
       "      <td>Risk 1 (High)</td>\n",
       "    </tr>\n",
       "    <tr>\n",
       "      <th>94691</th>\n",
       "      <td>LASALLE CAFE LUNA</td>\n",
       "      <td>Risk 1 (High)</td>\n",
       "    </tr>\n",
       "    <tr>\n",
       "      <th>103540</th>\n",
       "      <td>TACOS DE LUNA</td>\n",
       "      <td>Risk 1 (High)</td>\n",
       "    </tr>\n",
       "    <tr>\n",
       "      <th>115000</th>\n",
       "      <td>TACOS DE LUNA</td>\n",
       "      <td>Risk 1 (High)</td>\n",
       "    </tr>\n",
       "    <tr>\n",
       "      <th>122443</th>\n",
       "      <td>TACOS DE LUNA</td>\n",
       "      <td>Risk 1 (High)</td>\n",
       "    </tr>\n",
       "    <tr>\n",
       "      <th>125818</th>\n",
       "      <td>LASALLE CAFE LUNA</td>\n",
       "      <td>Risk 1 (High)</td>\n",
       "    </tr>\n",
       "    <tr>\n",
       "      <th>129217</th>\n",
       "      <td>RANCHO LUNA</td>\n",
       "      <td>Risk 1 (High)</td>\n",
       "    </tr>\n",
       "    <tr>\n",
       "      <th>133893</th>\n",
       "      <td>TACOS DE LUNA</td>\n",
       "      <td>Risk 1 (High)</td>\n",
       "    </tr>\n",
       "    <tr>\n",
       "      <th>143587</th>\n",
       "      <td>TACOS DE LUNA</td>\n",
       "      <td>Risk 1 (High)</td>\n",
       "    </tr>\n",
       "  </tbody>\n",
       "</table>\n",
       "</div>"
      ],
      "text/plain": [
       "                         Name           Risk\n",
       "31555   THE LASSALE CAFE LUNA  Risk 1 (High)\n",
       "45899   THE LASSALE CAFE LUNA  Risk 1 (High)\n",
       "55641       LASALLE CAFE LUNA  Risk 1 (High)\n",
       "77166       LASALLE CAFE LUNA  Risk 1 (High)\n",
       "94691       LASALLE CAFE LUNA  Risk 1 (High)\n",
       "103540          TACOS DE LUNA  Risk 1 (High)\n",
       "115000          TACOS DE LUNA  Risk 1 (High)\n",
       "122443          TACOS DE LUNA  Risk 1 (High)\n",
       "125818      LASALLE CAFE LUNA  Risk 1 (High)\n",
       "129217            RANCHO LUNA  Risk 1 (High)\n",
       "133893          TACOS DE LUNA  Risk 1 (High)\n",
       "143587          TACOS DE LUNA  Risk 1 (High)"
      ]
     },
     "execution_count": 68,
     "metadata": {},
     "output_type": "execute_result"
    }
   ],
   "source": [
    "# endswith는 luna로 끝나는 행만을 추출합니다.\n",
    "inspections[inspections['Name'].str.lower().str.endswith('luna')]"
   ]
  },
  {
   "cell_type": "code",
   "execution_count": 69,
   "id": "5159b78c-47e2-4de7-bb8e-e06bd4412a0a",
   "metadata": {},
   "outputs": [
    {
     "data": {
      "text/html": [
       "<div>\n",
       "<style scoped>\n",
       "    .dataframe tbody tr th:only-of-type {\n",
       "        vertical-align: middle;\n",
       "    }\n",
       "\n",
       "    .dataframe tbody tr th {\n",
       "        vertical-align: top;\n",
       "    }\n",
       "\n",
       "    .dataframe thead th {\n",
       "        text-align: right;\n",
       "    }\n",
       "</style>\n",
       "<table border=\"1\" class=\"dataframe\">\n",
       "  <thead>\n",
       "    <tr style=\"text-align: right;\">\n",
       "      <th></th>\n",
       "      <th>Name</th>\n",
       "      <th>Address</th>\n",
       "    </tr>\n",
       "  </thead>\n",
       "  <tbody>\n",
       "    <tr>\n",
       "      <th>0</th>\n",
       "      <td>Frank Manning</td>\n",
       "      <td>6461 Quinn Groves, East Matthew, New Hampshire...</td>\n",
       "    </tr>\n",
       "    <tr>\n",
       "      <th>1</th>\n",
       "      <td>Elizabeth Johnson</td>\n",
       "      <td>1360 Tracey Ports Apt. 419, Kyleport, Vermont,...</td>\n",
       "    </tr>\n",
       "    <tr>\n",
       "      <th>2</th>\n",
       "      <td>Donald Stephens</td>\n",
       "      <td>19120 Fleming Manors, Prestonstad, Montana, 23495</td>\n",
       "    </tr>\n",
       "    <tr>\n",
       "      <th>3</th>\n",
       "      <td>Michael Vincent III</td>\n",
       "      <td>441 Olivia Creek, Jimmymouth, Georgia, 82991</td>\n",
       "    </tr>\n",
       "    <tr>\n",
       "      <th>4</th>\n",
       "      <td>Jasmine Zamora</td>\n",
       "      <td>4246 Chelsey Ford Apt. 310, Karamouth, Utah, 7...</td>\n",
       "    </tr>\n",
       "  </tbody>\n",
       "</table>\n",
       "</div>"
      ],
      "text/plain": [
       "                  Name                                            Address\n",
       "0        Frank Manning  6461 Quinn Groves, East Matthew, New Hampshire...\n",
       "1    Elizabeth Johnson  1360 Tracey Ports Apt. 419, Kyleport, Vermont,...\n",
       "2      Donald Stephens  19120 Fleming Manors, Prestonstad, Montana, 23495\n",
       "3  Michael Vincent III       441 Olivia Creek, Jimmymouth, Georgia, 82991\n",
       "4       Jasmine Zamora  4246 Chelsey Ford Apt. 310, Karamouth, Utah, 7..."
      ]
     },
     "execution_count": 69,
     "metadata": {},
     "output_type": "execute_result"
    }
   ],
   "source": [
    "# 이번에는 customer의 데이터를 가져와볼까요?\n",
    "customers = pd.read_csv(filepath_or_buffer='customers.csv')\n",
    "customers.head()"
   ]
  },
  {
   "cell_type": "code",
   "execution_count": 70,
   "id": "c9362973-e397-44c3-838f-5dd39fd0e451",
   "metadata": {},
   "outputs": [
    {
     "data": {
      "text/plain": [
       "0       13\n",
       "1       17\n",
       "2       15\n",
       "3       19\n",
       "4       14\n",
       "        ..\n",
       "9956    13\n",
       "9957    15\n",
       "9958    10\n",
       "9959    16\n",
       "9960    16\n",
       "Name: Name, Length: 9961, dtype: int64"
      ]
     },
     "execution_count": 70,
     "metadata": {},
     "output_type": "execute_result"
    }
   ],
   "source": [
    "# Name의 각 길이는 len()함수로 구할 수 있습니다.\n",
    "customers['Name'].str.len()"
   ]
  },
  {
   "cell_type": "code",
   "execution_count": 71,
   "id": "84a2e083-9728-404f-a1f7-12b136204b73",
   "metadata": {},
   "outputs": [
    {
     "data": {
      "text/plain": [
       "['555', '123', '4567']"
      ]
     },
     "execution_count": 71,
     "metadata": {},
     "output_type": "execute_result"
    }
   ],
   "source": [
    "# 특정 문자를 기준으로 나눌 수 있는데,\n",
    "phone_number = \"555-123-4567\"\n",
    "phone_number.split('-')"
   ]
  },
  {
   "cell_type": "code",
   "execution_count": 72,
   "id": "39286acc-11da-4022-8ee5-52bbba5609ed",
   "metadata": {},
   "outputs": [
    {
     "data": {
      "text/plain": [
       "0              [Frank, Manning]\n",
       "1          [Elizabeth, Johnson]\n",
       "2            [Donald, Stephens]\n",
       "3       [Michael, Vincent, III]\n",
       "4             [Jasmine, Zamora]\n",
       "                 ...           \n",
       "9956           [Dana, Browning]\n",
       "9957         [Amanda, Anderson]\n",
       "9958              [Eric, Davis]\n",
       "9959        [Taylor, Hernandez]\n",
       "9960        [Sherry, Nicholson]\n",
       "Name: Name, Length: 9961, dtype: object"
      ]
     },
     "execution_count": 72,
     "metadata": {},
     "output_type": "execute_result"
    }
   ],
   "source": [
    "# pat에 값을 대입해서 특정 문자를 기준으로 단어를 분류할 수 있습니다.\n",
    "customers['Name'].str.split(pat=' ')"
   ]
  },
  {
   "cell_type": "code",
   "execution_count": 73,
   "id": "347eba17-c9a3-4d83-b7a1-796462e18b9b",
   "metadata": {},
   "outputs": [
    {
     "data": {
      "text/plain": [
       "0             [Frank, Manning]\n",
       "1         [Elizabeth, Johnson]\n",
       "2           [Donald, Stephens]\n",
       "3       [Michael, Vincent III]\n",
       "4            [Jasmine, Zamora]\n",
       "                 ...          \n",
       "9956          [Dana, Browning]\n",
       "9957        [Amanda, Anderson]\n",
       "9958             [Eric, Davis]\n",
       "9959       [Taylor, Hernandez]\n",
       "9960       [Sherry, Nicholson]\n",
       "Name: Name, Length: 9961, dtype: object"
      ]
     },
     "execution_count": 73,
     "metadata": {},
     "output_type": "execute_result"
    }
   ],
   "source": [
    "# n을 설정하면 특정 문자를 기준으로 한번만 나눈다는 의미입니다.\n",
    "customers['Name'].str.split(pat=' ',\n",
    "                            n=1)"
   ]
  },
  {
   "cell_type": "code",
   "execution_count": 74,
   "id": "5feaaee4-f090-4b2b-9285-f2e943f18710",
   "metadata": {},
   "outputs": [
    {
     "data": {
      "text/plain": [
       "0           Frank\n",
       "1       Elizabeth\n",
       "2          Donald\n",
       "3         Michael\n",
       "4         Jasmine\n",
       "          ...    \n",
       "9956         Dana\n",
       "9957       Amanda\n",
       "9958         Eric\n",
       "9959       Taylor\n",
       "9960       Sherry\n",
       "Name: Name, Length: 9961, dtype: object"
      ]
     },
     "execution_count": 74,
     "metadata": {},
     "output_type": "execute_result"
    }
   ],
   "source": [
    "# 이렇게 First Name 부분을 추출 할 수 있습니다.\n",
    "customers['Name'].str.split(pat=' ',\n",
    "                            n=1).str[0]\n",
    "customers['Name'].str.split(pat=' ',\n",
    "                            n=1).str.get(0)"
   ]
  },
  {
   "cell_type": "code",
   "execution_count": 75,
   "id": "93baaad0-9898-41fa-ac11-3b06aa386aa1",
   "metadata": {},
   "outputs": [
    {
     "data": {
      "text/plain": [
       "0           Manning\n",
       "1           Johnson\n",
       "2          Stephens\n",
       "3       Vincent III\n",
       "4            Zamora\n",
       "           ...     \n",
       "9956       Browning\n",
       "9957       Anderson\n",
       "9958          Davis\n",
       "9959      Hernandez\n",
       "9960      Nicholson\n",
       "Name: Name, Length: 9961, dtype: object"
      ]
     },
     "execution_count": 75,
     "metadata": {},
     "output_type": "execute_result"
    }
   ],
   "source": [
    "# 이렇게 Last Name 부분을 추출할 수 있습니다.\n",
    "customers['Name'].str.split(pat=' ',\n",
    "                            n=1).str[1]\n",
    "customers['Name'].str.split(pat=' ',\n",
    "                            n=1).str.get(1)"
   ]
  },
  {
   "cell_type": "code",
   "execution_count": 77,
   "id": "b2f29831-e992-4225-a1cd-ed8951aa2115",
   "metadata": {},
   "outputs": [
    {
     "data": {
      "text/html": [
       "<div>\n",
       "<style scoped>\n",
       "    .dataframe tbody tr th:only-of-type {\n",
       "        vertical-align: middle;\n",
       "    }\n",
       "\n",
       "    .dataframe tbody tr th {\n",
       "        vertical-align: top;\n",
       "    }\n",
       "\n",
       "    .dataframe thead th {\n",
       "        text-align: right;\n",
       "    }\n",
       "</style>\n",
       "<table border=\"1\" class=\"dataframe\">\n",
       "  <thead>\n",
       "    <tr style=\"text-align: right;\">\n",
       "      <th></th>\n",
       "      <th>0</th>\n",
       "      <th>1</th>\n",
       "    </tr>\n",
       "  </thead>\n",
       "  <tbody>\n",
       "    <tr>\n",
       "      <th>0</th>\n",
       "      <td>Frank</td>\n",
       "      <td>Manning</td>\n",
       "    </tr>\n",
       "    <tr>\n",
       "      <th>1</th>\n",
       "      <td>Elizabeth</td>\n",
       "      <td>Johnson</td>\n",
       "    </tr>\n",
       "    <tr>\n",
       "      <th>2</th>\n",
       "      <td>Donald</td>\n",
       "      <td>Stephens</td>\n",
       "    </tr>\n",
       "    <tr>\n",
       "      <th>3</th>\n",
       "      <td>Michael</td>\n",
       "      <td>Vincent III</td>\n",
       "    </tr>\n",
       "    <tr>\n",
       "      <th>4</th>\n",
       "      <td>Jasmine</td>\n",
       "      <td>Zamora</td>\n",
       "    </tr>\n",
       "    <tr>\n",
       "      <th>...</th>\n",
       "      <td>...</td>\n",
       "      <td>...</td>\n",
       "    </tr>\n",
       "    <tr>\n",
       "      <th>9956</th>\n",
       "      <td>Dana</td>\n",
       "      <td>Browning</td>\n",
       "    </tr>\n",
       "    <tr>\n",
       "      <th>9957</th>\n",
       "      <td>Amanda</td>\n",
       "      <td>Anderson</td>\n",
       "    </tr>\n",
       "    <tr>\n",
       "      <th>9958</th>\n",
       "      <td>Eric</td>\n",
       "      <td>Davis</td>\n",
       "    </tr>\n",
       "    <tr>\n",
       "      <th>9959</th>\n",
       "      <td>Taylor</td>\n",
       "      <td>Hernandez</td>\n",
       "    </tr>\n",
       "    <tr>\n",
       "      <th>9960</th>\n",
       "      <td>Sherry</td>\n",
       "      <td>Nicholson</td>\n",
       "    </tr>\n",
       "  </tbody>\n",
       "</table>\n",
       "<p>9961 rows × 2 columns</p>\n",
       "</div>"
      ],
      "text/plain": [
       "              0            1\n",
       "0         Frank      Manning\n",
       "1     Elizabeth      Johnson\n",
       "2        Donald     Stephens\n",
       "3       Michael  Vincent III\n",
       "4       Jasmine       Zamora\n",
       "...         ...          ...\n",
       "9956       Dana     Browning\n",
       "9957     Amanda     Anderson\n",
       "9958       Eric        Davis\n",
       "9959     Taylor    Hernandez\n",
       "9960     Sherry    Nicholson\n",
       "\n",
       "[9961 rows x 2 columns]"
      ]
     },
     "execution_count": 77,
     "metadata": {},
     "output_type": "execute_result"
    }
   ],
   "source": [
    "# expand를 사용하면 나눠진 문자열을 데이터프레임으로 반환합니다.\n",
    "customers['Name'].str.split(pat=' ',\n",
    "                            n=1,\n",
    "                            expand=True,)"
   ]
  },
  {
   "cell_type": "code",
   "execution_count": 78,
   "id": "a651dab4-268e-4a54-8d6f-b003ed5d9758",
   "metadata": {},
   "outputs": [
    {
     "data": {
      "text/html": [
       "<div>\n",
       "<style scoped>\n",
       "    .dataframe tbody tr th:only-of-type {\n",
       "        vertical-align: middle;\n",
       "    }\n",
       "\n",
       "    .dataframe tbody tr th {\n",
       "        vertical-align: top;\n",
       "    }\n",
       "\n",
       "    .dataframe thead th {\n",
       "        text-align: right;\n",
       "    }\n",
       "</style>\n",
       "<table border=\"1\" class=\"dataframe\">\n",
       "  <thead>\n",
       "    <tr style=\"text-align: right;\">\n",
       "      <th></th>\n",
       "      <th>0</th>\n",
       "      <th>1</th>\n",
       "      <th>2</th>\n",
       "    </tr>\n",
       "  </thead>\n",
       "  <tbody>\n",
       "    <tr>\n",
       "      <th>0</th>\n",
       "      <td>Frank</td>\n",
       "      <td>Manning</td>\n",
       "      <td>None</td>\n",
       "    </tr>\n",
       "    <tr>\n",
       "      <th>1</th>\n",
       "      <td>Elizabeth</td>\n",
       "      <td>Johnson</td>\n",
       "      <td>None</td>\n",
       "    </tr>\n",
       "    <tr>\n",
       "      <th>2</th>\n",
       "      <td>Donald</td>\n",
       "      <td>Stephens</td>\n",
       "      <td>None</td>\n",
       "    </tr>\n",
       "    <tr>\n",
       "      <th>3</th>\n",
       "      <td>Michael</td>\n",
       "      <td>Vincent</td>\n",
       "      <td>III</td>\n",
       "    </tr>\n",
       "    <tr>\n",
       "      <th>4</th>\n",
       "      <td>Jasmine</td>\n",
       "      <td>Zamora</td>\n",
       "      <td>None</td>\n",
       "    </tr>\n",
       "  </tbody>\n",
       "</table>\n",
       "</div>"
      ],
      "text/plain": [
       "           0         1     2\n",
       "0      Frank   Manning  None\n",
       "1  Elizabeth   Johnson  None\n",
       "2     Donald  Stephens  None\n",
       "3    Michael   Vincent   III\n",
       "4    Jasmine    Zamora  None"
      ]
     },
     "execution_count": 78,
     "metadata": {},
     "output_type": "execute_result"
    }
   ],
   "source": [
    "# 이렇게 n을 설정하지 않으면 모두 문자를 나누고, 부족한 부분은 None의 값으로 채웁니다.\n",
    "customers['Name'].str.split(pat=' ',\n",
    "                            expand=True).head()"
   ]
  },
  {
   "cell_type": "code",
   "execution_count": 79,
   "id": "f0061c23-ebeb-4302-beda-348e8973343b",
   "metadata": {},
   "outputs": [
    {
     "data": {
      "text/html": [
       "<div>\n",
       "<style scoped>\n",
       "    .dataframe tbody tr th:only-of-type {\n",
       "        vertical-align: middle;\n",
       "    }\n",
       "\n",
       "    .dataframe tbody tr th {\n",
       "        vertical-align: top;\n",
       "    }\n",
       "\n",
       "    .dataframe thead th {\n",
       "        text-align: right;\n",
       "    }\n",
       "</style>\n",
       "<table border=\"1\" class=\"dataframe\">\n",
       "  <thead>\n",
       "    <tr style=\"text-align: right;\">\n",
       "      <th></th>\n",
       "      <th>Name</th>\n",
       "      <th>Address</th>\n",
       "      <th>First Name</th>\n",
       "      <th>Last Name</th>\n",
       "    </tr>\n",
       "  </thead>\n",
       "  <tbody>\n",
       "    <tr>\n",
       "      <th>0</th>\n",
       "      <td>Frank Manning</td>\n",
       "      <td>6461 Quinn Groves, East Matthew, New Hampshire...</td>\n",
       "      <td>Frank</td>\n",
       "      <td>Manning</td>\n",
       "    </tr>\n",
       "    <tr>\n",
       "      <th>1</th>\n",
       "      <td>Elizabeth Johnson</td>\n",
       "      <td>1360 Tracey Ports Apt. 419, Kyleport, Vermont,...</td>\n",
       "      <td>Elizabeth</td>\n",
       "      <td>Johnson</td>\n",
       "    </tr>\n",
       "    <tr>\n",
       "      <th>2</th>\n",
       "      <td>Donald Stephens</td>\n",
       "      <td>19120 Fleming Manors, Prestonstad, Montana, 23495</td>\n",
       "      <td>Donald</td>\n",
       "      <td>Stephens</td>\n",
       "    </tr>\n",
       "    <tr>\n",
       "      <th>3</th>\n",
       "      <td>Michael Vincent III</td>\n",
       "      <td>441 Olivia Creek, Jimmymouth, Georgia, 82991</td>\n",
       "      <td>Michael</td>\n",
       "      <td>Vincent III</td>\n",
       "    </tr>\n",
       "    <tr>\n",
       "      <th>4</th>\n",
       "      <td>Jasmine Zamora</td>\n",
       "      <td>4246 Chelsey Ford Apt. 310, Karamouth, Utah, 7...</td>\n",
       "      <td>Jasmine</td>\n",
       "      <td>Zamora</td>\n",
       "    </tr>\n",
       "  </tbody>\n",
       "</table>\n",
       "</div>"
      ],
      "text/plain": [
       "                  Name                                            Address  \\\n",
       "0        Frank Manning  6461 Quinn Groves, East Matthew, New Hampshire...   \n",
       "1    Elizabeth Johnson  1360 Tracey Ports Apt. 419, Kyleport, Vermont,...   \n",
       "2      Donald Stephens  19120 Fleming Manors, Prestonstad, Montana, 23495   \n",
       "3  Michael Vincent III       441 Olivia Creek, Jimmymouth, Georgia, 82991   \n",
       "4       Jasmine Zamora  4246 Chelsey Ford Apt. 310, Karamouth, Utah, 7...   \n",
       "\n",
       "  First Name    Last Name  \n",
       "0      Frank      Manning  \n",
       "1  Elizabeth      Johnson  \n",
       "2     Donald     Stephens  \n",
       "3    Michael  Vincent III  \n",
       "4    Jasmine       Zamora  "
      ]
     },
     "execution_count": 79,
     "metadata": {},
     "output_type": "execute_result"
    }
   ],
   "source": [
    "# 이번에는 customers에 새로운 열을 생성해서 해당 값을 넣죠.\n",
    "customers[['First Name', 'Last Name']] = customers['Name'].str.split(pat=' ',\n",
    "                                                                     n=1,\n",
    "                                                                     expand=True)\n",
    "customers.head()"
   ]
  },
  {
   "cell_type": "code",
   "execution_count": 80,
   "id": "16e3d34b-446b-4949-b512-b54880df5e92",
   "metadata": {},
   "outputs": [
    {
     "data": {
      "text/html": [
       "<div>\n",
       "<style scoped>\n",
       "    .dataframe tbody tr th:only-of-type {\n",
       "        vertical-align: middle;\n",
       "    }\n",
       "\n",
       "    .dataframe tbody tr th {\n",
       "        vertical-align: top;\n",
       "    }\n",
       "\n",
       "    .dataframe thead th {\n",
       "        text-align: right;\n",
       "    }\n",
       "</style>\n",
       "<table border=\"1\" class=\"dataframe\">\n",
       "  <thead>\n",
       "    <tr style=\"text-align: right;\">\n",
       "      <th></th>\n",
       "      <th>Address</th>\n",
       "      <th>First Name</th>\n",
       "      <th>Last Name</th>\n",
       "    </tr>\n",
       "  </thead>\n",
       "  <tbody>\n",
       "    <tr>\n",
       "      <th>0</th>\n",
       "      <td>6461 Quinn Groves, East Matthew, New Hampshire...</td>\n",
       "      <td>Frank</td>\n",
       "      <td>Manning</td>\n",
       "    </tr>\n",
       "    <tr>\n",
       "      <th>1</th>\n",
       "      <td>1360 Tracey Ports Apt. 419, Kyleport, Vermont,...</td>\n",
       "      <td>Elizabeth</td>\n",
       "      <td>Johnson</td>\n",
       "    </tr>\n",
       "    <tr>\n",
       "      <th>2</th>\n",
       "      <td>19120 Fleming Manors, Prestonstad, Montana, 23495</td>\n",
       "      <td>Donald</td>\n",
       "      <td>Stephens</td>\n",
       "    </tr>\n",
       "    <tr>\n",
       "      <th>3</th>\n",
       "      <td>441 Olivia Creek, Jimmymouth, Georgia, 82991</td>\n",
       "      <td>Michael</td>\n",
       "      <td>Vincent III</td>\n",
       "    </tr>\n",
       "    <tr>\n",
       "      <th>4</th>\n",
       "      <td>4246 Chelsey Ford Apt. 310, Karamouth, Utah, 7...</td>\n",
       "      <td>Jasmine</td>\n",
       "      <td>Zamora</td>\n",
       "    </tr>\n",
       "    <tr>\n",
       "      <th>...</th>\n",
       "      <td>...</td>\n",
       "      <td>...</td>\n",
       "      <td>...</td>\n",
       "    </tr>\n",
       "    <tr>\n",
       "      <th>9956</th>\n",
       "      <td>762 Andrew Views Apt. 254, North Paul, New Mex...</td>\n",
       "      <td>Dana</td>\n",
       "      <td>Browning</td>\n",
       "    </tr>\n",
       "    <tr>\n",
       "      <th>9957</th>\n",
       "      <td>44188 Day Crest Apt. 901, Lake Marcia, Maine, ...</td>\n",
       "      <td>Amanda</td>\n",
       "      <td>Anderson</td>\n",
       "    </tr>\n",
       "    <tr>\n",
       "      <th>9958</th>\n",
       "      <td>73015 Michelle Squares, Watsonville, West Virg...</td>\n",
       "      <td>Eric</td>\n",
       "      <td>Davis</td>\n",
       "    </tr>\n",
       "    <tr>\n",
       "      <th>9959</th>\n",
       "      <td>129 Keith Greens, Haleyfurt, Oklahoma, 98916</td>\n",
       "      <td>Taylor</td>\n",
       "      <td>Hernandez</td>\n",
       "    </tr>\n",
       "    <tr>\n",
       "      <th>9960</th>\n",
       "      <td>355 Griffin Valley, Davidtown, New Mexico, 17581</td>\n",
       "      <td>Sherry</td>\n",
       "      <td>Nicholson</td>\n",
       "    </tr>\n",
       "  </tbody>\n",
       "</table>\n",
       "<p>9961 rows × 3 columns</p>\n",
       "</div>"
      ],
      "text/plain": [
       "                                                Address First Name  \\\n",
       "0     6461 Quinn Groves, East Matthew, New Hampshire...      Frank   \n",
       "1     1360 Tracey Ports Apt. 419, Kyleport, Vermont,...  Elizabeth   \n",
       "2     19120 Fleming Manors, Prestonstad, Montana, 23495     Donald   \n",
       "3          441 Olivia Creek, Jimmymouth, Georgia, 82991    Michael   \n",
       "4     4246 Chelsey Ford Apt. 310, Karamouth, Utah, 7...    Jasmine   \n",
       "...                                                 ...        ...   \n",
       "9956  762 Andrew Views Apt. 254, North Paul, New Mex...       Dana   \n",
       "9957  44188 Day Crest Apt. 901, Lake Marcia, Maine, ...     Amanda   \n",
       "9958  73015 Michelle Squares, Watsonville, West Virg...       Eric   \n",
       "9959       129 Keith Greens, Haleyfurt, Oklahoma, 98916     Taylor   \n",
       "9960   355 Griffin Valley, Davidtown, New Mexico, 17581     Sherry   \n",
       "\n",
       "        Last Name  \n",
       "0         Manning  \n",
       "1         Johnson  \n",
       "2        Stephens  \n",
       "3     Vincent III  \n",
       "4          Zamora  \n",
       "...           ...  \n",
       "9956     Browning  \n",
       "9957     Anderson  \n",
       "9958        Davis  \n",
       "9959    Hernandez  \n",
       "9960    Nicholson  \n",
       "\n",
       "[9961 rows x 3 columns]"
      ]
     },
     "execution_count": 80,
     "metadata": {},
     "output_type": "execute_result"
    }
   ],
   "source": [
    "# 그런 뒤, Name은 지워버립시다.\n",
    "customers.drop(labels=\"Name\", axis='columns')"
   ]
  }
 ],
 "metadata": {
  "kernelspec": {
   "display_name": "Python 3 (ipykernel)",
   "language": "python",
   "name": "python3"
  },
  "language_info": {
   "codemirror_mode": {
    "name": "ipython",
    "version": 3
   },
   "file_extension": ".py",
   "mimetype": "text/x-python",
   "name": "python",
   "nbconvert_exporter": "python",
   "pygments_lexer": "ipython3",
   "version": "3.9.6"
  }
 },
 "nbformat": 4,
 "nbformat_minor": 5
}
