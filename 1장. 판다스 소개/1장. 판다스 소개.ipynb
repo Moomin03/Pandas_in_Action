{
 "cells": [
  {
   "cell_type": "code",
   "execution_count": 1,
   "id": "6cf72a05-adca-4162-a4f0-0dca74d0555c",
   "metadata": {},
   "outputs": [],
   "source": [
    "import pandas as pd"
   ]
  },
  {
   "cell_type": "code",
   "execution_count": 3,
   "id": "689c9da1-452f-406a-9a0f-31160ef6eb42",
   "metadata": {},
   "outputs": [
    {
     "data": {
      "text/html": [
       "<div>\n",
       "<style scoped>\n",
       "    .dataframe tbody tr th:only-of-type {\n",
       "        vertical-align: middle;\n",
       "    }\n",
       "\n",
       "    .dataframe tbody tr th {\n",
       "        vertical-align: top;\n",
       "    }\n",
       "\n",
       "    .dataframe thead th {\n",
       "        text-align: right;\n",
       "    }\n",
       "</style>\n",
       "<table border=\"1\" class=\"dataframe\">\n",
       "  <thead>\n",
       "    <tr style=\"text-align: right;\">\n",
       "      <th></th>\n",
       "      <th>Rank</th>\n",
       "      <th>Title</th>\n",
       "      <th>Studio</th>\n",
       "      <th>Gross</th>\n",
       "      <th>Year</th>\n",
       "    </tr>\n",
       "  </thead>\n",
       "  <tbody>\n",
       "    <tr>\n",
       "      <th>0</th>\n",
       "      <td>1</td>\n",
       "      <td>Avengers: Endgame</td>\n",
       "      <td>Buena Vista</td>\n",
       "      <td>$2,796.30</td>\n",
       "      <td>2019</td>\n",
       "    </tr>\n",
       "    <tr>\n",
       "      <th>1</th>\n",
       "      <td>2</td>\n",
       "      <td>Avatar</td>\n",
       "      <td>Fox</td>\n",
       "      <td>$2,789.70</td>\n",
       "      <td>2009</td>\n",
       "    </tr>\n",
       "    <tr>\n",
       "      <th>2</th>\n",
       "      <td>3</td>\n",
       "      <td>Titanic</td>\n",
       "      <td>Paramount</td>\n",
       "      <td>$2,187.50</td>\n",
       "      <td>1997</td>\n",
       "    </tr>\n",
       "    <tr>\n",
       "      <th>3</th>\n",
       "      <td>4</td>\n",
       "      <td>Star Wars: The Force Awakens</td>\n",
       "      <td>Buena Vista</td>\n",
       "      <td>$2,068.20</td>\n",
       "      <td>2015</td>\n",
       "    </tr>\n",
       "    <tr>\n",
       "      <th>4</th>\n",
       "      <td>5</td>\n",
       "      <td>Avengers: Infinity War</td>\n",
       "      <td>Buena Vista</td>\n",
       "      <td>$2,048.40</td>\n",
       "      <td>2018</td>\n",
       "    </tr>\n",
       "  </tbody>\n",
       "</table>\n",
       "</div>"
      ],
      "text/plain": [
       "   Rank                         Title       Studio       Gross  Year\n",
       "0     1             Avengers: Endgame  Buena Vista  $2,796.30   2019\n",
       "1     2                        Avatar          Fox  $2,789.70   2009\n",
       "2     3                       Titanic    Paramount  $2,187.50   1997\n",
       "3     4  Star Wars: The Force Awakens  Buena Vista  $2,068.20   2015\n",
       "4     5        Avengers: Infinity War  Buena Vista  $2,048.40   2018"
      ]
     },
     "execution_count": 3,
     "metadata": {},
     "output_type": "execute_result"
    }
   ],
   "source": [
    "movies = pd.read_csv('movies.csv')\n",
    "movies.head()"
   ]
  },
  {
   "cell_type": "code",
   "execution_count": 4,
   "id": "1c3d1e19-960c-4387-a17c-0333d7125202",
   "metadata": {},
   "outputs": [],
   "source": [
    "# 흠.. 데이터를 보니 왼쪽부터 순위, 이름, 제작사, 총수익, 년도가 되겠군요!"
   ]
  },
  {
   "cell_type": "code",
   "execution_count": 8,
   "id": "95227717-93d2-43c6-b166-bba231a2c34f",
   "metadata": {},
   "outputs": [
    {
     "data": {
      "text/html": [
       "<div>\n",
       "<style scoped>\n",
       "    .dataframe tbody tr th:only-of-type {\n",
       "        vertical-align: middle;\n",
       "    }\n",
       "\n",
       "    .dataframe tbody tr th {\n",
       "        vertical-align: top;\n",
       "    }\n",
       "\n",
       "    .dataframe thead th {\n",
       "        text-align: right;\n",
       "    }\n",
       "</style>\n",
       "<table border=\"1\" class=\"dataframe\">\n",
       "  <thead>\n",
       "    <tr style=\"text-align: right;\">\n",
       "      <th></th>\n",
       "      <th>Rank</th>\n",
       "      <th>Studio</th>\n",
       "      <th>Gross</th>\n",
       "      <th>Year</th>\n",
       "    </tr>\n",
       "    <tr>\n",
       "      <th>Title</th>\n",
       "      <th></th>\n",
       "      <th></th>\n",
       "      <th></th>\n",
       "      <th></th>\n",
       "    </tr>\n",
       "  </thead>\n",
       "  <tbody>\n",
       "    <tr>\n",
       "      <th>Avengers: Endgame</th>\n",
       "      <td>1</td>\n",
       "      <td>Buena Vista</td>\n",
       "      <td>$2,796.30</td>\n",
       "      <td>2019</td>\n",
       "    </tr>\n",
       "    <tr>\n",
       "      <th>Avatar</th>\n",
       "      <td>2</td>\n",
       "      <td>Fox</td>\n",
       "      <td>$2,789.70</td>\n",
       "      <td>2009</td>\n",
       "    </tr>\n",
       "    <tr>\n",
       "      <th>Titanic</th>\n",
       "      <td>3</td>\n",
       "      <td>Paramount</td>\n",
       "      <td>$2,187.50</td>\n",
       "      <td>1997</td>\n",
       "    </tr>\n",
       "    <tr>\n",
       "      <th>Star Wars: The Force Awakens</th>\n",
       "      <td>4</td>\n",
       "      <td>Buena Vista</td>\n",
       "      <td>$2,068.20</td>\n",
       "      <td>2015</td>\n",
       "    </tr>\n",
       "    <tr>\n",
       "      <th>Avengers: Infinity War</th>\n",
       "      <td>5</td>\n",
       "      <td>Buena Vista</td>\n",
       "      <td>$2,048.40</td>\n",
       "      <td>2018</td>\n",
       "    </tr>\n",
       "  </tbody>\n",
       "</table>\n",
       "</div>"
      ],
      "text/plain": [
       "                              Rank       Studio       Gross  Year\n",
       "Title                                                            \n",
       "Avengers: Endgame                1  Buena Vista  $2,796.30   2019\n",
       "Avatar                           2          Fox  $2,789.70   2009\n",
       "Titanic                          3    Paramount  $2,187.50   1997\n",
       "Star Wars: The Force Awakens     4  Buena Vista  $2,068.20   2015\n",
       "Avengers: Infinity War           5  Buena Vista  $2,048.40   2018"
      ]
     },
     "execution_count": 8,
     "metadata": {},
     "output_type": "execute_result"
    }
   ],
   "source": [
    "# 가장 왼쪽의 0, 1, 2, 3, 4 보이나요? 이 부분을 인덱스라고 하는데 별다른 지침을 주지 않으면 0부터 순서대로 인덱스를 생성합니다.\n",
    "# 그래서 우리는 이 인덱스를 바꿔줄꺼에요! 영화 이름을 기준으로요!\n",
    "movies = pd.read_csv('movies.csv', index_col='Title')\n",
    "movies.head()"
   ]
  },
  {
   "cell_type": "code",
   "execution_count": 10,
   "id": "97e01da0-e7a6-4f23-9ae4-c77edda93f69",
   "metadata": {},
   "outputs": [
    {
     "data": {
      "text/html": [
       "<div>\n",
       "<style scoped>\n",
       "    .dataframe tbody tr th:only-of-type {\n",
       "        vertical-align: middle;\n",
       "    }\n",
       "\n",
       "    .dataframe tbody tr th {\n",
       "        vertical-align: top;\n",
       "    }\n",
       "\n",
       "    .dataframe thead th {\n",
       "        text-align: right;\n",
       "    }\n",
       "</style>\n",
       "<table border=\"1\" class=\"dataframe\">\n",
       "  <thead>\n",
       "    <tr style=\"text-align: right;\">\n",
       "      <th></th>\n",
       "      <th>Rank</th>\n",
       "      <th>Studio</th>\n",
       "      <th>Gross</th>\n",
       "      <th>Year</th>\n",
       "    </tr>\n",
       "    <tr>\n",
       "      <th>Title</th>\n",
       "      <th></th>\n",
       "      <th></th>\n",
       "      <th></th>\n",
       "      <th></th>\n",
       "    </tr>\n",
       "  </thead>\n",
       "  <tbody>\n",
       "    <tr>\n",
       "      <th>Avengers: Endgame</th>\n",
       "      <td>1</td>\n",
       "      <td>Buena Vista</td>\n",
       "      <td>$2,796.30</td>\n",
       "      <td>2019</td>\n",
       "    </tr>\n",
       "    <tr>\n",
       "      <th>Avatar</th>\n",
       "      <td>2</td>\n",
       "      <td>Fox</td>\n",
       "      <td>$2,789.70</td>\n",
       "      <td>2009</td>\n",
       "    </tr>\n",
       "    <tr>\n",
       "      <th>Titanic</th>\n",
       "      <td>3</td>\n",
       "      <td>Paramount</td>\n",
       "      <td>$2,187.50</td>\n",
       "      <td>1997</td>\n",
       "    </tr>\n",
       "    <tr>\n",
       "      <th>Star Wars: The Force Awakens</th>\n",
       "      <td>4</td>\n",
       "      <td>Buena Vista</td>\n",
       "      <td>$2,068.20</td>\n",
       "      <td>2015</td>\n",
       "    </tr>\n",
       "    <tr>\n",
       "      <th>Avengers: Infinity War</th>\n",
       "      <td>5</td>\n",
       "      <td>Buena Vista</td>\n",
       "      <td>$2,048.40</td>\n",
       "      <td>2018</td>\n",
       "    </tr>\n",
       "  </tbody>\n",
       "</table>\n",
       "</div>"
      ],
      "text/plain": [
       "                              Rank       Studio       Gross  Year\n",
       "Title                                                            \n",
       "Avengers: Endgame                1  Buena Vista  $2,796.30   2019\n",
       "Avatar                           2          Fox  $2,789.70   2009\n",
       "Titanic                          3    Paramount  $2,187.50   1997\n",
       "Star Wars: The Force Awakens     4  Buena Vista  $2,068.20   2015\n",
       "Avengers: Infinity War           5  Buena Vista  $2,048.40   2018"
      ]
     },
     "execution_count": 10,
     "metadata": {},
     "output_type": "execute_result"
    }
   ],
   "source": [
    "# 지금까지는 head 함수를 사용해서 데이터프레임의 일부분을 보았습니다.\n",
    "# 사용자 아무것도 적지 않았을 때, n의 값은 기본 5입니다.\n",
    "movies.head(n=5)"
   ]
  },
  {
   "cell_type": "code",
   "execution_count": 11,
   "id": "4aba4cbb-e006-4575-8c21-f38378a564bc",
   "metadata": {},
   "outputs": [
    {
     "data": {
      "text/html": [
       "<div>\n",
       "<style scoped>\n",
       "    .dataframe tbody tr th:only-of-type {\n",
       "        vertical-align: middle;\n",
       "    }\n",
       "\n",
       "    .dataframe tbody tr th {\n",
       "        vertical-align: top;\n",
       "    }\n",
       "\n",
       "    .dataframe thead th {\n",
       "        text-align: right;\n",
       "    }\n",
       "</style>\n",
       "<table border=\"1\" class=\"dataframe\">\n",
       "  <thead>\n",
       "    <tr style=\"text-align: right;\">\n",
       "      <th></th>\n",
       "      <th>Rank</th>\n",
       "      <th>Studio</th>\n",
       "      <th>Gross</th>\n",
       "      <th>Year</th>\n",
       "    </tr>\n",
       "    <tr>\n",
       "      <th>Title</th>\n",
       "      <th></th>\n",
       "      <th></th>\n",
       "      <th></th>\n",
       "      <th></th>\n",
       "    </tr>\n",
       "  </thead>\n",
       "  <tbody>\n",
       "    <tr>\n",
       "      <th>Yogi Bear</th>\n",
       "      <td>778</td>\n",
       "      <td>Warner Brothers</td>\n",
       "      <td>$201.60</td>\n",
       "      <td>2010</td>\n",
       "    </tr>\n",
       "    <tr>\n",
       "      <th>Garfield: The Movie</th>\n",
       "      <td>779</td>\n",
       "      <td>Fox</td>\n",
       "      <td>$200.80</td>\n",
       "      <td>2004</td>\n",
       "    </tr>\n",
       "    <tr>\n",
       "      <th>Cats &amp; Dogs</th>\n",
       "      <td>780</td>\n",
       "      <td>Warner Brothers</td>\n",
       "      <td>$200.70</td>\n",
       "      <td>2001</td>\n",
       "    </tr>\n",
       "    <tr>\n",
       "      <th>The Hunt for Red October</th>\n",
       "      <td>781</td>\n",
       "      <td>Paramount</td>\n",
       "      <td>$200.50</td>\n",
       "      <td>1990</td>\n",
       "    </tr>\n",
       "    <tr>\n",
       "      <th>Valkyrie</th>\n",
       "      <td>782</td>\n",
       "      <td>MGM</td>\n",
       "      <td>$200.30</td>\n",
       "      <td>2008</td>\n",
       "    </tr>\n",
       "  </tbody>\n",
       "</table>\n",
       "</div>"
      ],
      "text/plain": [
       "                          Rank           Studio     Gross  Year\n",
       "Title                                                          \n",
       "Yogi Bear                  778  Warner Brothers  $201.60   2010\n",
       "Garfield: The Movie        779              Fox  $200.80   2004\n",
       "Cats & Dogs                780  Warner Brothers  $200.70   2001\n",
       "The Hunt for Red October   781        Paramount  $200.50   1990\n",
       "Valkyrie                   782              MGM  $200.30   2008"
      ]
     },
     "execution_count": 11,
     "metadata": {},
     "output_type": "execute_result"
    }
   ],
   "source": [
    "# 머리의 반대는 꼬리겠죠?\n",
    "movies.tail(n=5)"
   ]
  },
  {
   "cell_type": "code",
   "execution_count": 13,
   "id": "7e81ad03-4ef9-49f5-bbf4-6d290675d96a",
   "metadata": {},
   "outputs": [
    {
     "name": "stdout",
     "output_type": "stream",
     "text": [
      "데이터의 총 행의 개수 : 782\n"
     ]
    }
   ],
   "source": [
    "# 이번에는 총 몇개의 데이터가 있는지 볼까요?\n",
    "print('데이터의 총 행의 개수 : {}'.format(len(movies)))"
   ]
  },
  {
   "cell_type": "code",
   "execution_count": 14,
   "id": "15f6274c-94ad-42d7-85a2-1282867edaa3",
   "metadata": {},
   "outputs": [
    {
     "data": {
      "text/plain": [
       "(782, 4)"
      ]
     },
     "execution_count": 14,
     "metadata": {},
     "output_type": "execute_result"
    }
   ],
   "source": [
    "# shape함수를 통해서도 볼 수 있습니다.\n",
    "movies.shape"
   ]
  },
  {
   "cell_type": "code",
   "execution_count": 15,
   "id": "71b0b54d-d5de-4948-8259-e9d920093a69",
   "metadata": {},
   "outputs": [],
   "source": [
    "# 782, 4에서 앞에있는건 행이라고 했고, 뒤에있는건 열입니다. Rank, Studio, Gross, Year 총 4개 맞죠?"
   ]
  },
  {
   "cell_type": "code",
   "execution_count": 16,
   "id": "8a43b006-8634-4c64-8795-8e7ff3829ca4",
   "metadata": {},
   "outputs": [
    {
     "name": "stdout",
     "output_type": "stream",
     "text": [
      "총 셀의 개수 : 3128\n"
     ]
    }
   ],
   "source": [
    "# 총 셀의 개수도 셀 수 있습니다. 셀의 개수는 행 x 열의 개수입니다.\n",
    "print('총 셀의 개수 : {}'.format(movies.size))"
   ]
  },
  {
   "cell_type": "code",
   "execution_count": 17,
   "id": "4e27d9e2-a6db-46d1-ad09-d1414401974d",
   "metadata": {},
   "outputs": [
    {
     "data": {
      "text/plain": [
       "Rank       int64\n",
       "Studio    object\n",
       "Gross     object\n",
       "Year       int64\n",
       "dtype: object"
      ]
     },
     "execution_count": 17,
     "metadata": {},
     "output_type": "execute_result"
    }
   ],
   "source": [
    "# 각 행이 어떤 타입인지를 알 수도 있습니다.\n",
    "movies.dtypes"
   ]
  },
  {
   "cell_type": "code",
   "execution_count": 20,
   "id": "5d861c36-cd54-4b02-806c-2ac3074472f4",
   "metadata": {},
   "outputs": [
    {
     "name": "stdout",
     "output_type": "stream",
     "text": [
      "Rank                5\n",
      "Studio    Buena Vista\n",
      "Gross      $2,048.40 \n",
      "Year             2018\n",
      "Name: Avengers: Infinity War, dtype: object\n"
     ]
    }
   ],
   "source": [
    "# 판다스에서 제일 중요한 두 함수가 있는데 iloc함수와 loc함수 입니다.\n",
    "# 비슷하게 생겨서 그런지, 꽤나 비슷한 역할을 합니다.\n",
    "# 이 둘의 제일 중요한 차이점은 loc는 인덱스의 이름, iloc는 절대위치라는 겁니다.\n",
    "# 만약 우리가 5번째 행의 값들을 구하고 싶다면 iloc[4]를 구해야할까요? 아니면 loc[4]를 구해야할까요?\n",
    "try:\n",
    "    print(movies.iloc[4])\n",
    "except KeyError:\n",
    "    print('keyerror가 발생하였습니다.')"
   ]
  },
  {
   "cell_type": "code",
   "execution_count": 21,
   "id": "70d9c46b-fa59-47b4-9830-e2fcdd7671ec",
   "metadata": {},
   "outputs": [
    {
     "name": "stdout",
     "output_type": "stream",
     "text": [
      "keyerror가 발생하였습니다.\n"
     ]
    }
   ],
   "source": [
    "# 흠, iloc[4]는 문제가 없군요.\n",
    "# 이번에는 loc[4]를 해보죠.\n",
    "try:\n",
    "    print(movies.loc[4])\n",
    "except KeyError:\n",
    "    print('keyerror가 발생하였습니다.')"
   ]
  },
  {
   "cell_type": "code",
   "execution_count": 23,
   "id": "d3d95a8b-ecb4-4fab-b966-45c70739ce51",
   "metadata": {},
   "outputs": [
    {
     "data": {
      "text/plain": [
       "Rank                5\n",
       "Studio    Buena Vista\n",
       "Gross      $2,048.40 \n",
       "Year             2018\n",
       "Name: Avengers: Infinity War, dtype: object"
      ]
     },
     "execution_count": 23,
     "metadata": {},
     "output_type": "execute_result"
    }
   ],
   "source": [
    "# 어? keyerror가 발생하는군요!\n",
    "# 왜 keyerror가 발생할까요? 제가 앞에서 설명했듯 loc는 인덱스의 이름, iloc는 절대위치라고 했습니다.\n",
    "# iloc[4]는 0부터 시작해서 끝행인 781번째 행 중에서 4번째인(사실 5번째) 값을 추출한다는 의미이지만,\n",
    "# loc[4]의 경우 인덱스 이름 중 4인 행이 있나요? 모두 영화이름으로 되어있는데 4라고 적으면 올바른 결과가 도출될까요?\n",
    "# 따라서, 우리는 loc를 적을때는 반드시 인덱스 이름을 적는다는 것을 기억해야합니다.\n",
    "movies.loc['Avengers: Infinity War']"
   ]
  },
  {
   "cell_type": "code",
   "execution_count": 25,
   "id": "78af59db-b5e3-4d47-aa93-94dff06e63e1",
   "metadata": {},
   "outputs": [
    {
     "data": {
      "text/html": [
       "<div>\n",
       "<style scoped>\n",
       "    .dataframe tbody tr th:only-of-type {\n",
       "        vertical-align: middle;\n",
       "    }\n",
       "\n",
       "    .dataframe tbody tr th {\n",
       "        vertical-align: top;\n",
       "    }\n",
       "\n",
       "    .dataframe thead th {\n",
       "        text-align: right;\n",
       "    }\n",
       "</style>\n",
       "<table border=\"1\" class=\"dataframe\">\n",
       "  <thead>\n",
       "    <tr style=\"text-align: right;\">\n",
       "      <th></th>\n",
       "      <th>Rank</th>\n",
       "      <th>Studio</th>\n",
       "      <th>Gross</th>\n",
       "      <th>Year</th>\n",
       "    </tr>\n",
       "    <tr>\n",
       "      <th>Title</th>\n",
       "      <th></th>\n",
       "      <th></th>\n",
       "      <th></th>\n",
       "      <th></th>\n",
       "    </tr>\n",
       "  </thead>\n",
       "  <tbody>\n",
       "    <tr>\n",
       "      <th>Gone with the Wind</th>\n",
       "      <td>288</td>\n",
       "      <td>MGM</td>\n",
       "      <td>$402.40</td>\n",
       "      <td>1939</td>\n",
       "    </tr>\n",
       "    <tr>\n",
       "      <th>Bambi</th>\n",
       "      <td>540</td>\n",
       "      <td>RKO</td>\n",
       "      <td>$267.40</td>\n",
       "      <td>1942</td>\n",
       "    </tr>\n",
       "    <tr>\n",
       "      <th>101 Dalmatians</th>\n",
       "      <td>708</td>\n",
       "      <td>Buena Vista</td>\n",
       "      <td>$215.90</td>\n",
       "      <td>1961</td>\n",
       "    </tr>\n",
       "    <tr>\n",
       "      <th>The Jungle Book</th>\n",
       "      <td>755</td>\n",
       "      <td>Buena Vista</td>\n",
       "      <td>$205.80</td>\n",
       "      <td>1967</td>\n",
       "    </tr>\n",
       "    <tr>\n",
       "      <th>The Godfather</th>\n",
       "      <td>604</td>\n",
       "      <td>Paramount</td>\n",
       "      <td>$245.10</td>\n",
       "      <td>1972</td>\n",
       "    </tr>\n",
       "  </tbody>\n",
       "</table>\n",
       "</div>"
      ],
      "text/plain": [
       "                    Rank       Studio     Gross  Year\n",
       "Title                                                \n",
       "Gone with the Wind   288          MGM  $402.40   1939\n",
       "Bambi                540          RKO  $267.40   1942\n",
       "101 Dalmatians       708  Buena Vista  $215.90   1961\n",
       "The Jungle Book      755  Buena Vista  $205.80   1967\n",
       "The Godfather        604    Paramount  $245.10   1972"
      ]
     },
     "execution_count": 25,
     "metadata": {},
     "output_type": "execute_result"
    }
   ],
   "source": [
    "# 만약, 연도 순서대로 데이터 프레임을 정렬하고 싶다면 어떻게 해야할까요?\n",
    "movies.sort_values(by='Year').head()"
   ]
  },
  {
   "cell_type": "code",
   "execution_count": 33,
   "id": "519591de-4afc-4d3a-b9d0-c8fe3cb7e7f9",
   "metadata": {},
   "outputs": [
    {
     "data": {
      "text/html": [
       "<div>\n",
       "<style scoped>\n",
       "    .dataframe tbody tr th:only-of-type {\n",
       "        vertical-align: middle;\n",
       "    }\n",
       "\n",
       "    .dataframe tbody tr th {\n",
       "        vertical-align: top;\n",
       "    }\n",
       "\n",
       "    .dataframe thead th {\n",
       "        text-align: right;\n",
       "    }\n",
       "</style>\n",
       "<table border=\"1\" class=\"dataframe\">\n",
       "  <thead>\n",
       "    <tr style=\"text-align: right;\">\n",
       "      <th></th>\n",
       "      <th>Rank</th>\n",
       "      <th>Studio</th>\n",
       "      <th>Gross</th>\n",
       "      <th>Year</th>\n",
       "    </tr>\n",
       "    <tr>\n",
       "      <th>Title</th>\n",
       "      <th></th>\n",
       "      <th></th>\n",
       "      <th></th>\n",
       "      <th></th>\n",
       "    </tr>\n",
       "  </thead>\n",
       "  <tbody>\n",
       "    <tr>\n",
       "      <th>Avengers: Endgame</th>\n",
       "      <td>1</td>\n",
       "      <td>Buena Vista</td>\n",
       "      <td>$2,796.30</td>\n",
       "      <td>2019</td>\n",
       "    </tr>\n",
       "    <tr>\n",
       "      <th>John Wick: Chapter 3 - Parabellum</th>\n",
       "      <td>458</td>\n",
       "      <td>Lionsgate</td>\n",
       "      <td>$304.70</td>\n",
       "      <td>2019</td>\n",
       "    </tr>\n",
       "    <tr>\n",
       "      <th>The Wandering Earth</th>\n",
       "      <td>114</td>\n",
       "      <td>China Film Corporation</td>\n",
       "      <td>$699.80</td>\n",
       "      <td>2019</td>\n",
       "    </tr>\n",
       "    <tr>\n",
       "      <th>Toy Story 4</th>\n",
       "      <td>198</td>\n",
       "      <td>Buena Vista</td>\n",
       "      <td>$519.80</td>\n",
       "      <td>2019</td>\n",
       "    </tr>\n",
       "    <tr>\n",
       "      <th>How to Train Your Dragon: The Hidden World</th>\n",
       "      <td>199</td>\n",
       "      <td>Universal</td>\n",
       "      <td>$519.80</td>\n",
       "      <td>2019</td>\n",
       "    </tr>\n",
       "  </tbody>\n",
       "</table>\n",
       "</div>"
      ],
      "text/plain": [
       "                                            Rank                  Studio  \\\n",
       "Title                                                                      \n",
       "Avengers: Endgame                              1             Buena Vista   \n",
       "John Wick: Chapter 3 - Parabellum            458               Lionsgate   \n",
       "The Wandering Earth                          114  China Film Corporation   \n",
       "Toy Story 4                                  198             Buena Vista   \n",
       "How to Train Your Dragon: The Hidden World   199               Universal   \n",
       "\n",
       "                                                 Gross  Year  \n",
       "Title                                                         \n",
       "Avengers: Endgame                           $2,796.30   2019  \n",
       "John Wick: Chapter 3 - Parabellum             $304.70   2019  \n",
       "The Wandering Earth                           $699.80   2019  \n",
       "Toy Story 4                                   $519.80   2019  \n",
       "How to Train Your Dragon: The Hidden World    $519.80   2019  "
      ]
     },
     "execution_count": 33,
     "metadata": {},
     "output_type": "execute_result"
    }
   ],
   "source": [
    "# 최근 영화부터 정렬하고 싶다면 ascending=False로 두면 됩니다!\n",
    "movies.sort_values(by='Year', ascending=False).head()"
   ]
  },
  {
   "cell_type": "code",
   "execution_count": 34,
   "id": "1ac3cd54-ceff-4a94-a1f1-69744f2c13b2",
   "metadata": {},
   "outputs": [
    {
     "data": {
      "text/html": [
       "<div>\n",
       "<style scoped>\n",
       "    .dataframe tbody tr th:only-of-type {\n",
       "        vertical-align: middle;\n",
       "    }\n",
       "\n",
       "    .dataframe tbody tr th {\n",
       "        vertical-align: top;\n",
       "    }\n",
       "\n",
       "    .dataframe thead th {\n",
       "        text-align: right;\n",
       "    }\n",
       "</style>\n",
       "<table border=\"1\" class=\"dataframe\">\n",
       "  <thead>\n",
       "    <tr style=\"text-align: right;\">\n",
       "      <th></th>\n",
       "      <th>Rank</th>\n",
       "      <th>Studio</th>\n",
       "      <th>Gross</th>\n",
       "      <th>Year</th>\n",
       "    </tr>\n",
       "    <tr>\n",
       "      <th>Title</th>\n",
       "      <th></th>\n",
       "      <th></th>\n",
       "      <th></th>\n",
       "      <th></th>\n",
       "    </tr>\n",
       "  </thead>\n",
       "  <tbody>\n",
       "    <tr>\n",
       "      <th>The Blair Witch Project</th>\n",
       "      <td>588</td>\n",
       "      <td>Artisan</td>\n",
       "      <td>$248.60</td>\n",
       "      <td>1999</td>\n",
       "    </tr>\n",
       "    <tr>\n",
       "      <th>101 Dalmatians</th>\n",
       "      <td>708</td>\n",
       "      <td>Buena Vista</td>\n",
       "      <td>$215.90</td>\n",
       "      <td>1961</td>\n",
       "    </tr>\n",
       "    <tr>\n",
       "      <th>The Jungle Book</th>\n",
       "      <td>755</td>\n",
       "      <td>Buena Vista</td>\n",
       "      <td>$205.80</td>\n",
       "      <td>1967</td>\n",
       "    </tr>\n",
       "    <tr>\n",
       "      <th>Who Framed Roger Rabbit</th>\n",
       "      <td>410</td>\n",
       "      <td>Buena Vista</td>\n",
       "      <td>$329.80</td>\n",
       "      <td>1988</td>\n",
       "    </tr>\n",
       "    <tr>\n",
       "      <th>Dead Poets Society</th>\n",
       "      <td>636</td>\n",
       "      <td>Buena Vista</td>\n",
       "      <td>$235.90</td>\n",
       "      <td>1989</td>\n",
       "    </tr>\n",
       "  </tbody>\n",
       "</table>\n",
       "</div>"
      ],
      "text/plain": [
       "                         Rank       Studio     Gross  Year\n",
       "Title                                                     \n",
       "The Blair Witch Project   588      Artisan  $248.60   1999\n",
       "101 Dalmatians            708  Buena Vista  $215.90   1961\n",
       "The Jungle Book           755  Buena Vista  $205.80   1967\n",
       "Who Framed Roger Rabbit   410  Buena Vista  $329.80   1988\n",
       "Dead Poets Society        636  Buena Vista  $235.90   1989"
      ]
     },
     "execution_count": 34,
     "metadata": {},
     "output_type": "execute_result"
    }
   ],
   "source": [
    "# 하지만, Studio가 중복되는 경우가 있겠죠? 이럴때는 by의 값을 여러개 할당하면 됩니다.\n",
    "movies.sort_values(by=['Studio', 'Year']).head()"
   ]
  },
  {
   "cell_type": "code",
   "execution_count": 30,
   "id": "99a67d52-af7f-4315-b046-e8ce4c851552",
   "metadata": {},
   "outputs": [
    {
     "data": {
      "text/html": [
       "<div>\n",
       "<style scoped>\n",
       "    .dataframe tbody tr th:only-of-type {\n",
       "        vertical-align: middle;\n",
       "    }\n",
       "\n",
       "    .dataframe tbody tr th {\n",
       "        vertical-align: top;\n",
       "    }\n",
       "\n",
       "    .dataframe thead th {\n",
       "        text-align: right;\n",
       "    }\n",
       "</style>\n",
       "<table border=\"1\" class=\"dataframe\">\n",
       "  <thead>\n",
       "    <tr style=\"text-align: right;\">\n",
       "      <th></th>\n",
       "      <th>Rank</th>\n",
       "      <th>Studio</th>\n",
       "      <th>Gross</th>\n",
       "      <th>Year</th>\n",
       "    </tr>\n",
       "    <tr>\n",
       "      <th>Title</th>\n",
       "      <th></th>\n",
       "      <th></th>\n",
       "      <th></th>\n",
       "      <th></th>\n",
       "    </tr>\n",
       "  </thead>\n",
       "  <tbody>\n",
       "    <tr>\n",
       "      <th>10,000 B.C.</th>\n",
       "      <td>536</td>\n",
       "      <td>Warner Brothers</td>\n",
       "      <td>$269.80</td>\n",
       "      <td>2008</td>\n",
       "    </tr>\n",
       "    <tr>\n",
       "      <th>101 Dalmatians</th>\n",
       "      <td>708</td>\n",
       "      <td>Buena Vista</td>\n",
       "      <td>$215.90</td>\n",
       "      <td>1961</td>\n",
       "    </tr>\n",
       "    <tr>\n",
       "      <th>101 Dalmatians</th>\n",
       "      <td>425</td>\n",
       "      <td>Buena Vista</td>\n",
       "      <td>$320.70</td>\n",
       "      <td>1996</td>\n",
       "    </tr>\n",
       "    <tr>\n",
       "      <th>2 Fast 2 Furious</th>\n",
       "      <td>632</td>\n",
       "      <td>Universal</td>\n",
       "      <td>$236.40</td>\n",
       "      <td>2003</td>\n",
       "    </tr>\n",
       "    <tr>\n",
       "      <th>2012</th>\n",
       "      <td>93</td>\n",
       "      <td>Sony</td>\n",
       "      <td>$769.70</td>\n",
       "      <td>2009</td>\n",
       "    </tr>\n",
       "  </tbody>\n",
       "</table>\n",
       "</div>"
      ],
      "text/plain": [
       "                  Rank           Studio     Gross  Year\n",
       "Title                                                  \n",
       "10,000 B.C.        536  Warner Brothers  $269.80   2008\n",
       "101 Dalmatians     708      Buena Vista  $215.90   1961\n",
       "101 Dalmatians     425      Buena Vista  $320.70   1996\n",
       "2 Fast 2 Furious   632        Universal  $236.40   2003\n",
       "2012                93             Sony  $769.70   2009"
      ]
     },
     "execution_count": 30,
     "metadata": {},
     "output_type": "execute_result"
    }
   ],
   "source": [
    "# 근데, sort를 쳐보면 sort_values와 sort_index가 나오지 않나요?\n",
    "# sort_values는 특정 열을 기준으로 정렬을 하는 것이고, sort_index는 index를 기준으로 정렬한다는 의미입니다.\n",
    "movies.sort_index().head()"
   ]
  },
  {
   "cell_type": "code",
   "execution_count": 36,
   "id": "ff97d68d-c467-4b8d-b0e6-a6a1cc02b02c",
   "metadata": {},
   "outputs": [
    {
     "data": {
      "text/plain": [
       "Studio\n",
       "Warner Brothers    132\n",
       "Buena Vista        125\n",
       "Fox                117\n",
       "Universal          109\n",
       "Sony                86\n",
       "Name: count, dtype: int64"
      ]
     },
     "execution_count": 36,
     "metadata": {},
     "output_type": "execute_result"
    }
   ],
   "source": [
    "# 만약, 수익률을 가장 많이 낸 영화를 가장 많이 만든 제작사는 어디일까요?\n",
    "movies['Studio'].value_counts().head()"
   ]
  },
  {
   "cell_type": "code",
   "execution_count": 39,
   "id": "ebe172b1-f8df-4fde-9851-5ed576921c11",
   "metadata": {},
   "outputs": [
    {
     "data": {
      "text/html": [
       "<div>\n",
       "<style scoped>\n",
       "    .dataframe tbody tr th:only-of-type {\n",
       "        vertical-align: middle;\n",
       "    }\n",
       "\n",
       "    .dataframe tbody tr th {\n",
       "        vertical-align: top;\n",
       "    }\n",
       "\n",
       "    .dataframe thead th {\n",
       "        text-align: right;\n",
       "    }\n",
       "</style>\n",
       "<table border=\"1\" class=\"dataframe\">\n",
       "  <thead>\n",
       "    <tr style=\"text-align: right;\">\n",
       "      <th></th>\n",
       "      <th>Rank</th>\n",
       "      <th>Studio</th>\n",
       "      <th>Gross</th>\n",
       "      <th>Year</th>\n",
       "    </tr>\n",
       "    <tr>\n",
       "      <th>Title</th>\n",
       "      <th></th>\n",
       "      <th></th>\n",
       "      <th></th>\n",
       "      <th></th>\n",
       "    </tr>\n",
       "  </thead>\n",
       "  <tbody>\n",
       "    <tr>\n",
       "      <th>Jurassic World</th>\n",
       "      <td>6</td>\n",
       "      <td>Universal</td>\n",
       "      <td>$1,671.70</td>\n",
       "      <td>2015</td>\n",
       "    </tr>\n",
       "    <tr>\n",
       "      <th>Furious 7</th>\n",
       "      <td>8</td>\n",
       "      <td>Universal</td>\n",
       "      <td>$1,516.00</td>\n",
       "      <td>2015</td>\n",
       "    </tr>\n",
       "    <tr>\n",
       "      <th>Jurassic World: Fallen Kingdom</th>\n",
       "      <td>13</td>\n",
       "      <td>Universal</td>\n",
       "      <td>$1,309.50</td>\n",
       "      <td>2018</td>\n",
       "    </tr>\n",
       "    <tr>\n",
       "      <th>The Fate of the Furious</th>\n",
       "      <td>17</td>\n",
       "      <td>Universal</td>\n",
       "      <td>$1,236.00</td>\n",
       "      <td>2017</td>\n",
       "    </tr>\n",
       "    <tr>\n",
       "      <th>Minions</th>\n",
       "      <td>19</td>\n",
       "      <td>Universal</td>\n",
       "      <td>$1,159.40</td>\n",
       "      <td>2015</td>\n",
       "    </tr>\n",
       "  </tbody>\n",
       "</table>\n",
       "</div>"
      ],
      "text/plain": [
       "                                Rank     Studio       Gross  Year\n",
       "Title                                                            \n",
       "Jurassic World                     6  Universal  $1,671.70   2015\n",
       "Furious 7                          8  Universal  $1,516.00   2015\n",
       "Jurassic World: Fallen Kingdom    13  Universal  $1,309.50   2018\n",
       "The Fate of the Furious           17  Universal  $1,236.00   2017\n",
       "Minions                           19  Universal  $1,159.40   2015"
      ]
     },
     "execution_count": 39,
     "metadata": {},
     "output_type": "execute_result"
    }
   ],
   "source": [
    "# 만약 Universal에서 만든 영화만 찾고 싶다면 어떻게 해야할까요?\n",
    "movies[movies['Studio']=='Universal'].head()"
   ]
  },
  {
   "cell_type": "code",
   "execution_count": 50,
   "id": "927a0963-e0f8-48fa-8243-bbd5eaa81e88",
   "metadata": {},
   "outputs": [
    {
     "data": {
      "text/html": [
       "<div>\n",
       "<style scoped>\n",
       "    .dataframe tbody tr th:only-of-type {\n",
       "        vertical-align: middle;\n",
       "    }\n",
       "\n",
       "    .dataframe tbody tr th {\n",
       "        vertical-align: top;\n",
       "    }\n",
       "\n",
       "    .dataframe thead th {\n",
       "        text-align: right;\n",
       "    }\n",
       "</style>\n",
       "<table border=\"1\" class=\"dataframe\">\n",
       "  <thead>\n",
       "    <tr style=\"text-align: right;\">\n",
       "      <th></th>\n",
       "      <th>Rank</th>\n",
       "      <th>Studio</th>\n",
       "      <th>Gross</th>\n",
       "      <th>Year</th>\n",
       "    </tr>\n",
       "    <tr>\n",
       "      <th>Title</th>\n",
       "      <th></th>\n",
       "      <th></th>\n",
       "      <th></th>\n",
       "      <th></th>\n",
       "    </tr>\n",
       "  </thead>\n",
       "  <tbody>\n",
       "    <tr>\n",
       "      <th>Jurassic World</th>\n",
       "      <td>6</td>\n",
       "      <td>Universal</td>\n",
       "      <td>$1,671.70</td>\n",
       "      <td>2015</td>\n",
       "    </tr>\n",
       "    <tr>\n",
       "      <th>Furious 7</th>\n",
       "      <td>8</td>\n",
       "      <td>Universal</td>\n",
       "      <td>$1,516.00</td>\n",
       "      <td>2015</td>\n",
       "    </tr>\n",
       "    <tr>\n",
       "      <th>Minions</th>\n",
       "      <td>19</td>\n",
       "      <td>Universal</td>\n",
       "      <td>$1,159.40</td>\n",
       "      <td>2015</td>\n",
       "    </tr>\n",
       "    <tr>\n",
       "      <th>Fifty Shades of Grey</th>\n",
       "      <td>165</td>\n",
       "      <td>Universal</td>\n",
       "      <td>$571.00</td>\n",
       "      <td>2015</td>\n",
       "    </tr>\n",
       "    <tr>\n",
       "      <th>Pitch Perfect 2</th>\n",
       "      <td>504</td>\n",
       "      <td>Universal</td>\n",
       "      <td>$287.50</td>\n",
       "      <td>2015</td>\n",
       "    </tr>\n",
       "  </tbody>\n",
       "</table>\n",
       "</div>"
      ],
      "text/plain": [
       "                      Rank     Studio       Gross  Year\n",
       "Title                                                  \n",
       "Jurassic World           6  Universal  $1,671.70   2015\n",
       "Furious 7                8  Universal  $1,516.00   2015\n",
       "Minions                 19  Universal  $1,159.40   2015\n",
       "Fifty Shades of Grey   165  Universal    $571.00   2015\n",
       "Pitch Perfect 2        504  Universal    $287.50   2015"
      ]
     },
     "execution_count": 50,
     "metadata": {},
     "output_type": "execute_result"
    }
   ],
   "source": [
    "# Universal에서 제작하고, Year의 값이 2015년인 경우를 찾으려면\n",
    "# 이렇게 괄호를 사용해서 각각의 조건을 묶으면 됩니다.\n",
    "movies[(movies['Studio']=='Universal') & (movies['Year']==2015)].head()"
   ]
  },
  {
   "cell_type": "code",
   "execution_count": 49,
   "id": "9894275a-891a-4cbe-afdc-a7be99bc2b6a",
   "metadata": {},
   "outputs": [
    {
     "data": {
      "text/html": [
       "<div>\n",
       "<style scoped>\n",
       "    .dataframe tbody tr th:only-of-type {\n",
       "        vertical-align: middle;\n",
       "    }\n",
       "\n",
       "    .dataframe tbody tr th {\n",
       "        vertical-align: top;\n",
       "    }\n",
       "\n",
       "    .dataframe thead th {\n",
       "        text-align: right;\n",
       "    }\n",
       "</style>\n",
       "<table border=\"1\" class=\"dataframe\">\n",
       "  <thead>\n",
       "    <tr style=\"text-align: right;\">\n",
       "      <th></th>\n",
       "      <th>Rank</th>\n",
       "      <th>Studio</th>\n",
       "      <th>Gross</th>\n",
       "      <th>Year</th>\n",
       "    </tr>\n",
       "    <tr>\n",
       "      <th>Title</th>\n",
       "      <th></th>\n",
       "      <th></th>\n",
       "      <th></th>\n",
       "      <th></th>\n",
       "    </tr>\n",
       "  </thead>\n",
       "  <tbody>\n",
       "    <tr>\n",
       "      <th>Star Wars: The Force Awakens</th>\n",
       "      <td>4</td>\n",
       "      <td>Buena Vista</td>\n",
       "      <td>$2,068.20</td>\n",
       "      <td>2015</td>\n",
       "    </tr>\n",
       "    <tr>\n",
       "      <th>Jurassic World</th>\n",
       "      <td>6</td>\n",
       "      <td>Universal</td>\n",
       "      <td>$1,671.70</td>\n",
       "      <td>2015</td>\n",
       "    </tr>\n",
       "    <tr>\n",
       "      <th>Furious 7</th>\n",
       "      <td>8</td>\n",
       "      <td>Universal</td>\n",
       "      <td>$1,516.00</td>\n",
       "      <td>2015</td>\n",
       "    </tr>\n",
       "    <tr>\n",
       "      <th>Avengers: Age of Ultron</th>\n",
       "      <td>9</td>\n",
       "      <td>Buena Vista</td>\n",
       "      <td>$1,405.40</td>\n",
       "      <td>2015</td>\n",
       "    </tr>\n",
       "    <tr>\n",
       "      <th>Jurassic World: Fallen Kingdom</th>\n",
       "      <td>13</td>\n",
       "      <td>Universal</td>\n",
       "      <td>$1,309.50</td>\n",
       "      <td>2018</td>\n",
       "    </tr>\n",
       "  </tbody>\n",
       "</table>\n",
       "</div>"
      ],
      "text/plain": [
       "                                Rank       Studio       Gross  Year\n",
       "Title                                                              \n",
       "Star Wars: The Force Awakens       4  Buena Vista  $2,068.20   2015\n",
       "Jurassic World                     6    Universal  $1,671.70   2015\n",
       "Furious 7                          8    Universal  $1,516.00   2015\n",
       "Avengers: Age of Ultron            9  Buena Vista  $1,405.40   2015\n",
       "Jurassic World: Fallen Kingdom    13    Universal  $1,309.50   2018"
      ]
     },
     "execution_count": 49,
     "metadata": {},
     "output_type": "execute_result"
    }
   ],
   "source": [
    "# 만약의 조건이 또는 이라면, |를 사용하면 되겠죠?\n",
    "movies[(movies['Studio']=='Universal') | (movies['Year']==2015)].head()"
   ]
  },
  {
   "cell_type": "code",
   "execution_count": 53,
   "id": "fae7fe9b-422f-4cd1-bf94-2f09a82f07e0",
   "metadata": {},
   "outputs": [
    {
     "data": {
      "text/html": [
       "<div>\n",
       "<style scoped>\n",
       "    .dataframe tbody tr th:only-of-type {\n",
       "        vertical-align: middle;\n",
       "    }\n",
       "\n",
       "    .dataframe tbody tr th {\n",
       "        vertical-align: top;\n",
       "    }\n",
       "\n",
       "    .dataframe thead th {\n",
       "        text-align: right;\n",
       "    }\n",
       "</style>\n",
       "<table border=\"1\" class=\"dataframe\">\n",
       "  <thead>\n",
       "    <tr style=\"text-align: right;\">\n",
       "      <th></th>\n",
       "      <th>Rank</th>\n",
       "      <th>Studio</th>\n",
       "      <th>Gross</th>\n",
       "      <th>Year</th>\n",
       "    </tr>\n",
       "    <tr>\n",
       "      <th>Title</th>\n",
       "      <th></th>\n",
       "      <th></th>\n",
       "      <th></th>\n",
       "      <th></th>\n",
       "    </tr>\n",
       "  </thead>\n",
       "  <tbody>\n",
       "    <tr>\n",
       "      <th>The Exorcist</th>\n",
       "      <td>252</td>\n",
       "      <td>Warner Brothers</td>\n",
       "      <td>$441.30</td>\n",
       "      <td>1973</td>\n",
       "    </tr>\n",
       "    <tr>\n",
       "      <th>Gone with the Wind</th>\n",
       "      <td>288</td>\n",
       "      <td>MGM</td>\n",
       "      <td>$402.40</td>\n",
       "      <td>1939</td>\n",
       "    </tr>\n",
       "    <tr>\n",
       "      <th>Bambi</th>\n",
       "      <td>540</td>\n",
       "      <td>RKO</td>\n",
       "      <td>$267.40</td>\n",
       "      <td>1942</td>\n",
       "    </tr>\n",
       "    <tr>\n",
       "      <th>The Godfather</th>\n",
       "      <td>604</td>\n",
       "      <td>Paramount</td>\n",
       "      <td>$245.10</td>\n",
       "      <td>1972</td>\n",
       "    </tr>\n",
       "    <tr>\n",
       "      <th>101 Dalmatians</th>\n",
       "      <td>708</td>\n",
       "      <td>Buena Vista</td>\n",
       "      <td>$215.90</td>\n",
       "      <td>1961</td>\n",
       "    </tr>\n",
       "  </tbody>\n",
       "</table>\n",
       "</div>"
      ],
      "text/plain": [
       "                    Rank           Studio     Gross  Year\n",
       "Title                                                    \n",
       "The Exorcist         252  Warner Brothers  $441.30   1973\n",
       "Gone with the Wind   288              MGM  $402.40   1939\n",
       "Bambi                540              RKO  $267.40   1942\n",
       "The Godfather        604        Paramount  $245.10   1972\n",
       "101 Dalmatians       708      Buena Vista  $215.90   1961"
      ]
     },
     "execution_count": 53,
     "metadata": {},
     "output_type": "execute_result"
    }
   ],
   "source": [
    "# 예를 들어, 1975년 이전에 개봉한 영화도 찾을 수 있죠.\n",
    "movies[movies['Year'] < 1975].head()"
   ]
  },
  {
   "cell_type": "code",
   "execution_count": 56,
   "id": "f815eb01-ccc6-4697-a985-2a630683e906",
   "metadata": {},
   "outputs": [
    {
     "data": {
      "text/html": [
       "<div>\n",
       "<style scoped>\n",
       "    .dataframe tbody tr th:only-of-type {\n",
       "        vertical-align: middle;\n",
       "    }\n",
       "\n",
       "    .dataframe tbody tr th {\n",
       "        vertical-align: top;\n",
       "    }\n",
       "\n",
       "    .dataframe thead th {\n",
       "        text-align: right;\n",
       "    }\n",
       "</style>\n",
       "<table border=\"1\" class=\"dataframe\">\n",
       "  <thead>\n",
       "    <tr style=\"text-align: right;\">\n",
       "      <th></th>\n",
       "      <th>Rank</th>\n",
       "      <th>Studio</th>\n",
       "      <th>Gross</th>\n",
       "      <th>Year</th>\n",
       "    </tr>\n",
       "    <tr>\n",
       "      <th>Title</th>\n",
       "      <th></th>\n",
       "      <th></th>\n",
       "      <th></th>\n",
       "      <th></th>\n",
       "    </tr>\n",
       "  </thead>\n",
       "  <tbody>\n",
       "    <tr>\n",
       "      <th>Return of the Jedi</th>\n",
       "      <td>222</td>\n",
       "      <td>Fox</td>\n",
       "      <td>$475.10</td>\n",
       "      <td>1983</td>\n",
       "    </tr>\n",
       "    <tr>\n",
       "      <th>Back to the Future</th>\n",
       "      <td>311</td>\n",
       "      <td>Universal</td>\n",
       "      <td>$381.10</td>\n",
       "      <td>1985</td>\n",
       "    </tr>\n",
       "    <tr>\n",
       "      <th>Top Gun</th>\n",
       "      <td>357</td>\n",
       "      <td>Paramount</td>\n",
       "      <td>$356.80</td>\n",
       "      <td>1986</td>\n",
       "    </tr>\n",
       "    <tr>\n",
       "      <th>Indiana Jones and the Temple of Doom</th>\n",
       "      <td>403</td>\n",
       "      <td>Paramount</td>\n",
       "      <td>$333.10</td>\n",
       "      <td>1984</td>\n",
       "    </tr>\n",
       "    <tr>\n",
       "      <th>Crocodile Dundee</th>\n",
       "      <td>413</td>\n",
       "      <td>Paramount</td>\n",
       "      <td>$328.20</td>\n",
       "      <td>1986</td>\n",
       "    </tr>\n",
       "  </tbody>\n",
       "</table>\n",
       "</div>"
      ],
      "text/plain": [
       "                                      Rank     Studio     Gross  Year\n",
       "Title                                                                \n",
       "Return of the Jedi                     222        Fox  $475.10   1983\n",
       "Back to the Future                     311  Universal  $381.10   1985\n",
       "Top Gun                                357  Paramount  $356.80   1986\n",
       "Indiana Jones and the Temple of Doom   403  Paramount  $333.10   1984\n",
       "Crocodile Dundee                       413  Paramount  $328.20   1986"
      ]
     },
     "execution_count": 56,
     "metadata": {},
     "output_type": "execute_result"
    }
   ],
   "source": [
    "# 그리고 특정 값 사이에, 1983년부터 1986년 사이에 개봉한 영화도 가져올 수 있죠.\n",
    "movies[movies['Year'].between(1983, 1986)].head()"
   ]
  },
  {
   "cell_type": "code",
   "execution_count": 58,
   "id": "f7baf92f-5ee3-4971-8650-976e4d921393",
   "metadata": {},
   "outputs": [
    {
     "data": {
      "text/html": [
       "<div>\n",
       "<style scoped>\n",
       "    .dataframe tbody tr th:only-of-type {\n",
       "        vertical-align: middle;\n",
       "    }\n",
       "\n",
       "    .dataframe tbody tr th {\n",
       "        vertical-align: top;\n",
       "    }\n",
       "\n",
       "    .dataframe thead th {\n",
       "        text-align: right;\n",
       "    }\n",
       "</style>\n",
       "<table border=\"1\" class=\"dataframe\">\n",
       "  <thead>\n",
       "    <tr style=\"text-align: right;\">\n",
       "      <th></th>\n",
       "      <th>Rank</th>\n",
       "      <th>Studio</th>\n",
       "      <th>Gross</th>\n",
       "      <th>Year</th>\n",
       "    </tr>\n",
       "    <tr>\n",
       "      <th>Title</th>\n",
       "      <th></th>\n",
       "      <th></th>\n",
       "      <th></th>\n",
       "      <th></th>\n",
       "    </tr>\n",
       "  </thead>\n",
       "  <tbody>\n",
       "    <tr>\n",
       "      <th>Transformers: Dark of the Moon</th>\n",
       "      <td>23</td>\n",
       "      <td>Paramount</td>\n",
       "      <td>$1,123.80</td>\n",
       "      <td>2011</td>\n",
       "    </tr>\n",
       "    <tr>\n",
       "      <th>The Dark Knight Rises</th>\n",
       "      <td>27</td>\n",
       "      <td>Warner Brothers</td>\n",
       "      <td>$1,084.90</td>\n",
       "      <td>2012</td>\n",
       "    </tr>\n",
       "    <tr>\n",
       "      <th>The Dark Knight</th>\n",
       "      <td>39</td>\n",
       "      <td>Warner Brothers</td>\n",
       "      <td>$1,004.90</td>\n",
       "      <td>2008</td>\n",
       "    </tr>\n",
       "    <tr>\n",
       "      <th>Thor: The Dark World</th>\n",
       "      <td>132</td>\n",
       "      <td>Buena Vista</td>\n",
       "      <td>$644.60</td>\n",
       "      <td>2013</td>\n",
       "    </tr>\n",
       "    <tr>\n",
       "      <th>Star Trek Into Darkness</th>\n",
       "      <td>232</td>\n",
       "      <td>Paramount</td>\n",
       "      <td>$467.40</td>\n",
       "      <td>2013</td>\n",
       "    </tr>\n",
       "  </tbody>\n",
       "</table>\n",
       "</div>"
      ],
      "text/plain": [
       "                                Rank           Studio       Gross  Year\n",
       "Title                                                                  \n",
       "Transformers: Dark of the Moon    23        Paramount  $1,123.80   2011\n",
       "The Dark Knight Rises             27  Warner Brothers  $1,084.90   2012\n",
       "The Dark Knight                   39  Warner Brothers  $1,004.90   2008\n",
       "Thor: The Dark World             132      Buena Vista    $644.60   2013\n",
       "Star Trek Into Darkness          232        Paramount    $467.40   2013"
      ]
     },
     "execution_count": 58,
     "metadata": {},
     "output_type": "execute_result"
    }
   ],
   "source": [
    "# 이번에는 인덱스에 특정 문자를 포함한 값들을 찾아볼까요? dark라는 문자를 담고 있는 값을 찾아봅시다.\n",
    "movies[movies.index.str.lower().str.contains('dark')].head()"
   ]
  },
  {
   "cell_type": "code",
   "execution_count": 68,
   "id": "6c707f97-0564-42e9-b69a-83ce3a812fa7",
   "metadata": {},
   "outputs": [
    {
     "data": {
      "text/plain": [
       "Title\n",
       "Avengers: Endgame               2796.3\n",
       "Avatar                          2789.7\n",
       "Titanic                         2187.5\n",
       "Star Wars: The Force Awakens    2068.2\n",
       "Avengers: Infinity War          2048.4\n",
       "                                 ...  \n",
       "Yogi Bear                        201.6\n",
       "Garfield: The Movie              200.8\n",
       "Cats & Dogs                      200.7\n",
       "The Hunt for Red October         200.5\n",
       "Valkyrie                         200.3\n",
       "Name: Gross, Length: 782, dtype: float64"
      ]
     },
     "execution_count": 68,
     "metadata": {},
     "output_type": "execute_result"
    }
   ],
   "source": [
    "# 이번에는 Gross를 숫자로 바꿔보죠.\n",
    "# 복잡한 정규 표현식을 사용하다가 오류가 발생할 수 있는 경우, regex=False를 사용하면 오류 발생 가능성을 줄일 수 있습니다.\n",
    "# astype은 전체 속성을 소수 형태로 바꿉니다.\n",
    "movies['Gross'].str.replace('$', '', regex=False).str.replace(',', '', regex=False).astype(float)"
   ]
  },
  {
   "cell_type": "code",
   "execution_count": 69,
   "id": "90001815-188f-457b-94e2-409ce2da2e7f",
   "metadata": {},
   "outputs": [],
   "source": [
    "# 영구적으로 해당 데이터프레임의 값을 바꾸고 싶다면 변수를 대입해야겠죠?\n",
    "movies['Gross'] = movies['Gross'].str.replace('$', '', regex=False).str.replace(',', '', regex=False).astype(float)"
   ]
  },
  {
   "cell_type": "code",
   "execution_count": 71,
   "id": "261b94a9-e8cc-45ee-84eb-5430969b51bb",
   "metadata": {},
   "outputs": [
    {
     "data": {
      "text/plain": [
       "np.float64(439.0308184143222)"
      ]
     },
     "execution_count": 71,
     "metadata": {},
     "output_type": "execute_result"
    }
   ],
   "source": [
    "# 평균 흥행 수익을 계산할 수도 있습니다.\n",
    "movies['Gross'].mean()"
   ]
  },
  {
   "cell_type": "code",
   "execution_count": 76,
   "id": "330ba4f9-6bbf-49b7-9fe2-d765774dcaef",
   "metadata": {},
   "outputs": [
    {
     "data": {
      "text/plain": [
       "Studio\n",
       "Warner Brothers    132\n",
       "Buena Vista        125\n",
       "Fox                117\n",
       "Universal          109\n",
       "Sony                86\n",
       "Name: Gross, dtype: int64"
      ]
     },
     "execution_count": 76,
     "metadata": {},
     "output_type": "execute_result"
    }
   ],
   "source": [
    "# groupby를 사용해서 특정 열을 중심으로 그룹화를 시킬 수 있습니다.\n",
    "movies.groupby('Studio').count()['Gross'].sort_values(ascending=False).head()"
   ]
  },
  {
   "cell_type": "code",
   "execution_count": 79,
   "id": "d00d4073-26aa-4d13-a16c-fd8817266178",
   "metadata": {},
   "outputs": [
    {
     "data": {
      "text/plain": [
       "Studio\n",
       "Buena Vista        73585.0\n",
       "Warner Brothers    58643.8\n",
       "Fox                50420.8\n",
       "Universal          44302.3\n",
       "Sony               32822.5\n",
       "Name: Gross, dtype: float64"
      ]
     },
     "execution_count": 79,
     "metadata": {},
     "output_type": "execute_result"
    }
   ],
   "source": [
    "# 그리고 각 제작사가 벌어들인 수익도 계산할 수 있습니다.\n",
    "movies.groupby('Studio').sum()['Gross'].sort_values(ascending=False).head()"
   ]
  },
  {
   "cell_type": "code",
   "execution_count": 81,
   "id": "3eb82d15-c5c1-4fe8-a28d-0ac6b9c944b0",
   "metadata": {},
   "outputs": [
    {
     "data": {
      "text/plain": [
       "Studio\n",
       "HC                        870.300000\n",
       "China Film Corporation    699.800000\n",
       "Newmarket                 611.900000\n",
       "Buena Vista               588.680000\n",
       "Lionsgate                 477.771429\n",
       "Name: Gross, dtype: float64"
      ]
     },
     "execution_count": 81,
     "metadata": {},
     "output_type": "execute_result"
    }
   ],
   "source": [
    "# 가장 많은 수익을 벌어들인 곳은 Buena Vista네요!!\n",
    "# 이번엔 평균수익을 볼까요?\n",
    "movies.groupby('Studio').mean()['Gross'].sort_values(ascending=False).head()"
   ]
  },
  {
   "cell_type": "code",
   "execution_count": 82,
   "id": "58e1228f-51f7-4077-b95b-9e406e74e1e6",
   "metadata": {},
   "outputs": [],
   "source": [
    "# 평균 수익이 가장 높은 곳은 HC인것 같네요. Buena Vista가 총 수익률은 높지만, 평균이 낮은 이유는 성공하는 영화는 성공하고, 실패하는 영화는 완전히 실패하는 모양이군요!"
   ]
  },
  {
   "cell_type": "code",
   "execution_count": null,
   "id": "2f2887c6-08f6-4c5f-b3d6-c4e26f0c6025",
   "metadata": {},
   "outputs": [],
   "source": []
  }
 ],
 "metadata": {
  "kernelspec": {
   "display_name": "Python 3 (ipykernel)",
   "language": "python",
   "name": "python3"
  },
  "language_info": {
   "codemirror_mode": {
    "name": "ipython",
    "version": 3
   },
   "file_extension": ".py",
   "mimetype": "text/x-python",
   "name": "python",
   "nbconvert_exporter": "python",
   "pygments_lexer": "ipython3",
   "version": "3.9.6"
  }
 },
 "nbformat": 4,
 "nbformat_minor": 5
}
